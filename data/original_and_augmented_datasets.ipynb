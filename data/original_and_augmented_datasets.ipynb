{
 "cells": [
  {
   "cell_type": "code",
   "execution_count": 1,
   "id": "f0719325",
   "metadata": {},
   "outputs": [],
   "source": [
    "import json\n",
    "import pandas as pd"
   ]
  },
  {
   "cell_type": "markdown",
   "id": "5e620194",
   "metadata": {},
   "source": [
    "## Creating original dataset files from data_full.json"
   ]
  },
  {
   "cell_type": "code",
   "execution_count": 2,
   "id": "95404b95",
   "metadata": {},
   "outputs": [],
   "source": [
    "with open('../original_repository_files/data/data_full.json') as json_data:\n",
    "    data = json.load(json_data)"
   ]
  },
  {
   "cell_type": "code",
   "execution_count": 3,
   "id": "85c04930",
   "metadata": {},
   "outputs": [
    {
     "name": "stdout",
     "output_type": "stream",
     "text": [
      "<class 'pandas.core.frame.DataFrame'>\n",
      "RangeIndex: 15100 entries, 0 to 15099\n",
      "Data columns (total 2 columns):\n",
      " #   Column  Non-Null Count  Dtype \n",
      "---  ------  --------------  ----- \n",
      " 0   query   15100 non-null  object\n",
      " 1   label   15100 non-null  object\n",
      "dtypes: object(2)\n",
      "memory usage: 236.1+ KB\n"
     ]
    }
   ],
   "source": [
    "df_train_data = pd.DataFrame(data['train'] + data['oos_train'])\n",
    "df_train_data.columns = ['query', 'label']\n",
    "df_train_data = df_train_data.sample(frac=1).reset_index(drop=True)\n",
    "df_train_data.info()"
   ]
  },
  {
   "cell_type": "code",
   "execution_count": 5,
   "id": "57d16e81",
   "metadata": {},
   "outputs": [
    {
     "name": "stdout",
     "output_type": "stream",
     "text": [
      "<class 'pandas.core.frame.DataFrame'>\n",
      "RangeIndex: 3100 entries, 0 to 3099\n",
      "Data columns (total 2 columns):\n",
      " #   Column  Non-Null Count  Dtype \n",
      "---  ------  --------------  ----- \n",
      " 0   query   3100 non-null   object\n",
      " 1   label   3100 non-null   object\n",
      "dtypes: object(2)\n",
      "memory usage: 48.6+ KB\n"
     ]
    }
   ],
   "source": [
    "df_val_data = pd.DataFrame(data['val'] + data['oos_val'])\n",
    "df_val_data.columns = ['query', 'label']\n",
    "df_val_data = df_val_data.sample(frac=1).reset_index(drop=True)\n",
    "df_val_data.info()"
   ]
  },
  {
   "cell_type": "code",
   "execution_count": 7,
   "id": "641a6a23",
   "metadata": {},
   "outputs": [
    {
     "name": "stdout",
     "output_type": "stream",
     "text": [
      "<class 'pandas.core.frame.DataFrame'>\n",
      "RangeIndex: 5500 entries, 0 to 5499\n",
      "Data columns (total 2 columns):\n",
      " #   Column  Non-Null Count  Dtype \n",
      "---  ------  --------------  ----- \n",
      " 0   query   5500 non-null   object\n",
      " 1   label   5500 non-null   object\n",
      "dtypes: object(2)\n",
      "memory usage: 86.1+ KB\n"
     ]
    }
   ],
   "source": [
    "df_test_data = pd.DataFrame(data['test'] + data['oos_test'])\n",
    "df_test_data.columns = ['query', 'label']\n",
    "df_test_data = df_test_data.sample(frac=1).reset_index(drop=True)\n",
    "df_test_data.info()"
   ]
  },
  {
   "cell_type": "code",
   "execution_count": 8,
   "id": "d9a30694",
   "metadata": {},
   "outputs": [],
   "source": [
    "df_train_data.to_csv(\"original_dataset/original_train_data.csv\", index = False)\n",
    "df_val_data.to_csv(\"original_dataset/original_val_data.csv\", index = False)\n",
    "df_test_data.to_csv(\"original_dataset/original_test_data.csv\", index = False)"
   ]
  },
  {
   "cell_type": "markdown",
   "id": "4afa7f65",
   "metadata": {},
   "source": [
    "## Creating augmented dataset files with generated queries"
   ]
  },
  {
   "cell_type": "code",
   "execution_count": 9,
   "id": "0be57c4d",
   "metadata": {},
   "outputs": [],
   "source": [
    "og_train_data = pd.read_csv('original_dataset/original_train_data.csv')\n",
    "og_val_data = pd.read_csv('original_dataset/original_val_data.csv')\n",
    "og_test_data = pd.read_csv('original_dataset/original_test_data.csv')"
   ]
  },
  {
   "cell_type": "code",
   "execution_count": 12,
   "id": "8df89ee6",
   "metadata": {},
   "outputs": [
    {
     "data": {
      "text/html": [
       "<div>\n",
       "<style scoped>\n",
       "    .dataframe tbody tr th:only-of-type {\n",
       "        vertical-align: middle;\n",
       "    }\n",
       "\n",
       "    .dataframe tbody tr th {\n",
       "        vertical-align: top;\n",
       "    }\n",
       "\n",
       "    .dataframe thead th {\n",
       "        text-align: right;\n",
       "    }\n",
       "</style>\n",
       "<table border=\"1\" class=\"dataframe\">\n",
       "  <thead>\n",
       "    <tr style=\"text-align: right;\">\n",
       "      <th></th>\n",
       "      <th>query</th>\n",
       "      <th>label</th>\n",
       "    </tr>\n",
       "  </thead>\n",
       "  <tbody>\n",
       "    <tr>\n",
       "      <th>0</th>\n",
       "      <td>can i make a reservation at the red lobster ne...</td>\n",
       "      <td>accept_reservations</td>\n",
       "    </tr>\n",
       "    <tr>\n",
       "      <th>1</th>\n",
       "      <td>is it possible to book a table at olive garden...</td>\n",
       "      <td>accept_reservations</td>\n",
       "    </tr>\n",
       "    <tr>\n",
       "      <th>2</th>\n",
       "      <td>i want to know if the cheesecake factory takes...</td>\n",
       "      <td>accept_reservations</td>\n",
       "    </tr>\n",
       "    <tr>\n",
       "      <th>3</th>\n",
       "      <td>does applebee's accept reservations?</td>\n",
       "      <td>accept_reservations</td>\n",
       "    </tr>\n",
       "    <tr>\n",
       "      <th>4</th>\n",
       "      <td>can i reserve a table at outback steakhouse?</td>\n",
       "      <td>accept_reservations</td>\n",
       "    </tr>\n",
       "  </tbody>\n",
       "</table>\n",
       "</div>"
      ],
      "text/plain": [
       "                                               query                label\n",
       "0  can i make a reservation at the red lobster ne...  accept_reservations\n",
       "1  is it possible to book a table at olive garden...  accept_reservations\n",
       "2  i want to know if the cheesecake factory takes...  accept_reservations\n",
       "3               does applebee's accept reservations?  accept_reservations\n",
       "4       can i reserve a table at outback steakhouse?  accept_reservations"
      ]
     },
     "execution_count": 12,
     "metadata": {},
     "output_type": "execute_result"
    }
   ],
   "source": [
    "generated_data = pd.read_excel('generated_queries/generated_data.xlsx', sheet_name='generated_data_v2')\n",
    "generated_data['query'] = generated_data['query'].str.lower()\n",
    "generated_data.head()"
   ]
  },
  {
   "cell_type": "code",
   "execution_count": 13,
   "id": "31412f33",
   "metadata": {},
   "outputs": [],
   "source": [
    "with open('../original_repository_files/data/data_oos_plus.json') as json_data:\n",
    "    oos_data = json.load(json_data)\n",
    "\n",
    "additional_oos_data = pd.DataFrame(oos_data['oos_train'])\n",
    "additional_oos_data.columns = ['query', 'label']\n",
    "\n",
    "# Randomly select 100 rows from the dataframe\n",
    "random_rows = additional_oos_data.sample(n=100, random_state=42)\n",
    "\n",
    "# Reduce the dataframe to the 100 random rows\n",
    "additional_oos_data = additional_oos_data.loc[random_rows.index]"
   ]
  },
  {
   "cell_type": "code",
   "execution_count": 14,
   "id": "0f220e14",
   "metadata": {},
   "outputs": [
    {
     "data": {
      "text/html": [
       "<div>\n",
       "<style scoped>\n",
       "    .dataframe tbody tr th:only-of-type {\n",
       "        vertical-align: middle;\n",
       "    }\n",
       "\n",
       "    .dataframe tbody tr th {\n",
       "        vertical-align: top;\n",
       "    }\n",
       "\n",
       "    .dataframe thead th {\n",
       "        text-align: right;\n",
       "    }\n",
       "</style>\n",
       "<table border=\"1\" class=\"dataframe\">\n",
       "  <thead>\n",
       "    <tr style=\"text-align: right;\">\n",
       "      <th></th>\n",
       "      <th>query</th>\n",
       "      <th>label</th>\n",
       "    </tr>\n",
       "  </thead>\n",
       "  <tbody>\n",
       "    <tr>\n",
       "      <th>0</th>\n",
       "      <td>can you check my reservations for mortons unde...</td>\n",
       "      <td>confirm_reservation</td>\n",
       "    </tr>\n",
       "    <tr>\n",
       "      <th>1</th>\n",
       "      <td>find me a place to stay in cali november 11 to 15</td>\n",
       "      <td>book_hotel</td>\n",
       "    </tr>\n",
       "    <tr>\n",
       "      <th>2</th>\n",
       "      <td>i need you to increase the speaker volume</td>\n",
       "      <td>change_volume</td>\n",
       "    </tr>\n",
       "    <tr>\n",
       "      <th>3</th>\n",
       "      <td>can you inform me of the time?</td>\n",
       "      <td>time</td>\n",
       "    </tr>\n",
       "    <tr>\n",
       "      <th>4</th>\n",
       "      <td>can i set up direct deposit for my fellowship ...</td>\n",
       "      <td>direct_deposit</td>\n",
       "    </tr>\n",
       "  </tbody>\n",
       "</table>\n",
       "</div>"
      ],
      "text/plain": [
       "                                               query                label\n",
       "0  can you check my reservations for mortons unde...  confirm_reservation\n",
       "1  find me a place to stay in cali november 11 to 15           book_hotel\n",
       "2          i need you to increase the speaker volume        change_volume\n",
       "3                     can you inform me of the time?                 time\n",
       "4  can i set up direct deposit for my fellowship ...       direct_deposit"
      ]
     },
     "execution_count": 14,
     "metadata": {},
     "output_type": "execute_result"
    }
   ],
   "source": [
    "augmented_test_data = pd.concat([og_train_data, generated_data, additional_oos_data], axis=0)\n",
    "augmented_test_data = augmented_test_data.sample(frac=1).reset_index(drop=True)\n",
    "augmented_test_data.head()"
   ]
  },
  {
   "cell_type": "code",
   "execution_count": 15,
   "id": "66432177",
   "metadata": {},
   "outputs": [],
   "source": [
    "augmented_test_data.to_csv(\"augmented_dataset/augmented_train_data.csv\", index = False)"
   ]
  },
  {
   "cell_type": "code",
   "execution_count": null,
   "id": "bc565101",
   "metadata": {},
   "outputs": [],
   "source": []
  }
 ],
 "metadata": {
  "kernelspec": {
   "display_name": "Python [conda env:myenv] *",
   "language": "python",
   "name": "conda-env-myenv-py"
  },
  "language_info": {
   "codemirror_mode": {
    "name": "ipython",
    "version": 3
   },
   "file_extension": ".py",
   "mimetype": "text/x-python",
   "name": "python",
   "nbconvert_exporter": "python",
   "pygments_lexer": "ipython3",
   "version": "3.9.15"
  }
 },
 "nbformat": 4,
 "nbformat_minor": 5
}
