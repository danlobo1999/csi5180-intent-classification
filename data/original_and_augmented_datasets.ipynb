{
 "cells": [
  {
   "cell_type": "code",
   "execution_count": 2,
   "id": "f0719325",
   "metadata": {},
   "outputs": [],
   "source": [
    "import json\n",
    "import pandas as pd"
   ]
  },
  {
   "cell_type": "markdown",
   "id": "5e620194",
   "metadata": {},
   "source": [
    "## Creating original dataset files from data_full.json"
   ]
  },
  {
   "cell_type": "code",
   "execution_count": 2,
   "id": "95404b95",
   "metadata": {},
   "outputs": [],
   "source": [
    "with open('../original_repository_files/data/data_full.json') as json_data:\n",
    "    data = json.load(json_data)"
   ]
  },
  {
   "cell_type": "code",
   "execution_count": 3,
   "id": "85c04930",
   "metadata": {},
   "outputs": [
    {
     "data": {
      "text/html": [
       "<div>\n",
       "<style scoped>\n",
       "    .dataframe tbody tr th:only-of-type {\n",
       "        vertical-align: middle;\n",
       "    }\n",
       "\n",
       "    .dataframe tbody tr th {\n",
       "        vertical-align: top;\n",
       "    }\n",
       "\n",
       "    .dataframe thead th {\n",
       "        text-align: right;\n",
       "    }\n",
       "</style>\n",
       "<table border=\"1\" class=\"dataframe\">\n",
       "  <thead>\n",
       "    <tr style=\"text-align: right;\">\n",
       "      <th></th>\n",
       "      <th>query</th>\n",
       "      <th>label</th>\n",
       "    </tr>\n",
       "  </thead>\n",
       "  <tbody>\n",
       "    <tr>\n",
       "      <th>0</th>\n",
       "      <td>i need an uber to get to dulles airport</td>\n",
       "      <td>uber</td>\n",
       "    </tr>\n",
       "    <tr>\n",
       "      <th>1</th>\n",
       "      <td>what is the full date after today</td>\n",
       "      <td>date</td>\n",
       "    </tr>\n",
       "    <tr>\n",
       "      <th>2</th>\n",
       "      <td>can you please tell me the interest rate for c...</td>\n",
       "      <td>interest_rate</td>\n",
       "    </tr>\n",
       "    <tr>\n",
       "      <th>3</th>\n",
       "      <td>what types of subjects do you know</td>\n",
       "      <td>what_can_i_ask_you</td>\n",
       "    </tr>\n",
       "    <tr>\n",
       "      <th>4</th>\n",
       "      <td>i do not believe that that is correct</td>\n",
       "      <td>no</td>\n",
       "    </tr>\n",
       "  </tbody>\n",
       "</table>\n",
       "</div>"
      ],
      "text/plain": [
       "                                               query               label\n",
       "0            i need an uber to get to dulles airport                uber\n",
       "1                  what is the full date after today                date\n",
       "2  can you please tell me the interest rate for c...       interest_rate\n",
       "3                 what types of subjects do you know  what_can_i_ask_you\n",
       "4              i do not believe that that is correct                  no"
      ]
     },
     "execution_count": 3,
     "metadata": {},
     "output_type": "execute_result"
    }
   ],
   "source": [
    "df_train_data = pd.DataFrame(data['train'] + data['oos_train'])\n",
    "df_train_data.columns = ['query', 'label']\n",
    "df_train_data = df_train_data.sample(frac=1).reset_index(drop=True)\n",
    "df_train_data.head()"
   ]
  },
  {
   "cell_type": "code",
   "execution_count": 4,
   "id": "57d16e81",
   "metadata": {},
   "outputs": [
    {
     "data": {
      "text/html": [
       "<div>\n",
       "<style scoped>\n",
       "    .dataframe tbody tr th:only-of-type {\n",
       "        vertical-align: middle;\n",
       "    }\n",
       "\n",
       "    .dataframe tbody tr th {\n",
       "        vertical-align: top;\n",
       "    }\n",
       "\n",
       "    .dataframe thead th {\n",
       "        text-align: right;\n",
       "    }\n",
       "</style>\n",
       "<table border=\"1\" class=\"dataframe\">\n",
       "  <thead>\n",
       "    <tr style=\"text-align: right;\">\n",
       "      <th></th>\n",
       "      <th>query</th>\n",
       "      <th>label</th>\n",
       "    </tr>\n",
       "  </thead>\n",
       "  <tbody>\n",
       "    <tr>\n",
       "      <th>0</th>\n",
       "      <td>when is my flight expected to arrive</td>\n",
       "      <td>flight_status</td>\n",
       "    </tr>\n",
       "    <tr>\n",
       "      <th>1</th>\n",
       "      <td>could be there be a good amount of money in my...</td>\n",
       "      <td>balance</td>\n",
       "    </tr>\n",
       "    <tr>\n",
       "      <th>2</th>\n",
       "      <td>please delete the items on my to do list</td>\n",
       "      <td>todo_list_update</td>\n",
       "    </tr>\n",
       "    <tr>\n",
       "      <th>3</th>\n",
       "      <td>that's a yes</td>\n",
       "      <td>yes</td>\n",
       "    </tr>\n",
       "    <tr>\n",
       "      <th>4</th>\n",
       "      <td>do you have any dogs or cats</td>\n",
       "      <td>do_you_have_pets</td>\n",
       "    </tr>\n",
       "  </tbody>\n",
       "</table>\n",
       "</div>"
      ],
      "text/plain": [
       "                                               query             label\n",
       "0               when is my flight expected to arrive     flight_status\n",
       "1  could be there be a good amount of money in my...           balance\n",
       "2           please delete the items on my to do list  todo_list_update\n",
       "3                                       that's a yes               yes\n",
       "4                       do you have any dogs or cats  do_you_have_pets"
      ]
     },
     "execution_count": 4,
     "metadata": {},
     "output_type": "execute_result"
    }
   ],
   "source": [
    "df_val_data = pd.DataFrame(data['val'] + data['oos_val'])\n",
    "df_val_data.columns = ['query', 'label']\n",
    "df_val_data = df_val_data.sample(frac=1).reset_index(drop=True)\n",
    "df_val_data.head()"
   ]
  },
  {
   "cell_type": "code",
   "execution_count": 5,
   "id": "641a6a23",
   "metadata": {},
   "outputs": [
    {
     "data": {
      "text/html": [
       "<div>\n",
       "<style scoped>\n",
       "    .dataframe tbody tr th:only-of-type {\n",
       "        vertical-align: middle;\n",
       "    }\n",
       "\n",
       "    .dataframe tbody tr th {\n",
       "        vertical-align: top;\n",
       "    }\n",
       "\n",
       "    .dataframe thead th {\n",
       "        text-align: right;\n",
       "    }\n",
       "</style>\n",
       "<table border=\"1\" class=\"dataframe\">\n",
       "  <thead>\n",
       "    <tr style=\"text-align: right;\">\n",
       "      <th></th>\n",
       "      <th>query</th>\n",
       "      <th>label</th>\n",
       "    </tr>\n",
       "  </thead>\n",
       "  <tbody>\n",
       "    <tr>\n",
       "      <th>0</th>\n",
       "      <td>what sorts of activities should i get up to wh...</td>\n",
       "      <td>travel_suggestion</td>\n",
       "    </tr>\n",
       "    <tr>\n",
       "      <th>1</th>\n",
       "      <td>is my flight, dl123 on time</td>\n",
       "      <td>flight_status</td>\n",
       "    </tr>\n",
       "    <tr>\n",
       "      <th>2</th>\n",
       "      <td>i am interested in a new insurance plan</td>\n",
       "      <td>insurance_change</td>\n",
       "    </tr>\n",
       "    <tr>\n",
       "      <th>3</th>\n",
       "      <td>what's on my todo list</td>\n",
       "      <td>todo_list</td>\n",
       "    </tr>\n",
       "    <tr>\n",
       "      <th>4</th>\n",
       "      <td>i wanna find a hotel with good reviews in phoenix</td>\n",
       "      <td>book_hotel</td>\n",
       "    </tr>\n",
       "  </tbody>\n",
       "</table>\n",
       "</div>"
      ],
      "text/plain": [
       "                                               query              label\n",
       "0  what sorts of activities should i get up to wh...  travel_suggestion\n",
       "1                        is my flight, dl123 on time      flight_status\n",
       "2            i am interested in a new insurance plan   insurance_change\n",
       "3                             what's on my todo list          todo_list\n",
       "4  i wanna find a hotel with good reviews in phoenix         book_hotel"
      ]
     },
     "execution_count": 5,
     "metadata": {},
     "output_type": "execute_result"
    }
   ],
   "source": [
    "df_test_data = pd.DataFrame(data['test'] + data['test'])\n",
    "df_test_data.columns = ['query', 'label']\n",
    "df_test_data = df_test_data.sample(frac=1).reset_index(drop=True)\n",
    "df_test_data.head()"
   ]
  },
  {
   "cell_type": "code",
   "execution_count": 14,
   "id": "d9a30694",
   "metadata": {},
   "outputs": [],
   "source": [
    "df_train_data.to_csv(\"original_dataset/original_train_data.csv\", index = False)\n",
    "df_val_data.to_csv(\"original_dataset/original_val_data.csv\", index = False)\n",
    "df_test_data.to_csv(\"original_dataset/original_test_data.csv\", index = False)"
   ]
  },
  {
   "cell_type": "markdown",
   "id": "4afa7f65",
   "metadata": {},
   "source": [
    "## Creating augmented dataset files with generated queries"
   ]
  },
  {
   "cell_type": "code",
   "execution_count": 3,
   "id": "0be57c4d",
   "metadata": {},
   "outputs": [],
   "source": [
    "og_train_data = pd.read_csv('original_dataset/original_train_data.csv')\n",
    "og_val_data = pd.read_csv('original_dataset/original_val_data.csv')\n",
    "og_test_data = pd.read_csv('original_dataset/original_test_data.csv')"
   ]
  },
  {
   "cell_type": "code",
   "execution_count": 8,
   "id": "8df89ee6",
   "metadata": {},
   "outputs": [],
   "source": [
    "generated_data = pd.read_excel('generated_queries/generated_data.xlsx', sheet_name='generated_data_v2')"
   ]
  },
  {
   "cell_type": "code",
   "execution_count": 14,
   "id": "0f220e14",
   "metadata": {},
   "outputs": [
    {
     "data": {
      "text/html": [
       "<div>\n",
       "<style scoped>\n",
       "    .dataframe tbody tr th:only-of-type {\n",
       "        vertical-align: middle;\n",
       "    }\n",
       "\n",
       "    .dataframe tbody tr th {\n",
       "        vertical-align: top;\n",
       "    }\n",
       "\n",
       "    .dataframe thead th {\n",
       "        text-align: right;\n",
       "    }\n",
       "</style>\n",
       "<table border=\"1\" class=\"dataframe\">\n",
       "  <thead>\n",
       "    <tr style=\"text-align: right;\">\n",
       "      <th></th>\n",
       "      <th>query</th>\n",
       "      <th>label</th>\n",
       "    </tr>\n",
       "  </thead>\n",
       "  <tbody>\n",
       "    <tr>\n",
       "      <th>0</th>\n",
       "      <td>Can I get a credit limit increase if I don't u...</td>\n",
       "      <td>credit_limit_change</td>\n",
       "    </tr>\n",
       "    <tr>\n",
       "      <th>1</th>\n",
       "      <td>I need you to order a new set of baking sheets...</td>\n",
       "      <td>order</td>\n",
       "    </tr>\n",
       "    <tr>\n",
       "      <th>2</th>\n",
       "      <td>Can I transfer money to a different bank's mon...</td>\n",
       "      <td>transfer</td>\n",
       "    </tr>\n",
       "    <tr>\n",
       "      <th>3</th>\n",
       "      <td>Is it going to be cool outside?</td>\n",
       "      <td>weather</td>\n",
       "    </tr>\n",
       "    <tr>\n",
       "      <th>4</th>\n",
       "      <td>Can you create a timer for 1 hour and 30 minutes?</td>\n",
       "      <td>timer</td>\n",
       "    </tr>\n",
       "  </tbody>\n",
       "</table>\n",
       "</div>"
      ],
      "text/plain": [
       "                                               query                label\n",
       "0  Can I get a credit limit increase if I don't u...  credit_limit_change\n",
       "1  I need you to order a new set of baking sheets...                order\n",
       "2  Can I transfer money to a different bank's mon...             transfer\n",
       "3                    Is it going to be cool outside?              weather\n",
       "4  Can you create a timer for 1 hour and 30 minutes?                timer"
      ]
     },
     "execution_count": 14,
     "metadata": {},
     "output_type": "execute_result"
    }
   ],
   "source": [
    "augmented_test_data = pd.concat([og_train_data, generated_data], axis=0)\n",
    "augmented_test_data = augmented_test_data.sample(frac=1).reset_index(drop=True)\n",
    "augmented_test_data.head()"
   ]
  },
  {
   "cell_type": "code",
   "execution_count": 16,
   "id": "66432177",
   "metadata": {},
   "outputs": [],
   "source": [
    "augmented_test_data.to_csv(\"augmented_dataset/augmented_train_data.csv\", index = False)"
   ]
  },
  {
   "cell_type": "code",
   "execution_count": null,
   "id": "7501c8b1",
   "metadata": {},
   "outputs": [],
   "source": []
  }
 ],
 "metadata": {
  "kernelspec": {
   "display_name": "Python [conda env:myenv] *",
   "language": "python",
   "name": "conda-env-myenv-py"
  },
  "language_info": {
   "codemirror_mode": {
    "name": "ipython",
    "version": 3
   },
   "file_extension": ".py",
   "mimetype": "text/x-python",
   "name": "python",
   "nbconvert_exporter": "python",
   "pygments_lexer": "ipython3",
   "version": "3.9.15"
  }
 },
 "nbformat": 4,
 "nbformat_minor": 5
}
