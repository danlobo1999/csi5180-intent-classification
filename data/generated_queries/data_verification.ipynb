{
 "cells": [
  {
   "cell_type": "code",
   "execution_count": 1,
   "id": "59fb71a3",
   "metadata": {},
   "outputs": [],
   "source": [
    "import pandas as pd"
   ]
  },
  {
   "cell_type": "code",
   "execution_count": 28,
   "id": "5226cbf4",
   "metadata": {},
   "outputs": [],
   "source": [
    "df = pd.read_excel(\"./data/generated_data.xlsx\")"
   ]
  },
  {
   "cell_type": "code",
   "execution_count": 34,
   "id": "d3609d72",
   "metadata": {},
   "outputs": [],
   "source": [
    "validation_samples = df.groupby(\"label\").sample(20, random_state=0).reset_index()"
   ]
  },
  {
   "cell_type": "code",
   "execution_count": 35,
   "id": "17d57195",
   "metadata": {},
   "outputs": [
    {
     "data": {
      "text/plain": [
       "accept_reservations          100\n",
       "reminder                     100\n",
       "repeat                       100\n",
       "replacement_card_duration    100\n",
       "report_fraud                 100\n",
       "                            ... \n",
       "greeting                     100\n",
       "how_busy                     100\n",
       "how_old_are_you              100\n",
       "improve_credit_score         100\n",
       "yes                          100\n",
       "Name: label, Length: 150, dtype: int64"
      ]
     },
     "execution_count": 35,
     "metadata": {},
     "output_type": "execute_result"
    }
   ],
   "source": [
    "df.label.value_counts()"
   ]
  },
  {
   "cell_type": "code",
   "execution_count": 36,
   "id": "5d2417db",
   "metadata": {},
   "outputs": [
    {
     "data": {
      "text/plain": [
       "accept_reservations          20\n",
       "reminder                     20\n",
       "repeat                       20\n",
       "replacement_card_duration    20\n",
       "report_fraud                 20\n",
       "                             ..\n",
       "greeting                     20\n",
       "how_busy                     20\n",
       "how_old_are_you              20\n",
       "improve_credit_score         20\n",
       "yes                          20\n",
       "Name: label, Length: 150, dtype: int64"
      ]
     },
     "execution_count": 36,
     "metadata": {},
     "output_type": "execute_result"
    }
   ],
   "source": [
    "validation_samples.label.value_counts()"
   ]
  },
  {
   "cell_type": "code",
   "execution_count": 37,
   "id": "24555802",
   "metadata": {},
   "outputs": [],
   "source": [
    "validation_samples[\"Reviewer\"] = \"\"\n",
    "validation_samples.iloc[:1500,validation_samples.columns.get_loc(\"Reviewer\")] = \"Romario\"\n",
    "validation_samples.iloc[1500:,validation_samples.columns.get_loc(\"Reviewer\")] = \"Daniel\""
   ]
  },
  {
   "cell_type": "code",
   "execution_count": 42,
   "id": "ba174fbe",
   "metadata": {},
   "outputs": [],
   "source": [
    "validation_samples = validation_samples[[\"query\", \"label\", \"Reviewer\"]]"
   ]
  },
  {
   "cell_type": "code",
   "execution_count": 45,
   "id": "cf3834e3",
   "metadata": {},
   "outputs": [],
   "source": [
    "validation_samples.to_csv(\"./data/data_validation_file.csv\")"
   ]
  },
  {
   "cell_type": "code",
   "execution_count": null,
   "id": "6a34d543",
   "metadata": {},
   "outputs": [],
   "source": []
  }
 ],
 "metadata": {
  "kernelspec": {
   "display_name": "Python 3 (ipykernel)",
   "language": "python",
   "name": "python3"
  },
  "language_info": {
   "codemirror_mode": {
    "name": "ipython",
    "version": 3
   },
   "file_extension": ".py",
   "mimetype": "text/x-python",
   "name": "python",
   "nbconvert_exporter": "python",
   "pygments_lexer": "ipython3",
   "version": "3.10.4"
  }
 },
 "nbformat": 4,
 "nbformat_minor": 5
}
