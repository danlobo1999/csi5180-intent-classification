{
  "cells": [
    {
      "cell_type": "code",
      "execution_count": 3,
      "id": "6cf154a3",
      "metadata": {
        "id": "6cf154a3"
      },
      "outputs": [],
      "source": [
        "import pandas as pd\n",
        "from sklearn.cluster import KMeans\n",
        "from sklearn.metrics import classification_report\n",
        "import matplotlib.pyplot as plt\n",
        "import seaborn as sns\n",
        "from tqdm import tqdm\n",
        "from sentence_transformers import SentenceTransformer, util\n",
        "sns.set_theme()\n",
        "tqdm.pandas()"
      ]
    },
    {
      "cell_type": "markdown",
      "source": [
        "## For the training data, we use the augmented data rather than the original"
      ],
      "metadata": {
        "id": "jtIkt1BL-7Hj"
      },
      "id": "jtIkt1BL-7Hj"
    },
    {
      "cell_type": "code",
      "execution_count": 7,
      "id": "49591b5d",
      "metadata": {
        "id": "49591b5d"
      },
      "outputs": [],
      "source": [
        "df_train = pd.read_csv(\"../../data/augmented_dataset/augmented_train_data.csv\")\n",
        "df_eval = pd.read_csv(\"../../data/original_dataset/original_val_data.csv\")\n",
        "df_test = pd.read_csv(\"../../data/original_dataset/original_test_data.csv\")"
      ]
    },
    {
      "cell_type": "markdown",
      "id": "8c5e7d25",
      "metadata": {
        "id": "8c5e7d25"
      },
      "source": [
        "## Training data without OOS for the initial clustering:"
      ]
    },
    {
      "cell_type": "code",
      "execution_count": 8,
      "id": "1d0b65f0",
      "metadata": {
        "id": "1d0b65f0"
      },
      "outputs": [],
      "source": [
        "df_train_no_oos = df_train[df_train.label!=\"oos\"]"
      ]
    },
    {
      "cell_type": "code",
      "execution_count": 9,
      "id": "4016eaf1",
      "metadata": {
        "colab": {
          "base_uri": "https://localhost:8080/"
        },
        "id": "4016eaf1",
        "outputId": "bbb12462-9219-428c-8873-16c930b415fa"
      },
      "outputs": [
        {
          "output_type": "execute_result",
          "data": {
            "text/plain": [
              "((30200, 2), (30000, 2))"
            ]
          },
          "metadata": {},
          "execution_count": 9
        }
      ],
      "source": [
        "df_train.shape, df_train_no_oos.shape"
      ]
    },
    {
      "cell_type": "code",
      "execution_count": 10,
      "id": "c84f768e",
      "metadata": {
        "scrolled": true,
        "colab": {
          "base_uri": "https://localhost:8080/"
        },
        "id": "c84f768e",
        "outputId": "cd947a46-3a3c-4c1e-b45b-c565ec853557"
      },
      "outputs": [
        {
          "output_type": "execute_result",
          "data": {
            "text/plain": [
              "confirm_reservation    200\n",
              "change_accent          200\n",
              "who_made_you           200\n",
              "calendar_update        200\n",
              "report_fraud           200\n",
              "                      ... \n",
              "alarm                  200\n",
              "bill_due               200\n",
              "tire_change            200\n",
              "meeting_schedule       200\n",
              "insurance_change       200\n",
              "Name: label, Length: 151, dtype: int64"
            ]
          },
          "metadata": {},
          "execution_count": 10
        }
      ],
      "source": [
        "df_train.label.value_counts()"
      ]
    },
    {
      "cell_type": "markdown",
      "source": [
        "# Sentence Transformers - MPNET"
      ],
      "metadata": {
        "id": "EElUVcZ602da"
      },
      "id": "EElUVcZ602da"
    },
    {
      "cell_type": "code",
      "source": [
        "mpnet = SentenceTransformer(\"all-mpnet-base-v2\")"
      ],
      "metadata": {
        "id": "tFtl4-nI04aC"
      },
      "id": "tFtl4-nI04aC",
      "execution_count": 11,
      "outputs": []
    },
    {
      "cell_type": "code",
      "source": [
        "sentence_embeddings = []\n",
        "embedding_matrix = mpnet.encode(df_train_no_oos[\"query\"].values)\n",
        "for i in range(embedding_matrix.shape[0]):\n",
        "  sentence_embeddings.append(embedding_matrix[i])  \n",
        "\n",
        "df_train_no_oos[\"mpnet_embeddings_sentence\"] = sentence_embeddings"
      ],
      "metadata": {
        "colab": {
          "base_uri": "https://localhost:8080/"
        },
        "id": "aQCDo2uk09fD",
        "outputId": "abe55d00-31e4-4998-c0c0-a2891fb69a62"
      },
      "id": "aQCDo2uk09fD",
      "execution_count": 12,
      "outputs": [
        {
          "output_type": "stream",
          "name": "stderr",
          "text": [
            "<ipython-input-12-fb4de2061ae3>:6: SettingWithCopyWarning: \n",
            "A value is trying to be set on a copy of a slice from a DataFrame.\n",
            "Try using .loc[row_indexer,col_indexer] = value instead\n",
            "\n",
            "See the caveats in the documentation: https://pandas.pydata.org/pandas-docs/stable/user_guide/indexing.html#returning-a-view-versus-a-copy\n",
            "  df_train_no_oos[\"mpnet_embeddings_sentence\"] = sentence_embeddings\n"
          ]
        }
      ]
    },
    {
      "cell_type": "markdown",
      "id": "920fc685",
      "metadata": {
        "id": "920fc685"
      },
      "source": [
        "# Clustering with 150 clusters for 150 intents"
      ]
    },
    {
      "cell_type": "code",
      "source": [
        "(df_train_no_oos[\"mpnet_embeddings_sentence\"].values).shape"
      ],
      "metadata": {
        "colab": {
          "base_uri": "https://localhost:8080/"
        },
        "id": "lvzC911E4Jtx",
        "outputId": "901dca05-79a6-48c7-81b0-99822361539f"
      },
      "id": "lvzC911E4Jtx",
      "execution_count": 13,
      "outputs": [
        {
          "output_type": "execute_result",
          "data": {
            "text/plain": [
              "(30000,)"
            ]
          },
          "metadata": {},
          "execution_count": 13
        }
      ]
    },
    {
      "cell_type": "code",
      "execution_count": 14,
      "id": "25783286",
      "metadata": {
        "colab": {
          "base_uri": "https://localhost:8080/"
        },
        "id": "25783286",
        "outputId": "ed490a6e-93a2-4031-b1af-0b6736752038"
      },
      "outputs": [
        {
          "output_type": "stream",
          "name": "stderr",
          "text": [
            "/usr/local/lib/python3.9/dist-packages/sklearn/cluster/_kmeans.py:870: FutureWarning: The default value of `n_init` will change from 10 to 'auto' in 1.4. Set the value of `n_init` explicitly to suppress the warning\n",
            "  warnings.warn(\n"
          ]
        }
      ],
      "source": [
        "X = embedding_matrix\n",
        "kmeans = KMeans(n_clusters=150, random_state=0)\n",
        "clusters = kmeans.fit_predict(X)"
      ]
    },
    {
      "cell_type": "code",
      "execution_count": 14,
      "id": "3ce6cfaa",
      "metadata": {
        "id": "3ce6cfaa"
      },
      "outputs": [],
      "source": []
    },
    {
      "cell_type": "markdown",
      "id": "d26f9d0a",
      "metadata": {
        "id": "d26f9d0a"
      },
      "source": [
        "# Get distribution of each cluster"
      ]
    },
    {
      "cell_type": "code",
      "execution_count": 15,
      "id": "8585f90d",
      "metadata": {
        "colab": {
          "base_uri": "https://localhost:8080/"
        },
        "id": "8585f90d",
        "outputId": "5557da5b-e81e-473e-bced-18bb95cc7260"
      },
      "outputs": [
        {
          "output_type": "stream",
          "name": "stderr",
          "text": [
            "<ipython-input-15-ed4596975abd>:1: SettingWithCopyWarning: \n",
            "A value is trying to be set on a copy of a slice from a DataFrame.\n",
            "Try using .loc[row_indexer,col_indexer] = value instead\n",
            "\n",
            "See the caveats in the documentation: https://pandas.pydata.org/pandas-docs/stable/user_guide/indexing.html#returning-a-view-versus-a-copy\n",
            "  df_train_no_oos[\"cluster\"] = clusters\n"
          ]
        }
      ],
      "source": [
        "df_train_no_oos[\"cluster\"] = clusters"
      ]
    },
    {
      "cell_type": "code",
      "execution_count": 16,
      "id": "bfadae60",
      "metadata": {
        "colab": {
          "base_uri": "https://localhost:8080/"
        },
        "id": "bfadae60",
        "outputId": "11f58152-c636-4cc4-a6e4-4d6c9c00855a"
      },
      "outputs": [
        {
          "output_type": "execute_result",
          "data": {
            "text/plain": [
              "cluster  label           \n",
              "0        rewards_balance     0.507463\n",
              "         redeem_rewards      0.447761\n",
              "         new_card            0.029851\n",
              "         balance             0.014925\n",
              "1        pto_used            0.558442\n",
              "         pto_balance         0.415584\n",
              "         pto_request         0.025974\n",
              "2        text                0.500000\n",
              "         make_call           0.402116\n",
              "         alarm               0.021164\n",
              "         reminder_update     0.010582\n",
              "         share_location      0.010582\n",
              "         change_user_name    0.007937\n",
              "         smart_home          0.007937\n",
              "         next_song           0.005291\n",
              "         todo_list_update    0.005291\n",
              "         change_ai_name      0.002646\n",
              "         find_phone          0.002646\n",
              "         flip_coin           0.002646\n",
              "         order_checks        0.002646\n",
              "Name: label, dtype: float64"
            ]
          },
          "metadata": {},
          "execution_count": 16
        }
      ],
      "source": [
        "df_train_no_oos.groupby(\"cluster\")[\"label\"].value_counts(normalize=True)[:20]"
      ]
    },
    {
      "cell_type": "code",
      "execution_count": 17,
      "id": "a1fd6971",
      "metadata": {
        "colab": {
          "base_uri": "https://localhost:8080/"
        },
        "id": "a1fd6971",
        "outputId": "34e2788d-b177-47c3-e2cc-4cb81df30898"
      },
      "outputs": [
        {
          "output_type": "execute_result",
          "data": {
            "text/plain": [
              "label                cluster\n",
              "accept_reservations  21         0.745\n",
              "                     120        0.245\n",
              "                     66         0.005\n",
              "                     141        0.005\n",
              "account_blocked      124        0.970\n",
              "                                ...  \n",
              "yes                  56         0.275\n",
              "                     143        0.210\n",
              "                     32         0.010\n",
              "                     2          0.005\n",
              "                     129        0.005\n",
              "Name: cluster, Length: 690, dtype: float64"
            ]
          },
          "metadata": {},
          "execution_count": 17
        }
      ],
      "source": [
        "df_train_no_oos.groupby(\"label\")[\"cluster\"].value_counts(normalize=True)"
      ]
    },
    {
      "cell_type": "code",
      "execution_count": 18,
      "id": "aaec9711",
      "metadata": {
        "colab": {
          "base_uri": "https://localhost:8080/"
        },
        "id": "aaec9711",
        "outputId": "69ee75a5-12c3-4515-b39f-f873b888d598"
      },
      "outputs": [
        {
          "output_type": "execute_result",
          "data": {
            "text/plain": [
              "query                        can you check my reservations for mortons unde...\n",
              "label                                                      confirm_reservation\n",
              "mpnet_embeddings_sentence    [-0.03722523, 0.07223329, -0.016858665, 0.0936...\n",
              "cluster                                                                    116\n",
              "Name: 0, dtype: object"
            ]
          },
          "metadata": {},
          "execution_count": 18
        }
      ],
      "source": [
        "df_train_no_oos.iloc[0]"
      ]
    },
    {
      "cell_type": "code",
      "execution_count": 19,
      "id": "f0a79d8f",
      "metadata": {
        "colab": {
          "base_uri": "https://localhost:8080/"
        },
        "id": "f0a79d8f",
        "outputId": "964763c5-8c32-4ab1-93bc-ae2bd30efa93"
      },
      "outputs": [
        {
          "output_type": "execute_result",
          "data": {
            "text/plain": [
              "array([[1.1393095 , 1.2127732 , 1.0056839 , 1.1554775 , 1.0221534 ,\n",
              "        1.1848508 , 1.1187212 , 1.1592356 , 1.011503  , 1.0740016 ,\n",
              "        1.0268927 , 1.146539  , 1.164491  , 1.1858628 , 1.1861933 ,\n",
              "        1.0771923 , 1.1608479 , 1.2234731 , 1.1191927 , 1.2232095 ,\n",
              "        1.1782984 , 0.80868286, 1.1155758 , 1.1722741 , 1.196751  ,\n",
              "        1.1933237 , 1.0935552 , 1.087557  , 0.9888612 , 1.2383006 ,\n",
              "        1.2110554 , 0.9437184 , 1.0987614 , 1.2186918 , 1.1781706 ,\n",
              "        1.0797024 , 1.2172322 , 1.2137471 , 1.1823242 , 1.1020275 ,\n",
              "        1.2168095 , 1.2150918 , 1.1322027 , 1.2171804 , 1.151868  ,\n",
              "        1.216646  , 1.0315777 , 1.1628863 , 1.2632675 , 1.1314167 ,\n",
              "        1.2551006 , 1.1270885 , 1.0193366 , 1.1327405 , 1.2172883 ,\n",
              "        1.2293589 , 1.1009564 , 1.1133647 , 1.1344264 , 1.1754225 ,\n",
              "        1.1079631 , 1.1308843 , 1.032964  , 1.1210265 , 1.133652  ,\n",
              "        1.2022934 , 0.9684338 , 1.2515777 , 1.2643623 , 1.1450238 ,\n",
              "        1.2049158 , 1.1193397 , 1.1619178 , 1.1562953 , 1.1515172 ,\n",
              "        1.1431272 , 0.96181905, 1.258912  , 1.1375842 , 1.1360935 ,\n",
              "        1.1219188 , 1.1643449 , 1.0831982 , 1.1657875 , 1.1555252 ,\n",
              "        1.2110997 , 1.0855409 , 1.0606536 , 1.1415756 , 1.1064447 ,\n",
              "        1.1348794 , 1.2110858 , 1.1899062 , 1.1559037 , 1.1550981 ,\n",
              "        1.0561974 , 1.0833219 , 1.1027786 , 1.0512526 , 1.1768943 ,\n",
              "        1.0888785 , 1.1056842 , 1.0460869 , 1.0503607 , 1.3047415 ,\n",
              "        1.2997757 , 1.1289321 , 1.0858105 , 1.1260201 , 1.1070476 ,\n",
              "        1.0279397 , 1.1681416 , 1.1224953 , 1.2563508 , 1.1974031 ,\n",
              "        1.1139749 , 0.78977   , 1.0824223 , 1.195021  , 1.0978252 ,\n",
              "        0.8739006 , 1.18434   , 1.0640874 , 1.1095762 , 1.1435342 ,\n",
              "        1.1499301 , 1.2177322 , 1.093521  , 1.1320521 , 1.109653  ,\n",
              "        1.1361957 , 1.2210094 , 1.0922633 , 1.1194578 , 1.1248884 ,\n",
              "        1.1393366 , 1.1670591 , 1.146141  , 1.1703339 , 1.0744518 ,\n",
              "        1.1199255 , 0.9077505 , 1.2205244 , 1.0935329 , 0.9702956 ,\n",
              "        1.0481453 , 1.0811733 , 0.98331124, 1.1552497 , 1.2309793 ]],\n",
              "      dtype=float32)"
            ]
          },
          "metadata": {},
          "execution_count": 19
        }
      ],
      "source": [
        "kmeans.transform(mpnet.encode([df_train_no_oos[\"query\"].iloc[0]]))"
      ]
    },
    {
      "cell_type": "code",
      "execution_count": 20,
      "id": "d4fcf361",
      "metadata": {
        "id": "d4fcf361"
      },
      "outputs": [],
      "source": [
        "def compute_distance_of_closest_cluster(df):\n",
        "    cluster_distances = kmeans.transform(mpnet.encode(df[\"query\"].values))\n",
        "    cluster_min_distances = cluster_distances.min(axis=1)\n",
        "    df[\"min_distances\"] = cluster_min_distances\n",
        "    "
      ]
    },
    {
      "cell_type": "code",
      "execution_count": 21,
      "id": "bcb3f268",
      "metadata": {
        "colab": {
          "base_uri": "https://localhost:8080/"
        },
        "id": "bcb3f268",
        "outputId": "39dfd51a-2147-4f73-fed4-1a77a5399e26"
      },
      "outputs": [
        {
          "output_type": "stream",
          "name": "stderr",
          "text": [
            "<ipython-input-20-fdf4798851b4>:4: SettingWithCopyWarning: \n",
            "A value is trying to be set on a copy of a slice from a DataFrame.\n",
            "Try using .loc[row_indexer,col_indexer] = value instead\n",
            "\n",
            "See the caveats in the documentation: https://pandas.pydata.org/pandas-docs/stable/user_guide/indexing.html#returning-a-view-versus-a-copy\n",
            "  df[\"min_distances\"] = cluster_min_distances\n"
          ]
        }
      ],
      "source": [
        "compute_distance_of_closest_cluster(df_train_no_oos)"
      ]
    },
    {
      "cell_type": "code",
      "execution_count": 22,
      "id": "39d4191e",
      "metadata": {
        "colab": {
          "base_uri": "https://localhost:8080/",
          "height": 474
        },
        "id": "39d4191e",
        "outputId": "9d26e63a-92af-4312-a1e7-0a5898249560"
      },
      "outputs": [
        {
          "output_type": "execute_result",
          "data": {
            "text/plain": [
              "Text(0.5, 1.0, 'Distance to closest centres for in-scope intent queries')"
            ]
          },
          "metadata": {},
          "execution_count": 22
        },
        {
          "output_type": "display_data",
          "data": {
            "text/plain": [
              "<Figure size 640x480 with 1 Axes>"
            ],
            "image/png": "[encoded data removed]"
          },
          "metadata": {}
        }
      ],
      "source": [
        "df_train_no_oos.min_distances.hist(bins=20)\n",
        "plt.title(\"Distance to closest centres for in-scope intent queries\")"
      ]
    },
    {
      "cell_type": "code",
      "execution_count": 23,
      "id": "e9b3d8b2",
      "metadata": {
        "id": "e9b3d8b2"
      },
      "outputs": [],
      "source": [
        "df_train_oos = df_train[df_train.label==\"oos\"]"
      ]
    },
    {
      "cell_type": "code",
      "execution_count": 24,
      "id": "ebca1d05",
      "metadata": {
        "colab": {
          "base_uri": "https://localhost:8080/",
          "height": 598
        },
        "id": "ebca1d05",
        "outputId": "aa0e8bef-084e-406f-ab27-f7024ec461ab"
      },
      "outputs": [
        {
          "output_type": "stream",
          "name": "stderr",
          "text": [
            "<ipython-input-20-fdf4798851b4>:4: SettingWithCopyWarning: \n",
            "A value is trying to be set on a copy of a slice from a DataFrame.\n",
            "Try using .loc[row_indexer,col_indexer] = value instead\n",
            "\n",
            "See the caveats in the documentation: https://pandas.pydata.org/pandas-docs/stable/user_guide/indexing.html#returning-a-view-versus-a-copy\n",
            "  df[\"min_distances\"] = cluster_min_distances\n"
          ]
        },
        {
          "output_type": "execute_result",
          "data": {
            "text/plain": [
              "Text(0.5, 1.0, 'Distance to closest centres for out-of-scope intent queries')"
            ]
          },
          "metadata": {},
          "execution_count": 24
        },
        {
          "output_type": "display_data",
          "data": {
            "text/plain": [
              "<Figure size 640x480 with 1 Axes>"
            ],
            "image/png": "[encoded data removed]"
          },
          "metadata": {}
        }
      ],
      "source": [
        "compute_distance_of_closest_cluster(df_train_oos)\n",
        "df_train_oos.min_distances.hist(bins=20)\n",
        "plt.title(\"Distance to closest centres for out-of-scope intent queries\")"
      ]
    },
    {
      "cell_type": "code",
      "execution_count": 25,
      "id": "f1f12c75",
      "metadata": {
        "colab": {
          "base_uri": "https://localhost:8080/",
          "height": 423
        },
        "id": "f1f12c75",
        "outputId": "1e22276a-ba0a-42e9-d89d-e4adf8957102"
      },
      "outputs": [
        {
          "output_type": "execute_result",
          "data": {
            "text/plain": [
              "                                                   query label  min_distances\n",
              "22                                    how long is winter   oos       1.047784\n",
              "259                      how can i protect myself online   oos       0.990066\n",
              "417                     how fast does an airplane travel   oos       1.037231\n",
              "925                  please explain the catch rule to me   oos       1.016528\n",
              "1086                  can you list me tiger wood's stats   oos       1.001645\n",
              "...                                                  ...   ...            ...\n",
              "29759  are there any local stations covering the mora...   oos       0.977413\n",
              "29786                  can you send an email to client b   oos       1.002418\n",
              "29821                     how can i get involved in yoga   oos       1.039758\n",
              "30013                 how do i change my billing address   oos       0.912187\n",
              "30043              what does it mean to be an alpha male   oos       1.013498\n",
              "\n",
              "[200 rows x 3 columns]"
            ],
            "text/html": [
              "\n",
              "  <div id=\"df-7fa07388-442a-4d31-8b25-706480eaba61\">\n",
              "    <div class=\"colab-df-container\">\n",
              "      <div>\n",
              "<style scoped>\n",
              "    .dataframe tbody tr th:only-of-type {\n",
              "        vertical-align: middle;\n",
              "    }\n",
              "\n",
              "    .dataframe tbody tr th {\n",
              "        vertical-align: top;\n",
              "    }\n",
              "\n",
              "    .dataframe thead th {\n",
              "        text-align: right;\n",
              "    }\n",
              "</style>\n",
              "<table border=\"1\" class=\"dataframe\">\n",
              "  <thead>\n",
              "    <tr style=\"text-align: right;\">\n",
              "      <th></th>\n",
              "      <th>query</th>\n",
              "      <th>label</th>\n",
              "      <th>min_distances</th>\n",
              "    </tr>\n",
              "  </thead>\n",
              "  <tbody>\n",
              "    <tr>\n",
              "      <th>22</th>\n",
              "      <td>how long is winter</td>\n",
              "      <td>oos</td>\n",
              "      <td>1.047784</td>\n",
              "    </tr>\n",
              "    <tr>\n",
              "      <th>259</th>\n",
              "      <td>how can i protect myself online</td>\n",
              "      <td>oos</td>\n",
              "      <td>0.990066</td>\n",
              "    </tr>\n",
              "    <tr>\n",
              "      <th>417</th>\n",
              "      <td>how fast does an airplane travel</td>\n",
              "      <td>oos</td>\n",
              "      <td>1.037231</td>\n",
              "    </tr>\n",
              "    <tr>\n",
              "      <th>925</th>\n",
              "      <td>please explain the catch rule to me</td>\n",
              "      <td>oos</td>\n",
              "      <td>1.016528</td>\n",
              "    </tr>\n",
              "    <tr>\n",
              "      <th>1086</th>\n",
              "      <td>can you list me tiger wood's stats</td>\n",
              "      <td>oos</td>\n",
              "      <td>1.001645</td>\n",
              "    </tr>\n",
              "    <tr>\n",
              "      <th>...</th>\n",
              "      <td>...</td>\n",
              "      <td>...</td>\n",
              "      <td>...</td>\n",
              "    </tr>\n",
              "    <tr>\n",
              "      <th>29759</th>\n",
              "      <td>are there any local stations covering the mora...</td>\n",
              "      <td>oos</td>\n",
              "      <td>0.977413</td>\n",
              "    </tr>\n",
              "    <tr>\n",
              "      <th>29786</th>\n",
              "      <td>can you send an email to client b</td>\n",
              "      <td>oos</td>\n",
              "      <td>1.002418</td>\n",
              "    </tr>\n",
              "    <tr>\n",
              "      <th>29821</th>\n",
              "      <td>how can i get involved in yoga</td>\n",
              "      <td>oos</td>\n",
              "      <td>1.039758</td>\n",
              "    </tr>\n",
              "    <tr>\n",
              "      <th>30013</th>\n",
              "      <td>how do i change my billing address</td>\n",
              "      <td>oos</td>\n",
              "      <td>0.912187</td>\n",
              "    </tr>\n",
              "    <tr>\n",
              "      <th>30043</th>\n",
              "      <td>what does it mean to be an alpha male</td>\n",
              "      <td>oos</td>\n",
              "      <td>1.013498</td>\n",
              "    </tr>\n",
              "  </tbody>\n",
              "</table>\n",
              "<p>200 rows × 3 columns</p>\n",
              "</div>\n",
              "      <button class=\"colab-df-convert\" onclick=\"convertToInteractive('df-7fa07388-442a-4d31-8b25-706480eaba61')\"\n",
              "              title=\"Convert this dataframe to an interactive table.\"\n",
              "              style=\"display:none;\">\n",
              "        \n",
              "  <svg xmlns=\"http://www.w3.org/2000/svg\" height=\"24px\"viewBox=\"0 0 24 24\"\n",
              "       width=\"24px\">\n",
              "    <path d=\"M0 0h24v24H0V0z\" fill=\"none\"/>\n",
              "    <path d=\"M18.56 5.44l.94 2.06.94-2.06 2.06-.94-2.06-.94-.94-2.06-.94 2.06-2.06.94zm-11 1L8.5 8.5l.94-2.06 2.06-.94-2.06-.94L8.5 2.5l-.94 2.06-2.06.94zm10 10l.94 2.06.94-2.06 2.06-.94-2.06-.94-.94-2.06-.94 2.06-2.06.94z\"/><path d=\"M17.41 7.96l-1.37-1.37c-.4-.4-.92-.59-1.43-.59-.52 0-1.04.2-1.43.59L10.3 9.45l-7.72 7.72c-.78.78-.78 2.05 0 2.83L4 21.41c.39.39.9.59 1.41.59.51 0 1.02-.2 1.41-.59l7.78-7.78 2.81-2.81c.8-.78.8-2.07 0-2.86zM5.41 20L4 18.59l7.72-7.72 1.47 1.35L5.41 20z\"/>\n",
              "  </svg>\n",
              "      </button>\n",
              "      \n",
              "  <style>\n",
              "    .colab-df-container {\n",
              "      display:flex;\n",
              "      flex-wrap:wrap;\n",
              "      gap: 12px;\n",
              "    }\n",
              "\n",
              "    .colab-df-convert {\n",
              "      background-color: #E8F0FE;\n",
              "      border: none;\n",
              "      border-radius: 50%;\n",
              "      cursor: pointer;\n",
              "      display: none;\n",
              "      fill: #1967D2;\n",
              "      height: 32px;\n",
              "      padding: 0 0 0 0;\n",
              "      width: 32px;\n",
              "    }\n",
              "\n",
              "    .colab-df-convert:hover {\n",
              "      background-color: #E2EBFA;\n",
              "      box-shadow: 0px 1px 2px rgba(60, 64, 67, 0.3), 0px 1px 3px 1px rgba(60, 64, 67, 0.15);\n",
              "      fill: #174EA6;\n",
              "    }\n",
              "\n",
              "    [theme=dark] .colab-df-convert {\n",
              "      background-color: #3B4455;\n",
              "      fill: #D2E3FC;\n",
              "    }\n",
              "\n",
              "    [theme=dark] .colab-df-convert:hover {\n",
              "      background-color: #434B5C;\n",
              "      box-shadow: 0px 1px 3px 1px rgba(0, 0, 0, 0.15);\n",
              "      filter: drop-shadow(0px 1px 2px rgba(0, 0, 0, 0.3));\n",
              "      fill: #FFFFFF;\n",
              "    }\n",
              "  </style>\n",
              "\n",
              "      <script>\n",
              "        const buttonEl =\n",
              "          document.querySelector('#df-7fa07388-442a-4d31-8b25-706480eaba61 button.colab-df-convert');\n",
              "        buttonEl.style.display =\n",
              "          google.colab.kernel.accessAllowed ? 'block' : 'none';\n",
              "\n",
              "        async function convertToInteractive(key) {\n",
              "          const element = document.querySelector('#df-7fa07388-442a-4d31-8b25-706480eaba61');\n",
              "          const dataTable =\n",
              "            await google.colab.kernel.invokeFunction('convertToInteractive',\n",
              "                                                     [key], {});\n",
              "          if (!dataTable) return;\n",
              "\n",
              "          const docLinkHtml = 'Like what you see? Visit the ' +\n",
              "            '<a target=\"_blank\" href=https://colab.research.google.com/notebooks/data_table.ipynb>data table notebook</a>'\n",
              "            + ' to learn more about interactive tables.';\n",
              "          element.innerHTML = '';\n",
              "          dataTable['output_type'] = 'display_data';\n",
              "          await google.colab.output.renderOutput(dataTable, element);\n",
              "          const docLink = document.createElement('div');\n",
              "          docLink.innerHTML = docLinkHtml;\n",
              "          element.appendChild(docLink);\n",
              "        }\n",
              "      </script>\n",
              "    </div>\n",
              "  </div>\n",
              "  "
            ]
          },
          "metadata": {},
          "execution_count": 25
        }
      ],
      "source": [
        "df_train_oos"
      ]
    },
    {
      "cell_type": "markdown",
      "id": "c5e6e7a7",
      "metadata": {
        "id": "c5e6e7a7"
      },
      "source": [
        "# Evaluating approach - OOS Recall"
      ]
    },
    {
      "cell_type": "code",
      "execution_count": 26,
      "id": "b4e4e210",
      "metadata": {
        "id": "b4e4e210"
      },
      "outputs": [],
      "source": [
        "THRESHOLD = 0.95"
      ]
    },
    {
      "cell_type": "code",
      "execution_count": 27,
      "id": "d0744efd",
      "metadata": {
        "id": "d0744efd"
      },
      "outputs": [],
      "source": [
        "compute_distance_of_closest_cluster(df_eval)"
      ]
    },
    {
      "cell_type": "code",
      "execution_count": 28,
      "id": "32d8325a",
      "metadata": {
        "id": "32d8325a"
      },
      "outputs": [],
      "source": [
        "df_eval[\"pred\"] = df_eval.min_distances.apply(lambda x: \"oos\" if x>THRESHOLD else \"in-scope\")"
      ]
    },
    {
      "cell_type": "code",
      "execution_count": 29,
      "id": "895bea40",
      "metadata": {
        "colab": {
          "base_uri": "https://localhost:8080/",
          "height": 423
        },
        "id": "895bea40",
        "outputId": "bbf79030-cf42-4521-cb53-983496eccc36"
      },
      "outputs": [
        {
          "output_type": "execute_result",
          "data": {
            "text/plain": [
              "                                                  query               label  \\\n",
              "0     my account looks to be blocked and i have no i...     account_blocked   \n",
              "1                          what are my recent purchases        transactions   \n",
              "2     if i plan on travelling to this country, do i ...  international_visa   \n",
              "3     mark my calendar that i will be meeting steven...     calendar_update   \n",
              "4                                        i couldn't say               maybe   \n",
              "...                                                 ...                 ...   \n",
              "3095                               i need a spider fact            fun_fact   \n",
              "3096               i'm sorry please repeat the question              repeat   \n",
              "3097                        i prefer to be called jason    change_user_name   \n",
              "3098                dial the last number that called me           make_call   \n",
              "3099  i need to apply for a new credit card that wil...            new_card   \n",
              "\n",
              "      min_distances      pred  \n",
              "0          0.601392  in-scope  \n",
              "1          0.649376  in-scope  \n",
              "2          0.532687  in-scope  \n",
              "3          0.819420  in-scope  \n",
              "4          0.835065  in-scope  \n",
              "...             ...       ...  \n",
              "3095       0.811382  in-scope  \n",
              "3096       0.795798  in-scope  \n",
              "3097       0.724365  in-scope  \n",
              "3098       0.781903  in-scope  \n",
              "3099       0.595997  in-scope  \n",
              "\n",
              "[3100 rows x 4 columns]"
            ],
            "text/html": [
              "\n",
              "  <div id=\"df-3fd0805e-35c9-48d4-9add-1b5774d0415b\">\n",
              "    <div class=\"colab-df-container\">\n",
              "      <div>\n",
              "<style scoped>\n",
              "    .dataframe tbody tr th:only-of-type {\n",
              "        vertical-align: middle;\n",
              "    }\n",
              "\n",
              "    .dataframe tbody tr th {\n",
              "        vertical-align: top;\n",
              "    }\n",
              "\n",
              "    .dataframe thead th {\n",
              "        text-align: right;\n",
              "    }\n",
              "</style>\n",
              "<table border=\"1\" class=\"dataframe\">\n",
              "  <thead>\n",
              "    <tr style=\"text-align: right;\">\n",
              "      <th></th>\n",
              "      <th>query</th>\n",
              "      <th>label</th>\n",
              "      <th>min_distances</th>\n",
              "      <th>pred</th>\n",
              "    </tr>\n",
              "  </thead>\n",
              "  <tbody>\n",
              "    <tr>\n",
              "      <th>0</th>\n",
              "      <td>my account looks to be blocked and i have no i...</td>\n",
              "      <td>account_blocked</td>\n",
              "      <td>0.601392</td>\n",
              "      <td>in-scope</td>\n",
              "    </tr>\n",
              "    <tr>\n",
              "      <th>1</th>\n",
              "      <td>what are my recent purchases</td>\n",
              "      <td>transactions</td>\n",
              "      <td>0.649376</td>\n",
              "      <td>in-scope</td>\n",
              "    </tr>\n",
              "    <tr>\n",
              "      <th>2</th>\n",
              "      <td>if i plan on travelling to this country, do i ...</td>\n",
              "      <td>international_visa</td>\n",
              "      <td>0.532687</td>\n",
              "      <td>in-scope</td>\n",
              "    </tr>\n",
              "    <tr>\n",
              "      <th>3</th>\n",
              "      <td>mark my calendar that i will be meeting steven...</td>\n",
              "      <td>calendar_update</td>\n",
              "      <td>0.819420</td>\n",
              "      <td>in-scope</td>\n",
              "    </tr>\n",
              "    <tr>\n",
              "      <th>4</th>\n",
              "      <td>i couldn't say</td>\n",
              "      <td>maybe</td>\n",
              "      <td>0.835065</td>\n",
              "      <td>in-scope</td>\n",
              "    </tr>\n",
              "    <tr>\n",
              "      <th>...</th>\n",
              "      <td>...</td>\n",
              "      <td>...</td>\n",
              "      <td>...</td>\n",
              "      <td>...</td>\n",
              "    </tr>\n",
              "    <tr>\n",
              "      <th>3095</th>\n",
              "      <td>i need a spider fact</td>\n",
              "      <td>fun_fact</td>\n",
              "      <td>0.811382</td>\n",
              "      <td>in-scope</td>\n",
              "    </tr>\n",
              "    <tr>\n",
              "      <th>3096</th>\n",
              "      <td>i'm sorry please repeat the question</td>\n",
              "      <td>repeat</td>\n",
              "      <td>0.795798</td>\n",
              "      <td>in-scope</td>\n",
              "    </tr>\n",
              "    <tr>\n",
              "      <th>3097</th>\n",
              "      <td>i prefer to be called jason</td>\n",
              "      <td>change_user_name</td>\n",
              "      <td>0.724365</td>\n",
              "      <td>in-scope</td>\n",
              "    </tr>\n",
              "    <tr>\n",
              "      <th>3098</th>\n",
              "      <td>dial the last number that called me</td>\n",
              "      <td>make_call</td>\n",
              "      <td>0.781903</td>\n",
              "      <td>in-scope</td>\n",
              "    </tr>\n",
              "    <tr>\n",
              "      <th>3099</th>\n",
              "      <td>i need to apply for a new credit card that wil...</td>\n",
              "      <td>new_card</td>\n",
              "      <td>0.595997</td>\n",
              "      <td>in-scope</td>\n",
              "    </tr>\n",
              "  </tbody>\n",
              "</table>\n",
              "<p>3100 rows × 4 columns</p>\n",
              "</div>\n",
              "      <button class=\"colab-df-convert\" onclick=\"convertToInteractive('df-3fd0805e-35c9-48d4-9add-1b5774d0415b')\"\n",
              "              title=\"Convert this dataframe to an interactive table.\"\n",
              "              style=\"display:none;\">\n",
              "        \n",
              "  <svg xmlns=\"http://www.w3.org/2000/svg\" height=\"24px\"viewBox=\"0 0 24 24\"\n",
              "       width=\"24px\">\n",
              "    <path d=\"M0 0h24v24H0V0z\" fill=\"none\"/>\n",
              "    <path d=\"M18.56 5.44l.94 2.06.94-2.06 2.06-.94-2.06-.94-.94-2.06-.94 2.06-2.06.94zm-11 1L8.5 8.5l.94-2.06 2.06-.94-2.06-.94L8.5 2.5l-.94 2.06-2.06.94zm10 10l.94 2.06.94-2.06 2.06-.94-2.06-.94-.94-2.06-.94 2.06-2.06.94z\"/><path d=\"M17.41 7.96l-1.37-1.37c-.4-.4-.92-.59-1.43-.59-.52 0-1.04.2-1.43.59L10.3 9.45l-7.72 7.72c-.78.78-.78 2.05 0 2.83L4 21.41c.39.39.9.59 1.41.59.51 0 1.02-.2 1.41-.59l7.78-7.78 2.81-2.81c.8-.78.8-2.07 0-2.86zM5.41 20L4 18.59l7.72-7.72 1.47 1.35L5.41 20z\"/>\n",
              "  </svg>\n",
              "      </button>\n",
              "      \n",
              "  <style>\n",
              "    .colab-df-container {\n",
              "      display:flex;\n",
              "      flex-wrap:wrap;\n",
              "      gap: 12px;\n",
              "    }\n",
              "\n",
              "    .colab-df-convert {\n",
              "      background-color: #E8F0FE;\n",
              "      border: none;\n",
              "      border-radius: 50%;\n",
              "      cursor: pointer;\n",
              "      display: none;\n",
              "      fill: #1967D2;\n",
              "      height: 32px;\n",
              "      padding: 0 0 0 0;\n",
              "      width: 32px;\n",
              "    }\n",
              "\n",
              "    .colab-df-convert:hover {\n",
              "      background-color: #E2EBFA;\n",
              "      box-shadow: 0px 1px 2px rgba(60, 64, 67, 0.3), 0px 1px 3px 1px rgba(60, 64, 67, 0.15);\n",
              "      fill: #174EA6;\n",
              "    }\n",
              "\n",
              "    [theme=dark] .colab-df-convert {\n",
              "      background-color: #3B4455;\n",
              "      fill: #D2E3FC;\n",
              "    }\n",
              "\n",
              "    [theme=dark] .colab-df-convert:hover {\n",
              "      background-color: #434B5C;\n",
              "      box-shadow: 0px 1px 3px 1px rgba(0, 0, 0, 0.15);\n",
              "      filter: drop-shadow(0px 1px 2px rgba(0, 0, 0, 0.3));\n",
              "      fill: #FFFFFF;\n",
              "    }\n",
              "  </style>\n",
              "\n",
              "      <script>\n",
              "        const buttonEl =\n",
              "          document.querySelector('#df-3fd0805e-35c9-48d4-9add-1b5774d0415b button.colab-df-convert');\n",
              "        buttonEl.style.display =\n",
              "          google.colab.kernel.accessAllowed ? 'block' : 'none';\n",
              "\n",
              "        async function convertToInteractive(key) {\n",
              "          const element = document.querySelector('#df-3fd0805e-35c9-48d4-9add-1b5774d0415b');\n",
              "          const dataTable =\n",
              "            await google.colab.kernel.invokeFunction('convertToInteractive',\n",
              "                                                     [key], {});\n",
              "          if (!dataTable) return;\n",
              "\n",
              "          const docLinkHtml = 'Like what you see? Visit the ' +\n",
              "            '<a target=\"_blank\" href=https://colab.research.google.com/notebooks/data_table.ipynb>data table notebook</a>'\n",
              "            + ' to learn more about interactive tables.';\n",
              "          element.innerHTML = '';\n",
              "          dataTable['output_type'] = 'display_data';\n",
              "          await google.colab.output.renderOutput(dataTable, element);\n",
              "          const docLink = document.createElement('div');\n",
              "          docLink.innerHTML = docLinkHtml;\n",
              "          element.appendChild(docLink);\n",
              "        }\n",
              "      </script>\n",
              "    </div>\n",
              "  </div>\n",
              "  "
            ]
          },
          "metadata": {},
          "execution_count": 29
        }
      ],
      "source": [
        "df_eval"
      ]
    },
    {
      "cell_type": "code",
      "execution_count": 30,
      "id": "07889a2a",
      "metadata": {
        "id": "07889a2a"
      },
      "outputs": [],
      "source": [
        "df_eval[\"binary_label\"] =  df_eval.label.apply(lambda x: \"oos\" if x==\"oos\" else \"in-scope\")"
      ]
    },
    {
      "cell_type": "code",
      "execution_count": 31,
      "id": "78ed36d8",
      "metadata": {
        "colab": {
          "base_uri": "https://localhost:8080/",
          "height": 206
        },
        "id": "78ed36d8",
        "outputId": "247537ba-1350-4e77-fc38-c8beb09bbdb1"
      },
      "outputs": [
        {
          "output_type": "execute_result",
          "data": {
            "text/plain": [
              "              precision    recall  f1-score      support\n",
              "in-scope       0.996281  0.982333  0.989258  3000.000000\n",
              "oos            0.626761  0.890000  0.735537   100.000000\n",
              "accuracy       0.979355  0.979355  0.979355     0.979355\n",
              "macro avg      0.811521  0.936167  0.862398  3100.000000\n",
              "weighted avg   0.984361  0.979355  0.981074  3100.000000"
            ],
            "text/html": [
              "\n",
              "  <div id=\"df-f21e7d2e-a19e-4f8e-aeb3-e4d35c9b1df7\">\n",
              "    <div class=\"colab-df-container\">\n",
              "      <div>\n",
              "<style scoped>\n",
              "    .dataframe tbody tr th:only-of-type {\n",
              "        vertical-align: middle;\n",
              "    }\n",
              "\n",
              "    .dataframe tbody tr th {\n",
              "        vertical-align: top;\n",
              "    }\n",
              "\n",
              "    .dataframe thead th {\n",
              "        text-align: right;\n",
              "    }\n",
              "</style>\n",
              "<table border=\"1\" class=\"dataframe\">\n",
              "  <thead>\n",
              "    <tr style=\"text-align: right;\">\n",
              "      <th></th>\n",
              "      <th>precision</th>\n",
              "      <th>recall</th>\n",
              "      <th>f1-score</th>\n",
              "      <th>support</th>\n",
              "    </tr>\n",
              "  </thead>\n",
              "  <tbody>\n",
              "    <tr>\n",
              "      <th>in-scope</th>\n",
              "      <td>0.996281</td>\n",
              "      <td>0.982333</td>\n",
              "      <td>0.989258</td>\n",
              "      <td>3000.000000</td>\n",
              "    </tr>\n",
              "    <tr>\n",
              "      <th>oos</th>\n",
              "      <td>0.626761</td>\n",
              "      <td>0.890000</td>\n",
              "      <td>0.735537</td>\n",
              "      <td>100.000000</td>\n",
              "    </tr>\n",
              "    <tr>\n",
              "      <th>accuracy</th>\n",
              "      <td>0.979355</td>\n",
              "      <td>0.979355</td>\n",
              "      <td>0.979355</td>\n",
              "      <td>0.979355</td>\n",
              "    </tr>\n",
              "    <tr>\n",
              "      <th>macro avg</th>\n",
              "      <td>0.811521</td>\n",
              "      <td>0.936167</td>\n",
              "      <td>0.862398</td>\n",
              "      <td>3100.000000</td>\n",
              "    </tr>\n",
              "    <tr>\n",
              "      <th>weighted avg</th>\n",
              "      <td>0.984361</td>\n",
              "      <td>0.979355</td>\n",
              "      <td>0.981074</td>\n",
              "      <td>3100.000000</td>\n",
              "    </tr>\n",
              "  </tbody>\n",
              "</table>\n",
              "</div>\n",
              "      <button class=\"colab-df-convert\" onclick=\"convertToInteractive('df-f21e7d2e-a19e-4f8e-aeb3-e4d35c9b1df7')\"\n",
              "              title=\"Convert this dataframe to an interactive table.\"\n",
              "              style=\"display:none;\">\n",
              "        \n",
              "  <svg xmlns=\"http://www.w3.org/2000/svg\" height=\"24px\"viewBox=\"0 0 24 24\"\n",
              "       width=\"24px\">\n",
              "    <path d=\"M0 0h24v24H0V0z\" fill=\"none\"/>\n",
              "    <path d=\"M18.56 5.44l.94 2.06.94-2.06 2.06-.94-2.06-.94-.94-2.06-.94 2.06-2.06.94zm-11 1L8.5 8.5l.94-2.06 2.06-.94-2.06-.94L8.5 2.5l-.94 2.06-2.06.94zm10 10l.94 2.06.94-2.06 2.06-.94-2.06-.94-.94-2.06-.94 2.06-2.06.94z\"/><path d=\"M17.41 7.96l-1.37-1.37c-.4-.4-.92-.59-1.43-.59-.52 0-1.04.2-1.43.59L10.3 9.45l-7.72 7.72c-.78.78-.78 2.05 0 2.83L4 21.41c.39.39.9.59 1.41.59.51 0 1.02-.2 1.41-.59l7.78-7.78 2.81-2.81c.8-.78.8-2.07 0-2.86zM5.41 20L4 18.59l7.72-7.72 1.47 1.35L5.41 20z\"/>\n",
              "  </svg>\n",
              "      </button>\n",
              "      \n",
              "  <style>\n",
              "    .colab-df-container {\n",
              "      display:flex;\n",
              "      flex-wrap:wrap;\n",
              "      gap: 12px;\n",
              "    }\n",
              "\n",
              "    .colab-df-convert {\n",
              "      background-color: #E8F0FE;\n",
              "      border: none;\n",
              "      border-radius: 50%;\n",
              "      cursor: pointer;\n",
              "      display: none;\n",
              "      fill: #1967D2;\n",
              "      height: 32px;\n",
              "      padding: 0 0 0 0;\n",
              "      width: 32px;\n",
              "    }\n",
              "\n",
              "    .colab-df-convert:hover {\n",
              "      background-color: #E2EBFA;\n",
              "      box-shadow: 0px 1px 2px rgba(60, 64, 67, 0.3), 0px 1px 3px 1px rgba(60, 64, 67, 0.15);\n",
              "      fill: #174EA6;\n",
              "    }\n",
              "\n",
              "    [theme=dark] .colab-df-convert {\n",
              "      background-color: #3B4455;\n",
              "      fill: #D2E3FC;\n",
              "    }\n",
              "\n",
              "    [theme=dark] .colab-df-convert:hover {\n",
              "      background-color: #434B5C;\n",
              "      box-shadow: 0px 1px 3px 1px rgba(0, 0, 0, 0.15);\n",
              "      filter: drop-shadow(0px 1px 2px rgba(0, 0, 0, 0.3));\n",
              "      fill: #FFFFFF;\n",
              "    }\n",
              "  </style>\n",
              "\n",
              "      <script>\n",
              "        const buttonEl =\n",
              "          document.querySelector('#df-f21e7d2e-a19e-4f8e-aeb3-e4d35c9b1df7 button.colab-df-convert');\n",
              "        buttonEl.style.display =\n",
              "          google.colab.kernel.accessAllowed ? 'block' : 'none';\n",
              "\n",
              "        async function convertToInteractive(key) {\n",
              "          const element = document.querySelector('#df-f21e7d2e-a19e-4f8e-aeb3-e4d35c9b1df7');\n",
              "          const dataTable =\n",
              "            await google.colab.kernel.invokeFunction('convertToInteractive',\n",
              "                                                     [key], {});\n",
              "          if (!dataTable) return;\n",
              "\n",
              "          const docLinkHtml = 'Like what you see? Visit the ' +\n",
              "            '<a target=\"_blank\" href=https://colab.research.google.com/notebooks/data_table.ipynb>data table notebook</a>'\n",
              "            + ' to learn more about interactive tables.';\n",
              "          element.innerHTML = '';\n",
              "          dataTable['output_type'] = 'display_data';\n",
              "          await google.colab.output.renderOutput(dataTable, element);\n",
              "          const docLink = document.createElement('div');\n",
              "          docLink.innerHTML = docLinkHtml;\n",
              "          element.appendChild(docLink);\n",
              "        }\n",
              "      </script>\n",
              "    </div>\n",
              "  </div>\n",
              "  "
            ]
          },
          "metadata": {},
          "execution_count": 31
        }
      ],
      "source": [
        "pd.DataFrame(classification_report(df_eval[\"binary_label\"], df_eval[\"pred\"], output_dict=True)).T"
      ]
    },
    {
      "cell_type": "markdown",
      "id": "43f53b34",
      "metadata": {
        "id": "43f53b34"
      },
      "source": [
        "# Results on test set:"
      ]
    },
    {
      "cell_type": "code",
      "execution_count": 32,
      "id": "78f3072f",
      "metadata": {
        "id": "78f3072f"
      },
      "outputs": [],
      "source": [
        "compute_distance_of_closest_cluster(df_test)"
      ]
    },
    {
      "cell_type": "code",
      "execution_count": 33,
      "id": "029d0f87",
      "metadata": {
        "id": "029d0f87"
      },
      "outputs": [],
      "source": [
        "df_test[\"pred\"] = df_test.min_distances.apply(lambda x: \"oos\" if x>THRESHOLD else \"in-scope\")\n",
        "df_test[\"binary_label\"] =  df_test.label.apply(lambda x: \"oos\" if x==\"oos\" else \"in-scope\")"
      ]
    },
    {
      "cell_type": "code",
      "execution_count": 34,
      "id": "cf509b85",
      "metadata": {
        "colab": {
          "base_uri": "https://localhost:8080/",
          "height": 206
        },
        "id": "cf509b85",
        "outputId": "0ef590b1-2c3f-4577-a8ef-2a2449ead26b"
      },
      "outputs": [
        {
          "output_type": "execute_result",
          "data": {
            "text/plain": [
              "              precision    recall  f1-score      support\n",
              "in-scope       0.943734  0.984000  0.963446  4500.000000\n",
              "oos            0.910891  0.736000  0.814159  1000.000000\n",
              "accuracy       0.938909  0.938909  0.938909     0.938909\n",
              "macro avg      0.927313  0.860000  0.888803  5500.000000\n",
              "weighted avg   0.937763  0.938909  0.936303  5500.000000"
            ],
            "text/html": [
              "\n",
              "  <div id=\"df-375f257c-c696-45f9-ba83-9e821d3590f3\">\n",
              "    <div class=\"colab-df-container\">\n",
              "      <div>\n",
              "<style scoped>\n",
              "    .dataframe tbody tr th:only-of-type {\n",
              "        vertical-align: middle;\n",
              "    }\n",
              "\n",
              "    .dataframe tbody tr th {\n",
              "        vertical-align: top;\n",
              "    }\n",
              "\n",
              "    .dataframe thead th {\n",
              "        text-align: right;\n",
              "    }\n",
              "</style>\n",
              "<table border=\"1\" class=\"dataframe\">\n",
              "  <thead>\n",
              "    <tr style=\"text-align: right;\">\n",
              "      <th></th>\n",
              "      <th>precision</th>\n",
              "      <th>recall</th>\n",
              "      <th>f1-score</th>\n",
              "      <th>support</th>\n",
              "    </tr>\n",
              "  </thead>\n",
              "  <tbody>\n",
              "    <tr>\n",
              "      <th>in-scope</th>\n",
              "      <td>0.943734</td>\n",
              "      <td>0.984000</td>\n",
              "      <td>0.963446</td>\n",
              "      <td>4500.000000</td>\n",
              "    </tr>\n",
              "    <tr>\n",
              "      <th>oos</th>\n",
              "      <td>0.910891</td>\n",
              "      <td>0.736000</td>\n",
              "      <td>0.814159</td>\n",
              "      <td>1000.000000</td>\n",
              "    </tr>\n",
              "    <tr>\n",
              "      <th>accuracy</th>\n",
              "      <td>0.938909</td>\n",
              "      <td>0.938909</td>\n",
              "      <td>0.938909</td>\n",
              "      <td>0.938909</td>\n",
              "    </tr>\n",
              "    <tr>\n",
              "      <th>macro avg</th>\n",
              "      <td>0.927313</td>\n",
              "      <td>0.860000</td>\n",
              "      <td>0.888803</td>\n",
              "      <td>5500.000000</td>\n",
              "    </tr>\n",
              "    <tr>\n",
              "      <th>weighted avg</th>\n",
              "      <td>0.937763</td>\n",
              "      <td>0.938909</td>\n",
              "      <td>0.936303</td>\n",
              "      <td>5500.000000</td>\n",
              "    </tr>\n",
              "  </tbody>\n",
              "</table>\n",
              "</div>\n",
              "      <button class=\"colab-df-convert\" onclick=\"convertToInteractive('df-375f257c-c696-45f9-ba83-9e821d3590f3')\"\n",
              "              title=\"Convert this dataframe to an interactive table.\"\n",
              "              style=\"display:none;\">\n",
              "        \n",
              "  <svg xmlns=\"http://www.w3.org/2000/svg\" height=\"24px\"viewBox=\"0 0 24 24\"\n",
              "       width=\"24px\">\n",
              "    <path d=\"M0 0h24v24H0V0z\" fill=\"none\"/>\n",
              "    <path d=\"M18.56 5.44l.94 2.06.94-2.06 2.06-.94-2.06-.94-.94-2.06-.94 2.06-2.06.94zm-11 1L8.5 8.5l.94-2.06 2.06-.94-2.06-.94L8.5 2.5l-.94 2.06-2.06.94zm10 10l.94 2.06.94-2.06 2.06-.94-2.06-.94-.94-2.06-.94 2.06-2.06.94z\"/><path d=\"M17.41 7.96l-1.37-1.37c-.4-.4-.92-.59-1.43-.59-.52 0-1.04.2-1.43.59L10.3 9.45l-7.72 7.72c-.78.78-.78 2.05 0 2.83L4 21.41c.39.39.9.59 1.41.59.51 0 1.02-.2 1.41-.59l7.78-7.78 2.81-2.81c.8-.78.8-2.07 0-2.86zM5.41 20L4 18.59l7.72-7.72 1.47 1.35L5.41 20z\"/>\n",
              "  </svg>\n",
              "      </button>\n",
              "      \n",
              "  <style>\n",
              "    .colab-df-container {\n",
              "      display:flex;\n",
              "      flex-wrap:wrap;\n",
              "      gap: 12px;\n",
              "    }\n",
              "\n",
              "    .colab-df-convert {\n",
              "      background-color: #E8F0FE;\n",
              "      border: none;\n",
              "      border-radius: 50%;\n",
              "      cursor: pointer;\n",
              "      display: none;\n",
              "      fill: #1967D2;\n",
              "      height: 32px;\n",
              "      padding: 0 0 0 0;\n",
              "      width: 32px;\n",
              "    }\n",
              "\n",
              "    .colab-df-convert:hover {\n",
              "      background-color: #E2EBFA;\n",
              "      box-shadow: 0px 1px 2px rgba(60, 64, 67, 0.3), 0px 1px 3px 1px rgba(60, 64, 67, 0.15);\n",
              "      fill: #174EA6;\n",
              "    }\n",
              "\n",
              "    [theme=dark] .colab-df-convert {\n",
              "      background-color: #3B4455;\n",
              "      fill: #D2E3FC;\n",
              "    }\n",
              "\n",
              "    [theme=dark] .colab-df-convert:hover {\n",
              "      background-color: #434B5C;\n",
              "      box-shadow: 0px 1px 3px 1px rgba(0, 0, 0, 0.15);\n",
              "      filter: drop-shadow(0px 1px 2px rgba(0, 0, 0, 0.3));\n",
              "      fill: #FFFFFF;\n",
              "    }\n",
              "  </style>\n",
              "\n",
              "      <script>\n",
              "        const buttonEl =\n",
              "          document.querySelector('#df-375f257c-c696-45f9-ba83-9e821d3590f3 button.colab-df-convert');\n",
              "        buttonEl.style.display =\n",
              "          google.colab.kernel.accessAllowed ? 'block' : 'none';\n",
              "\n",
              "        async function convertToInteractive(key) {\n",
              "          const element = document.querySelector('#df-375f257c-c696-45f9-ba83-9e821d3590f3');\n",
              "          const dataTable =\n",
              "            await google.colab.kernel.invokeFunction('convertToInteractive',\n",
              "                                                     [key], {});\n",
              "          if (!dataTable) return;\n",
              "\n",
              "          const docLinkHtml = 'Like what you see? Visit the ' +\n",
              "            '<a target=\"_blank\" href=https://colab.research.google.com/notebooks/data_table.ipynb>data table notebook</a>'\n",
              "            + ' to learn more about interactive tables.';\n",
              "          element.innerHTML = '';\n",
              "          dataTable['output_type'] = 'display_data';\n",
              "          await google.colab.output.renderOutput(dataTable, element);\n",
              "          const docLink = document.createElement('div');\n",
              "          docLink.innerHTML = docLinkHtml;\n",
              "          element.appendChild(docLink);\n",
              "        }\n",
              "      </script>\n",
              "    </div>\n",
              "  </div>\n",
              "  "
            ]
          },
          "metadata": {},
          "execution_count": 34
        }
      ],
      "source": [
        "pd.DataFrame(classification_report(df_test[\"binary_label\"], df_test[\"pred\"], output_dict=True)).T"
      ]
    },
    {
      "cell_type": "code",
      "execution_count": 34,
      "id": "e33a88d7",
      "metadata": {
        "id": "e33a88d7"
      },
      "outputs": [],
      "source": []
    },
    {
      "cell_type": "markdown",
      "source": [
        "As we can see, compared to the baseline results presented in the paper, this clustering algorithm performs much better, with an OOS recall of 0.73 as opposed to ~0.60 presented in the paper."
      ],
      "metadata": {
        "id": "cUxfk-LH-CB7"
      },
      "id": "cUxfk-LH-CB7"
    },
    {
      "cell_type": "markdown",
      "source": [
        "# What if we predict the class directly instead of just the binary task of whether an intent is in-scope or OOS?"
      ],
      "metadata": {
        "id": "SwKhgN8X7ggy"
      },
      "id": "SwKhgN8X7ggy"
    },
    {
      "cell_type": "markdown",
      "source": [
        "## Assign each cluster to be associated with its most common intent:"
      ],
      "metadata": {
        "id": "RooBEvLW7n5D"
      },
      "id": "RooBEvLW7n5D"
    },
    {
      "cell_type": "code",
      "source": [
        "cluster_id_to_intent = dict(df_train_no_oos.groupby(\"cluster\")[\"label\"].agg(pd.Series.mode))"
      ],
      "metadata": {
        "id": "AlJr0szD7nP2"
      },
      "id": "AlJr0szD7nP2",
      "execution_count": 39,
      "outputs": []
    },
    {
      "cell_type": "code",
      "source": [
        "cluster_id_to_intent"
      ],
      "metadata": {
        "colab": {
          "base_uri": "https://localhost:8080/"
        },
        "id": "T_eVBxu-7let",
        "outputId": "207f1746-b364-4e2a-a984-375023f5a1b4"
      },
      "id": "T_eVBxu-7let",
      "execution_count": 40,
      "outputs": [
        {
          "output_type": "execute_result",
          "data": {
            "text/plain": [
              "{0: 'rewards_balance',\n",
              " 1: 'pto_used',\n",
              " 2: 'text',\n",
              " 3: 'gas',\n",
              " 4: 'pto_request_status',\n",
              " 5: 'next_song',\n",
              " 6: 'new_card',\n",
              " 7: 'report_lost_card',\n",
              " 8: 'shopping_list_update',\n",
              " 9: 'schedule_maintenance',\n",
              " 10: 'restaurant_suggestion',\n",
              " 11: 'timezone',\n",
              " 12: 'are_you_a_bot',\n",
              " 13: 'date',\n",
              " 14: 'exchange_rate',\n",
              " 15: 'routing',\n",
              " 16: 'order_status',\n",
              " 17: 'whisper_mode',\n",
              " 18: 'meal_suggestion',\n",
              " 19: 'tire_pressure',\n",
              " 20: 'oil_change_how',\n",
              " 21: 'accept_reservations',\n",
              " 22: 'translate',\n",
              " 23: array(['gas_type', 'mpg'], dtype=object),\n",
              " 24: 'plug_type',\n",
              " 25: 'payday',\n",
              " 26: 'who_do_you_work_for',\n",
              " 27: 'balance',\n",
              " 28: 'how_busy',\n",
              " 29: 'do_you_have_pets',\n",
              " 30: 'apr',\n",
              " 31: 'meeting_schedule',\n",
              " 32: 'thank_you',\n",
              " 33: 'sync_device',\n",
              " 34: 'expiration_date',\n",
              " 35: 'user_name',\n",
              " 36: 'tire_change',\n",
              " 37: 'alarm',\n",
              " 38: 'income',\n",
              " 39: 'greeting',\n",
              " 40: 'flip_coin',\n",
              " 41: 'international_fees',\n",
              " 42: 'insurance',\n",
              " 43: 'rollover_401k',\n",
              " 44: 'where_are_you_from',\n",
              " 45: 'meaning_of_life',\n",
              " 46: 'share_location',\n",
              " 47: 'calories',\n",
              " 48: 'reset_settings',\n",
              " 49: 'repeat',\n",
              " 50: 'jump_start',\n",
              " 51: 'card_declined',\n",
              " 52: 'directions',\n",
              " 53: 'pto_request',\n",
              " 54: 'vaccines',\n",
              " 55: 'w2',\n",
              " 56: 'no',\n",
              " 57: 'todo_list_update',\n",
              " 58: 'who_made_you',\n",
              " 59: 'insurance_change',\n",
              " 60: 'pay_bill',\n",
              " 61: 'pto_balance',\n",
              " 62: 'reminder',\n",
              " 63: 'travel_notification',\n",
              " 64: 'todo_list',\n",
              " 65: 'credit_limit_change',\n",
              " 66: 'yes',\n",
              " 67: 'change_speed',\n",
              " 68: 'what_are_your_hobbies',\n",
              " 69: 'cancel',\n",
              " 70: 'next_holiday',\n",
              " 71: 'application_status',\n",
              " 72: 'change_language',\n",
              " 73: 'roll_dice',\n",
              " 74: 'current_location',\n",
              " 75: 'travel_alert',\n",
              " 76: 'cancel_reservation',\n",
              " 77: 'find_phone',\n",
              " 78: 'ingredient_substitution',\n",
              " 79: 'min_payment',\n",
              " 80: 'redeem_rewards',\n",
              " 81: 'change_accent',\n",
              " 82: 'flight_status',\n",
              " 83: 'what_song',\n",
              " 84: 'interest_rate',\n",
              " 85: 'change_speed',\n",
              " 86: 'bill_due',\n",
              " 87: 'uber',\n",
              " 88: 'credit_score',\n",
              " 89: 'flight_status',\n",
              " 90: 'pin_change',\n",
              " 91: 'measurement_conversion',\n",
              " 92: 'international_visa',\n",
              " 93: 'credit_limit',\n",
              " 94: 'how_old_are_you',\n",
              " 95: 'thank_you',\n",
              " 96: 'update_playlist',\n",
              " 97: 'ingredients_list',\n",
              " 98: 'order_status',\n",
              " 99: 'freeze_account',\n",
              " 100: 'distance',\n",
              " 101: 'shopping_list',\n",
              " 102: 'goodbye',\n",
              " 103: 'book_flight',\n",
              " 104: 'reset_settings',\n",
              " 105: 'sync_device',\n",
              " 106: 'lost_luggage',\n",
              " 107: 'bill_balance',\n",
              " 108: 'carry_on',\n",
              " 109: 'weather',\n",
              " 110: 'car_rental',\n",
              " 111: 'what_can_i_ask_you',\n",
              " 112: 'report_fraud',\n",
              " 113: 'change_volume',\n",
              " 114: 'replacement_card_duration',\n",
              " 115: 'traffic',\n",
              " 116: 'confirm_reservation',\n",
              " 117: 'definition',\n",
              " 118: 'tell_joke',\n",
              " 119: 'order_checks',\n",
              " 120: 'restaurant_reservation',\n",
              " 121: 'timer',\n",
              " 122: 'travel_suggestion',\n",
              " 123: 'transactions',\n",
              " 124: 'account_blocked',\n",
              " 125: 'cook_time',\n",
              " 126: 'apr',\n",
              " 127: 'application_status',\n",
              " 128: 'next_holiday',\n",
              " 129: 'fun_fact',\n",
              " 130: 'last_maintenance',\n",
              " 131: 'measurement_conversion',\n",
              " 132: 'calculator',\n",
              " 133: 'food_last',\n",
              " 134: 'spending_history',\n",
              " 135: 'nutrition_info',\n",
              " 136: 'improve_credit_score',\n",
              " 137: 'taxes',\n",
              " 138: 'damaged_card',\n",
              " 139: 'travel_suggestion',\n",
              " 140: 'rewards_balance',\n",
              " 141: 'book_hotel',\n",
              " 142: 'w2',\n",
              " 143: 'maybe',\n",
              " 144: 'restaurant_reviews',\n",
              " 145: 'smart_home',\n",
              " 146: 'change_ai_name',\n",
              " 147: 'calendar',\n",
              " 148: 'transfer',\n",
              " 149: 'oil_change_when'}"
            ]
          },
          "metadata": {},
          "execution_count": 40
        }
      ]
    },
    {
      "cell_type": "code",
      "source": [
        "cluster_id_to_intent[23] = cluster_id_to_intent[23][0] # Because there are 2 values for cluster 23"
      ],
      "metadata": {
        "id": "ESJm6BCM8RjM"
      },
      "id": "ESJm6BCM8RjM",
      "execution_count": 41,
      "outputs": []
    },
    {
      "cell_type": "code",
      "source": [
        "print(f\"Unique intents in the 150 clusters: {len(set(cluster_id_to_intent.values()))}\")"
      ],
      "metadata": {
        "colab": {
          "base_uri": "https://localhost:8080/"
        },
        "id": "oaA-Hh4c8WEJ",
        "outputId": "897bb714-a36f-4884-d79b-873cbde6c900"
      },
      "id": "oaA-Hh4c8WEJ",
      "execution_count": 42,
      "outputs": [
        {
          "output_type": "stream",
          "name": "stdout",
          "text": [
            "Unique intents in the 150 clusters: 137\n"
          ]
        }
      ]
    },
    {
      "cell_type": "code",
      "source": [
        "def assign_clusters_and_predict(df):\n",
        "    clusters = kmeans.predict(mpnet.encode(df[\"query\"].values))\n",
        "    df[\"cluster\"] = clusters\n",
        "    df[\"cluster_prediction\"] = df[\"cluster\"].apply(lambda x: cluster_id_to_intent[x])\n",
        "    "
      ],
      "metadata": {
        "id": "Q0M1DtBS9Ir_"
      },
      "id": "Q0M1DtBS9Ir_",
      "execution_count": 43,
      "outputs": []
    },
    {
      "cell_type": "code",
      "source": [
        "assign_clusters_and_predict(df_eval)"
      ],
      "metadata": {
        "id": "cyVAp3Rq8_3_"
      },
      "id": "cyVAp3Rq8_3_",
      "execution_count": 44,
      "outputs": []
    },
    {
      "cell_type": "code",
      "source": [
        "pd.DataFrame(classification_report(df_eval[\"label\"], df_eval[\"cluster_prediction\"], output_dict=True)).T"
      ],
      "metadata": {
        "colab": {
          "base_uri": "https://localhost:8080/",
          "height": 547
        },
        "id": "ntaCTNjM9o7u",
        "outputId": "a7110d1a-0f8c-444d-a657-39cfda51e1f7"
      },
      "id": "ntaCTNjM9o7u",
      "execution_count": 45,
      "outputs": [
        {
          "output_type": "stream",
          "name": "stderr",
          "text": [
            "/usr/local/lib/python3.9/dist-packages/sklearn/metrics/_classification.py:1344: UndefinedMetricWarning: Precision and F-score are ill-defined and being set to 0.0 in labels with no predicted samples. Use `zero_division` parameter to control this behavior.\n",
            "  _warn_prf(average, modifier, msg_start, len(result))\n",
            "/usr/local/lib/python3.9/dist-packages/sklearn/metrics/_classification.py:1344: UndefinedMetricWarning: Precision and F-score are ill-defined and being set to 0.0 in labels with no predicted samples. Use `zero_division` parameter to control this behavior.\n",
            "  _warn_prf(average, modifier, msg_start, len(result))\n",
            "/usr/local/lib/python3.9/dist-packages/sklearn/metrics/_classification.py:1344: UndefinedMetricWarning: Precision and F-score are ill-defined and being set to 0.0 in labels with no predicted samples. Use `zero_division` parameter to control this behavior.\n",
            "  _warn_prf(average, modifier, msg_start, len(result))\n"
          ]
        },
        {
          "output_type": "execute_result",
          "data": {
            "text/plain": [
              "                     precision    recall  f1-score      support\n",
              "accept_reservations   0.833333  1.000000  0.909091    20.000000\n",
              "account_blocked       0.952381  1.000000  0.975610    20.000000\n",
              "alarm                 1.000000  1.000000  1.000000    20.000000\n",
              "application_status    1.000000  1.000000  1.000000    20.000000\n",
              "apr                   1.000000  1.000000  1.000000    20.000000\n",
              "...                        ...       ...       ...          ...\n",
              "who_made_you          0.904762  0.950000  0.926829    20.000000\n",
              "yes                   0.072072  0.400000  0.122137    20.000000\n",
              "accuracy              0.800968  0.800968  0.800968     0.800968\n",
              "macro avg             0.783436  0.822185  0.788024  3100.000000\n",
              "weighted avg          0.763218  0.800968  0.767688  3100.000000\n",
              "\n",
              "[154 rows x 4 columns]"
            ],
            "text/html": [
              "\n",
              "  <div id=\"df-ff9b3a93-732c-417b-96dc-e82dddc46182\">\n",
              "    <div class=\"colab-df-container\">\n",
              "      <div>\n",
              "<style scoped>\n",
              "    .dataframe tbody tr th:only-of-type {\n",
              "        vertical-align: middle;\n",
              "    }\n",
              "\n",
              "    .dataframe tbody tr th {\n",
              "        vertical-align: top;\n",
              "    }\n",
              "\n",
              "    .dataframe thead th {\n",
              "        text-align: right;\n",
              "    }\n",
              "</style>\n",
              "<table border=\"1\" class=\"dataframe\">\n",
              "  <thead>\n",
              "    <tr style=\"text-align: right;\">\n",
              "      <th></th>\n",
              "      <th>precision</th>\n",
              "      <th>recall</th>\n",
              "      <th>f1-score</th>\n",
              "      <th>support</th>\n",
              "    </tr>\n",
              "  </thead>\n",
              "  <tbody>\n",
              "    <tr>\n",
              "      <th>accept_reservations</th>\n",
              "      <td>0.833333</td>\n",
              "      <td>1.000000</td>\n",
              "      <td>0.909091</td>\n",
              "      <td>20.000000</td>\n",
              "    </tr>\n",
              "    <tr>\n",
              "      <th>account_blocked</th>\n",
              "      <td>0.952381</td>\n",
              "      <td>1.000000</td>\n",
              "      <td>0.975610</td>\n",
              "      <td>20.000000</td>\n",
              "    </tr>\n",
              "    <tr>\n",
              "      <th>alarm</th>\n",
              "      <td>1.000000</td>\n",
              "      <td>1.000000</td>\n",
              "      <td>1.000000</td>\n",
              "      <td>20.000000</td>\n",
              "    </tr>\n",
              "    <tr>\n",
              "      <th>application_status</th>\n",
              "      <td>1.000000</td>\n",
              "      <td>1.000000</td>\n",
              "      <td>1.000000</td>\n",
              "      <td>20.000000</td>\n",
              "    </tr>\n",
              "    <tr>\n",
              "      <th>apr</th>\n",
              "      <td>1.000000</td>\n",
              "      <td>1.000000</td>\n",
              "      <td>1.000000</td>\n",
              "      <td>20.000000</td>\n",
              "    </tr>\n",
              "    <tr>\n",
              "      <th>...</th>\n",
              "      <td>...</td>\n",
              "      <td>...</td>\n",
              "      <td>...</td>\n",
              "      <td>...</td>\n",
              "    </tr>\n",
              "    <tr>\n",
              "      <th>who_made_you</th>\n",
              "      <td>0.904762</td>\n",
              "      <td>0.950000</td>\n",
              "      <td>0.926829</td>\n",
              "      <td>20.000000</td>\n",
              "    </tr>\n",
              "    <tr>\n",
              "      <th>yes</th>\n",
              "      <td>0.072072</td>\n",
              "      <td>0.400000</td>\n",
              "      <td>0.122137</td>\n",
              "      <td>20.000000</td>\n",
              "    </tr>\n",
              "    <tr>\n",
              "      <th>accuracy</th>\n",
              "      <td>0.800968</td>\n",
              "      <td>0.800968</td>\n",
              "      <td>0.800968</td>\n",
              "      <td>0.800968</td>\n",
              "    </tr>\n",
              "    <tr>\n",
              "      <th>macro avg</th>\n",
              "      <td>0.783436</td>\n",
              "      <td>0.822185</td>\n",
              "      <td>0.788024</td>\n",
              "      <td>3100.000000</td>\n",
              "    </tr>\n",
              "    <tr>\n",
              "      <th>weighted avg</th>\n",
              "      <td>0.763218</td>\n",
              "      <td>0.800968</td>\n",
              "      <td>0.767688</td>\n",
              "      <td>3100.000000</td>\n",
              "    </tr>\n",
              "  </tbody>\n",
              "</table>\n",
              "<p>154 rows × 4 columns</p>\n",
              "</div>\n",
              "      <button class=\"colab-df-convert\" onclick=\"convertToInteractive('df-ff9b3a93-732c-417b-96dc-e82dddc46182')\"\n",
              "              title=\"Convert this dataframe to an interactive table.\"\n",
              "              style=\"display:none;\">\n",
              "        \n",
              "  <svg xmlns=\"http://www.w3.org/2000/svg\" height=\"24px\"viewBox=\"0 0 24 24\"\n",
              "       width=\"24px\">\n",
              "    <path d=\"M0 0h24v24H0V0z\" fill=\"none\"/>\n",
              "    <path d=\"M18.56 5.44l.94 2.06.94-2.06 2.06-.94-2.06-.94-.94-2.06-.94 2.06-2.06.94zm-11 1L8.5 8.5l.94-2.06 2.06-.94-2.06-.94L8.5 2.5l-.94 2.06-2.06.94zm10 10l.94 2.06.94-2.06 2.06-.94-2.06-.94-.94-2.06-.94 2.06-2.06.94z\"/><path d=\"M17.41 7.96l-1.37-1.37c-.4-.4-.92-.59-1.43-.59-.52 0-1.04.2-1.43.59L10.3 9.45l-7.72 7.72c-.78.78-.78 2.05 0 2.83L4 21.41c.39.39.9.59 1.41.59.51 0 1.02-.2 1.41-.59l7.78-7.78 2.81-2.81c.8-.78.8-2.07 0-2.86zM5.41 20L4 18.59l7.72-7.72 1.47 1.35L5.41 20z\"/>\n",
              "  </svg>\n",
              "      </button>\n",
              "      \n",
              "  <style>\n",
              "    .colab-df-container {\n",
              "      display:flex;\n",
              "      flex-wrap:wrap;\n",
              "      gap: 12px;\n",
              "    }\n",
              "\n",
              "    .colab-df-convert {\n",
              "      background-color: #E8F0FE;\n",
              "      border: none;\n",
              "      border-radius: 50%;\n",
              "      cursor: pointer;\n",
              "      display: none;\n",
              "      fill: #1967D2;\n",
              "      height: 32px;\n",
              "      padding: 0 0 0 0;\n",
              "      width: 32px;\n",
              "    }\n",
              "\n",
              "    .colab-df-convert:hover {\n",
              "      background-color: #E2EBFA;\n",
              "      box-shadow: 0px 1px 2px rgba(60, 64, 67, 0.3), 0px 1px 3px 1px rgba(60, 64, 67, 0.15);\n",
              "      fill: #174EA6;\n",
              "    }\n",
              "\n",
              "    [theme=dark] .colab-df-convert {\n",
              "      background-color: #3B4455;\n",
              "      fill: #D2E3FC;\n",
              "    }\n",
              "\n",
              "    [theme=dark] .colab-df-convert:hover {\n",
              "      background-color: #434B5C;\n",
              "      box-shadow: 0px 1px 3px 1px rgba(0, 0, 0, 0.15);\n",
              "      filter: drop-shadow(0px 1px 2px rgba(0, 0, 0, 0.3));\n",
              "      fill: #FFFFFF;\n",
              "    }\n",
              "  </style>\n",
              "\n",
              "      <script>\n",
              "        const buttonEl =\n",
              "          document.querySelector('#df-ff9b3a93-732c-417b-96dc-e82dddc46182 button.colab-df-convert');\n",
              "        buttonEl.style.display =\n",
              "          google.colab.kernel.accessAllowed ? 'block' : 'none';\n",
              "\n",
              "        async function convertToInteractive(key) {\n",
              "          const element = document.querySelector('#df-ff9b3a93-732c-417b-96dc-e82dddc46182');\n",
              "          const dataTable =\n",
              "            await google.colab.kernel.invokeFunction('convertToInteractive',\n",
              "                                                     [key], {});\n",
              "          if (!dataTable) return;\n",
              "\n",
              "          const docLinkHtml = 'Like what you see? Visit the ' +\n",
              "            '<a target=\"_blank\" href=https://colab.research.google.com/notebooks/data_table.ipynb>data table notebook</a>'\n",
              "            + ' to learn more about interactive tables.';\n",
              "          element.innerHTML = '';\n",
              "          dataTable['output_type'] = 'display_data';\n",
              "          await google.colab.output.renderOutput(dataTable, element);\n",
              "          const docLink = document.createElement('div');\n",
              "          docLink.innerHTML = docLinkHtml;\n",
              "          element.appendChild(docLink);\n",
              "        }\n",
              "      </script>\n",
              "    </div>\n",
              "  </div>\n",
              "  "
            ]
          },
          "metadata": {},
          "execution_count": 45
        }
      ]
    },
    {
      "cell_type": "markdown",
      "source": [
        "Since the accuracy is quite low compared to the baseline models presented in the paper, we do not continue with this method, and istead use the clustering only for the OOS predictions. "
      ],
      "metadata": {
        "id": "5wa7PT3J95kc"
      },
      "id": "5wa7PT3J95kc"
    },
    {
      "cell_type": "code",
      "source": [],
      "metadata": {
        "id": "fT50k005-AUy"
      },
      "id": "fT50k005-AUy",
      "execution_count": null,
      "outputs": []
    }
  ],
  "metadata": {
    "kernelspec": {
      "display_name": "Python 3 (ipykernel)",
      "language": "python",
      "name": "python3"
    },
    "language_info": {
      "codemirror_mode": {
        "name": "ipython",
        "version": 3
      },
      "file_extension": ".py",
      "mimetype": "text/x-python",
      "name": "python",
      "nbconvert_exporter": "python",
      "pygments_lexer": "ipython3",
      "version": "3.10.4"
    },
    "colab": {
      "provenance": []
    },
    "accelerator": "GPU",
    "gpuClass": "standard"
  },
  "nbformat": 4,
  "nbformat_minor": 5
}