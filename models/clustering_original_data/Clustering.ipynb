{
  "cells": [
    {
      "cell_type": "code",
      "execution_count": 1,
      "id": "6cf154a3",
      "metadata": {
        "id": "6cf154a3"
      },
      "outputs": [],
      "source": [
        "import pandas as pd\n",
        "from sklearn.cluster import KMeans\n",
        "from sklearn.metrics import classification_report\n",
        "import matplotlib.pyplot as plt\n",
        "import seaborn as sns\n",
        "from tqdm import tqdm\n",
        "from sentence_transformers import SentenceTransformer, util\n",
        "sns.set_theme()\n",
        "tqdm.pandas()"
      ]
    },
    {
      "cell_type": "code",
      "execution_count": 2,
      "id": "49591b5d",
      "metadata": {
        "id": "49591b5d"
      },
      "outputs": [],
      "source": [
        "df_train = pd.read_csv(\"../../data/original_dataset/original_train_data.csv\")\n",
        "df_eval = pd.read_csv(\"../../data/original_dataset/original_val_data.csv\")\n",
        "df_test = pd.read_csv(\"../../data/original_dataset/original_test_data.csv\")"
      ]
    },
    {
      "cell_type": "markdown",
      "id": "8c5e7d25",
      "metadata": {
        "id": "8c5e7d25"
      },
      "source": [
        "## Training data without OOS for the initial clustering:"
      ]
    },
    {
      "cell_type": "code",
      "execution_count": 3,
      "id": "1d0b65f0",
      "metadata": {
        "id": "1d0b65f0"
      },
      "outputs": [],
      "source": [
        "df_train_no_oos = df_train[df_train.label!=\"oos\"]"
      ]
    },
    {
      "cell_type": "code",
      "execution_count": 4,
      "id": "4016eaf1",
      "metadata": {
        "colab": {
          "base_uri": "https://localhost:8080/"
        },
        "id": "4016eaf1",
        "outputId": "ea9d19b7-e379-44b6-b8c2-9c44f0fda3c9"
      },
      "outputs": [
        {
          "output_type": "execute_result",
          "data": {
            "text/plain": [
              "((15100, 2), (15000, 2))"
            ]
          },
          "metadata": {},
          "execution_count": 4
        }
      ],
      "source": [
        "df_train.shape, df_train_no_oos.shape"
      ]
    },
    {
      "cell_type": "code",
      "execution_count": 5,
      "id": "c84f768e",
      "metadata": {
        "scrolled": true,
        "colab": {
          "base_uri": "https://localhost:8080/"
        },
        "id": "c84f768e",
        "outputId": "ed81cce2-afa4-401c-befb-0d90b08e0792"
      },
      "outputs": [
        {
          "output_type": "execute_result",
          "data": {
            "text/plain": [
              "shopping_list                100\n",
              "exchange_rate                100\n",
              "time                         100\n",
              "current_location             100\n",
              "change_ai_name               100\n",
              "                            ... \n",
              "definition                   100\n",
              "international_visa           100\n",
              "replacement_card_duration    100\n",
              "who_made_you                 100\n",
              "next_song                    100\n",
              "Name: label, Length: 151, dtype: int64"
            ]
          },
          "metadata": {},
          "execution_count": 5
        }
      ],
      "source": [
        "df_train.label.value_counts()"
      ]
    },
    {
      "cell_type": "markdown",
      "source": [
        "# Sentence Transformers - MPNET"
      ],
      "metadata": {
        "id": "EElUVcZ602da"
      },
      "id": "EElUVcZ602da"
    },
    {
      "cell_type": "code",
      "source": [
        "mpnet = SentenceTransformer(\"all-mpnet-base-v2\")"
      ],
      "metadata": {
        "id": "tFtl4-nI04aC"
      },
      "id": "tFtl4-nI04aC",
      "execution_count": 6,
      "outputs": []
    },
    {
      "cell_type": "code",
      "source": [
        "sentence_embeddings = []\n",
        "embedding_matrix = mpnet.encode(df_train_no_oos[\"query\"].values)\n",
        "for i in range(embedding_matrix.shape[0]):\n",
        "  sentence_embeddings.append(embedding_matrix[i])  \n",
        "\n",
        "df_train_no_oos[\"mpnet_embeddings_sentence\"] = sentence_embeddings"
      ],
      "metadata": {
        "colab": {
          "base_uri": "https://localhost:8080/"
        },
        "id": "aQCDo2uk09fD",
        "outputId": "c32b5640-5555-48bb-ee3e-c235430e7e91"
      },
      "id": "aQCDo2uk09fD",
      "execution_count": 7,
      "outputs": [
        {
          "output_type": "stream",
          "name": "stderr",
          "text": [
            "<ipython-input-7-fb4de2061ae3>:6: SettingWithCopyWarning: \n",
            "A value is trying to be set on a copy of a slice from a DataFrame.\n",
            "Try using .loc[row_indexer,col_indexer] = value instead\n",
            "\n",
            "See the caveats in the documentation: https://pandas.pydata.org/pandas-docs/stable/user_guide/indexing.html#returning-a-view-versus-a-copy\n",
            "  df_train_no_oos[\"mpnet_embeddings_sentence\"] = sentence_embeddings\n"
          ]
        }
      ]
    },
    {
      "cell_type": "markdown",
      "id": "920fc685",
      "metadata": {
        "id": "920fc685"
      },
      "source": [
        "# Clustering with 150 clusters for 150 intents"
      ]
    },
    {
      "cell_type": "code",
      "source": [
        "(df_train_no_oos[\"mpnet_embeddings_sentence\"].values).shape"
      ],
      "metadata": {
        "colab": {
          "base_uri": "https://localhost:8080/"
        },
        "id": "lvzC911E4Jtx",
        "outputId": "513b9a93-e477-41e6-b10c-5846ce1fd0d4"
      },
      "id": "lvzC911E4Jtx",
      "execution_count": 9,
      "outputs": [
        {
          "output_type": "execute_result",
          "data": {
            "text/plain": [
              "(15000,)"
            ]
          },
          "metadata": {},
          "execution_count": 9
        }
      ]
    },
    {
      "cell_type": "code",
      "execution_count": 10,
      "id": "25783286",
      "metadata": {
        "colab": {
          "base_uri": "https://localhost:8080/"
        },
        "id": "25783286",
        "outputId": "38cd89cc-12ba-432c-bc50-d68cb20d735f"
      },
      "outputs": [
        {
          "output_type": "stream",
          "name": "stderr",
          "text": [
            "/usr/local/lib/python3.9/dist-packages/sklearn/cluster/_kmeans.py:870: FutureWarning: The default value of `n_init` will change from 10 to 'auto' in 1.4. Set the value of `n_init` explicitly to suppress the warning\n",
            "  warnings.warn(\n"
          ]
        }
      ],
      "source": [
        "X = embedding_matrix\n",
        "kmeans = KMeans(n_clusters=150, random_state=0)\n",
        "clusters = kmeans.fit_predict(X)"
      ]
    },
    {
      "cell_type": "code",
      "execution_count": 10,
      "id": "3ce6cfaa",
      "metadata": {
        "id": "3ce6cfaa"
      },
      "outputs": [],
      "source": []
    },
    {
      "cell_type": "markdown",
      "id": "d26f9d0a",
      "metadata": {
        "id": "d26f9d0a"
      },
      "source": [
        "# Get distribution of each cluster"
      ]
    },
    {
      "cell_type": "code",
      "execution_count": 11,
      "id": "8585f90d",
      "metadata": {
        "colab": {
          "base_uri": "https://localhost:8080/"
        },
        "id": "8585f90d",
        "outputId": "8f574aba-2fa0-4c4f-9fef-ec083baefcde"
      },
      "outputs": [
        {
          "output_type": "stream",
          "name": "stderr",
          "text": [
            "<ipython-input-11-ed4596975abd>:1: SettingWithCopyWarning: \n",
            "A value is trying to be set on a copy of a slice from a DataFrame.\n",
            "Try using .loc[row_indexer,col_indexer] = value instead\n",
            "\n",
            "See the caveats in the documentation: https://pandas.pydata.org/pandas-docs/stable/user_guide/indexing.html#returning-a-view-versus-a-copy\n",
            "  df_train_no_oos[\"cluster\"] = clusters\n"
          ]
        }
      ],
      "source": [
        "df_train_no_oos[\"cluster\"] = clusters"
      ]
    },
    {
      "cell_type": "code",
      "execution_count": 31,
      "id": "bfadae60",
      "metadata": {
        "colab": {
          "base_uri": "https://localhost:8080/"
        },
        "id": "bfadae60",
        "outputId": "2bf74ec2-82e2-4d10-b026-b7bad9e428ef"
      },
      "outputs": [
        {
          "output_type": "execute_result",
          "data": {
            "text/plain": [
              "cluster  label                    \n",
              "0        tire_change                  0.980198\n",
              "         last_maintenance             0.009901\n",
              "         schedule_maintenance         0.009901\n",
              "1        pto_request                  0.537037\n",
              "         pto_request_status           0.444444\n",
              "         pto_balance                  0.018519\n",
              "2        redeem_rewards               0.942308\n",
              "         rewards_balance              0.038462\n",
              "         new_card                     0.019231\n",
              "3        replacement_card_duration    1.000000\n",
              "4        reminder_update              0.472973\n",
              "         reminder                     0.243243\n",
              "         cancel                       0.040541\n",
              "         share_location               0.040541\n",
              "         timer                        0.040541\n",
              "         goodbye                      0.027027\n",
              "         balance                      0.013514\n",
              "         bill_balance                 0.013514\n",
              "         income                       0.013514\n",
              "         meal_suggestion              0.013514\n",
              "Name: label, dtype: float64"
            ]
          },
          "metadata": {},
          "execution_count": 31
        }
      ],
      "source": [
        "df_train_no_oos.groupby(\"cluster\")[\"label\"].value_counts(normalize=True)[:20]"
      ]
    },
    {
      "cell_type": "code",
      "execution_count": 13,
      "id": "a1fd6971",
      "metadata": {
        "colab": {
          "base_uri": "https://localhost:8080/"
        },
        "id": "a1fd6971",
        "outputId": "7f727b00-cfdd-4a7c-fdea-7f8dc9361646"
      },
      "outputs": [
        {
          "output_type": "execute_result",
          "data": {
            "text/plain": [
              "label                cluster\n",
              "accept_reservations  68         0.98\n",
              "                     21         0.01\n",
              "                     108        0.01\n",
              "account_blocked      47         0.97\n",
              "                     109        0.02\n",
              "                                ... \n",
              "yes                  48         0.58\n",
              "                     108        0.36\n",
              "                     137        0.03\n",
              "                     111        0.02\n",
              "                     4          0.01\n",
              "Name: cluster, Length: 512, dtype: float64"
            ]
          },
          "metadata": {},
          "execution_count": 13
        }
      ],
      "source": [
        "df_train_no_oos.groupby(\"label\")[\"cluster\"].value_counts(normalize=True)"
      ]
    },
    {
      "cell_type": "code",
      "execution_count": 14,
      "id": "aaec9711",
      "metadata": {
        "colab": {
          "base_uri": "https://localhost:8080/"
        },
        "id": "aaec9711",
        "outputId": "a49ba9f8-1013-4f13-cc51-f76f77a6e835"
      },
      "outputs": [
        {
          "output_type": "execute_result",
          "data": {
            "text/plain": [
              "query                                    what products are on my shopping list\n",
              "label                                                            shopping_list\n",
              "mpnet_embeddings_sentence    [0.054108698, -0.022276683, 0.002722802, -0.00...\n",
              "cluster                                                                     22\n",
              "Name: 0, dtype: object"
            ]
          },
          "metadata": {},
          "execution_count": 14
        }
      ],
      "source": [
        "df_train_no_oos.iloc[0]"
      ]
    },
    {
      "cell_type": "code",
      "execution_count": 15,
      "id": "f0a79d8f",
      "metadata": {
        "colab": {
          "base_uri": "https://localhost:8080/"
        },
        "id": "f0a79d8f",
        "outputId": "377b49bb-6f33-45a2-ba47-065590e42265"
      },
      "outputs": [
        {
          "output_type": "execute_result",
          "data": {
            "text/plain": [
              "array([[1.282259  , 1.1918143 , 1.1550746 , 1.2472636 , 0.993345  ,\n",
              "        1.1745578 , 1.1882201 , 1.1133975 , 1.1683555 , 1.1188431 ,\n",
              "        1.1589363 , 1.0857171 , 1.1826276 , 1.2595925 , 1.1900183 ,\n",
              "        1.1143723 , 1.2211809 , 1.1039914 , 1.0242587 , 1.1187304 ,\n",
              "        1.2573937 , 1.1292385 , 0.42142203, 1.1364903 , 1.2576085 ,\n",
              "        1.1875852 , 1.1497083 , 1.2797967 , 1.1222352 , 1.163643  ,\n",
              "        1.24705   , 1.1737405 , 1.1886344 , 1.1892498 , 1.1536143 ,\n",
              "        1.2047955 , 1.1553203 , 1.2167102 , 1.3195615 , 1.1693119 ,\n",
              "        1.0379696 , 1.0076298 , 1.201972  , 1.1093078 , 1.2091751 ,\n",
              "        1.251933  , 1.2091292 , 1.1937691 , 1.2233648 , 1.1416177 ,\n",
              "        1.1242657 , 1.0380611 , 1.1309012 , 1.132996  , 1.1363591 ,\n",
              "        1.1988082 , 1.0682591 , 0.99840283, 1.2255784 , 0.9044398 ,\n",
              "        1.2370925 , 1.1354269 , 1.2715404 , 1.2548178 , 1.1216071 ,\n",
              "        1.1799694 , 1.2664981 , 1.1991059 , 1.17154   , 1.2346119 ,\n",
              "        1.1404157 , 1.1134758 , 1.1491339 , 1.2569482 , 1.2549589 ,\n",
              "        1.1494281 , 1.1392871 , 1.1348424 , 1.1029238 , 1.1811569 ,\n",
              "        1.1706021 , 1.2153102 , 1.0418541 , 1.168085  , 1.2033063 ,\n",
              "        1.2430936 , 1.0246365 , 1.2359511 , 1.1810691 , 1.107986  ,\n",
              "        1.114159  , 1.1007261 , 1.0413207 , 1.1343914 , 1.1463333 ,\n",
              "        1.1718867 , 1.2227439 , 1.106043  , 1.1841697 , 1.1413386 ,\n",
              "        1.0916026 , 1.1255883 , 1.1476266 , 1.1886417 , 1.1773638 ,\n",
              "        0.7837952 , 1.2003328 , 1.2618558 , 1.0367844 , 1.1880904 ,\n",
              "        1.1729649 , 1.0831064 , 1.2266122 , 1.2489767 , 1.2263522 ,\n",
              "        1.229036  , 1.2029424 , 1.1402439 , 1.1428742 , 1.0976588 ,\n",
              "        1.1892369 , 1.1809514 , 1.1100655 , 1.1030232 , 1.008126  ,\n",
              "        1.0623512 , 1.0300293 , 1.2239215 , 1.1885437 , 1.2112641 ,\n",
              "        1.2069777 , 1.1836973 , 1.1077669 , 1.1772332 , 1.2605776 ,\n",
              "        1.1542159 , 1.1646982 , 1.0689441 , 1.098276  , 1.0524062 ,\n",
              "        1.1122105 , 1.0064174 , 1.1509379 , 1.0533143 , 1.2052819 ,\n",
              "        1.1548431 , 1.0754348 , 0.6592741 , 1.1203885 , 1.0651845 ]],\n",
              "      dtype=float32)"
            ]
          },
          "metadata": {},
          "execution_count": 15
        }
      ],
      "source": [
        "kmeans.transform(mpnet.encode([df_train_no_oos[\"query\"].iloc[0]]))"
      ]
    },
    {
      "cell_type": "code",
      "execution_count": 16,
      "id": "d4fcf361",
      "metadata": {
        "id": "d4fcf361"
      },
      "outputs": [],
      "source": [
        "def compute_distance_of_closest_cluster(df):\n",
        "    cluster_distances = kmeans.transform(mpnet.encode(df[\"query\"].values))\n",
        "    cluster_min_distances = cluster_distances.min(axis=1)\n",
        "    df[\"min_distances\"] = cluster_min_distances\n",
        "    "
      ]
    },
    {
      "cell_type": "code",
      "execution_count": 17,
      "id": "bcb3f268",
      "metadata": {
        "colab": {
          "base_uri": "https://localhost:8080/"
        },
        "id": "bcb3f268",
        "outputId": "c3a4b8e6-76c7-4643-c86f-aef4a9f988d4"
      },
      "outputs": [
        {
          "output_type": "stream",
          "name": "stderr",
          "text": [
            "<ipython-input-16-fdf4798851b4>:4: SettingWithCopyWarning: \n",
            "A value is trying to be set on a copy of a slice from a DataFrame.\n",
            "Try using .loc[row_indexer,col_indexer] = value instead\n",
            "\n",
            "See the caveats in the documentation: https://pandas.pydata.org/pandas-docs/stable/user_guide/indexing.html#returning-a-view-versus-a-copy\n",
            "  df[\"min_distances\"] = cluster_min_distances\n"
          ]
        }
      ],
      "source": [
        "compute_distance_of_closest_cluster(df_train_no_oos)"
      ]
    },
    {
      "cell_type": "code",
      "execution_count": 18,
      "id": "39d4191e",
      "metadata": {
        "colab": {
          "base_uri": "https://localhost:8080/",
          "height": 474
        },
        "id": "39d4191e",
        "outputId": "7a89f880-d0e6-44ac-d3ad-cd0e4548aa2f"
      },
      "outputs": [
        {
          "output_type": "execute_result",
          "data": {
            "text/plain": [
              "Text(0.5, 1.0, 'Distance to closest centres for in-scope intent queries')"
            ]
          },
          "metadata": {},
          "execution_count": 18
        },
        {
          "output_type": "display_data",
          "data": {
            "text/plain": [
              "<Figure size 640x480 with 1 Axes>"
            ],
            "image/png": "[encoded data removed]"
          },
          "metadata": {}
        }
      ],
      "source": [
        "df_train_no_oos.min_distances.hist(bins=20)\n",
        "plt.title(\"Distance to closest centres for in-scope intent queries\")"
      ]
    },
    {
      "cell_type": "code",
      "execution_count": 19,
      "id": "e9b3d8b2",
      "metadata": {
        "id": "e9b3d8b2"
      },
      "outputs": [],
      "source": [
        "df_train_oos = df_train[df_train.label==\"oos\"]"
      ]
    },
    {
      "cell_type": "code",
      "execution_count": 20,
      "id": "ebca1d05",
      "metadata": {
        "colab": {
          "base_uri": "https://localhost:8080/",
          "height": 598
        },
        "id": "ebca1d05",
        "outputId": "487c888c-e0f5-471e-d278-e914b2666abc"
      },
      "outputs": [
        {
          "output_type": "stream",
          "name": "stderr",
          "text": [
            "<ipython-input-16-fdf4798851b4>:4: SettingWithCopyWarning: \n",
            "A value is trying to be set on a copy of a slice from a DataFrame.\n",
            "Try using .loc[row_indexer,col_indexer] = value instead\n",
            "\n",
            "See the caveats in the documentation: https://pandas.pydata.org/pandas-docs/stable/user_guide/indexing.html#returning-a-view-versus-a-copy\n",
            "  df[\"min_distances\"] = cluster_min_distances\n"
          ]
        },
        {
          "output_type": "execute_result",
          "data": {
            "text/plain": [
              "Text(0.5, 1.0, 'Distance to closest centres for out-of-scope intent queries')"
            ]
          },
          "metadata": {},
          "execution_count": 20
        },
        {
          "output_type": "display_data",
          "data": {
            "text/plain": [
              "<Figure size 640x480 with 1 Axes>"
            ],
            "image/png": "[encoded data removed]"
          },
          "metadata": {}
        }
      ],
      "source": [
        "compute_distance_of_closest_cluster(df_train_oos)\n",
        "df_train_oos.min_distances.hist(bins=20)\n",
        "plt.title(\"Distance to closest centres for out-of-scope intent queries\")"
      ]
    },
    {
      "cell_type": "code",
      "execution_count": 21,
      "id": "f1f12c75",
      "metadata": {
        "colab": {
          "base_uri": "https://localhost:8080/",
          "height": 423
        },
        "id": "f1f12c75",
        "outputId": "ed4cfe2b-fba8-4cfc-d05f-77ba2780c850"
      },
      "outputs": [
        {
          "output_type": "execute_result",
          "data": {
            "text/plain": [
              "                                                   query label  min_distances\n",
              "142                            when was nintendo created   oos       1.009350\n",
              "411             can you help me study for a history exam   oos       0.982383\n",
              "472            what is the highest earning game on atari   oos       1.064957\n",
              "675          who is the scariest character in start trek   oos       1.063868\n",
              "842                                where is the dipstick   oos       1.014657\n",
              "...                                                  ...   ...            ...\n",
              "14418                     what is the next football game   oos       1.015986\n",
              "14472            how many oscars did star wars films win   oos       1.050834\n",
              "14897  what's the best price on super smash bros ulti...   oos       1.028082\n",
              "14900  who's toledo's starting point guard for the ne...   oos       1.024270\n",
              "15024                                   how is glue made   oos       0.966910\n",
              "\n",
              "[100 rows x 3 columns]"
            ],
            "text/html": [
              "\n",
              "  <div id=\"df-b3b93cc2-0fd4-4d9c-8800-4c28c89db085\">\n",
              "    <div class=\"colab-df-container\">\n",
              "      <div>\n",
              "<style scoped>\n",
              "    .dataframe tbody tr th:only-of-type {\n",
              "        vertical-align: middle;\n",
              "    }\n",
              "\n",
              "    .dataframe tbody tr th {\n",
              "        vertical-align: top;\n",
              "    }\n",
              "\n",
              "    .dataframe thead th {\n",
              "        text-align: right;\n",
              "    }\n",
              "</style>\n",
              "<table border=\"1\" class=\"dataframe\">\n",
              "  <thead>\n",
              "    <tr style=\"text-align: right;\">\n",
              "      <th></th>\n",
              "      <th>query</th>\n",
              "      <th>label</th>\n",
              "      <th>min_distances</th>\n",
              "    </tr>\n",
              "  </thead>\n",
              "  <tbody>\n",
              "    <tr>\n",
              "      <th>142</th>\n",
              "      <td>when was nintendo created</td>\n",
              "      <td>oos</td>\n",
              "      <td>1.009350</td>\n",
              "    </tr>\n",
              "    <tr>\n",
              "      <th>411</th>\n",
              "      <td>can you help me study for a history exam</td>\n",
              "      <td>oos</td>\n",
              "      <td>0.982383</td>\n",
              "    </tr>\n",
              "    <tr>\n",
              "      <th>472</th>\n",
              "      <td>what is the highest earning game on atari</td>\n",
              "      <td>oos</td>\n",
              "      <td>1.064957</td>\n",
              "    </tr>\n",
              "    <tr>\n",
              "      <th>675</th>\n",
              "      <td>who is the scariest character in start trek</td>\n",
              "      <td>oos</td>\n",
              "      <td>1.063868</td>\n",
              "    </tr>\n",
              "    <tr>\n",
              "      <th>842</th>\n",
              "      <td>where is the dipstick</td>\n",
              "      <td>oos</td>\n",
              "      <td>1.014657</td>\n",
              "    </tr>\n",
              "    <tr>\n",
              "      <th>...</th>\n",
              "      <td>...</td>\n",
              "      <td>...</td>\n",
              "      <td>...</td>\n",
              "    </tr>\n",
              "    <tr>\n",
              "      <th>14418</th>\n",
              "      <td>what is the next football game</td>\n",
              "      <td>oos</td>\n",
              "      <td>1.015986</td>\n",
              "    </tr>\n",
              "    <tr>\n",
              "      <th>14472</th>\n",
              "      <td>how many oscars did star wars films win</td>\n",
              "      <td>oos</td>\n",
              "      <td>1.050834</td>\n",
              "    </tr>\n",
              "    <tr>\n",
              "      <th>14897</th>\n",
              "      <td>what's the best price on super smash bros ulti...</td>\n",
              "      <td>oos</td>\n",
              "      <td>1.028082</td>\n",
              "    </tr>\n",
              "    <tr>\n",
              "      <th>14900</th>\n",
              "      <td>who's toledo's starting point guard for the ne...</td>\n",
              "      <td>oos</td>\n",
              "      <td>1.024270</td>\n",
              "    </tr>\n",
              "    <tr>\n",
              "      <th>15024</th>\n",
              "      <td>how is glue made</td>\n",
              "      <td>oos</td>\n",
              "      <td>0.966910</td>\n",
              "    </tr>\n",
              "  </tbody>\n",
              "</table>\n",
              "<p>100 rows × 3 columns</p>\n",
              "</div>\n",
              "      <button class=\"colab-df-convert\" onclick=\"convertToInteractive('df-b3b93cc2-0fd4-4d9c-8800-4c28c89db085')\"\n",
              "              title=\"Convert this dataframe to an interactive table.\"\n",
              "              style=\"display:none;\">\n",
              "        \n",
              "  <svg xmlns=\"http://www.w3.org/2000/svg\" height=\"24px\"viewBox=\"0 0 24 24\"\n",
              "       width=\"24px\">\n",
              "    <path d=\"M0 0h24v24H0V0z\" fill=\"none\"/>\n",
              "    <path d=\"M18.56 5.44l.94 2.06.94-2.06 2.06-.94-2.06-.94-.94-2.06-.94 2.06-2.06.94zm-11 1L8.5 8.5l.94-2.06 2.06-.94-2.06-.94L8.5 2.5l-.94 2.06-2.06.94zm10 10l.94 2.06.94-2.06 2.06-.94-2.06-.94-.94-2.06-.94 2.06-2.06.94z\"/><path d=\"M17.41 7.96l-1.37-1.37c-.4-.4-.92-.59-1.43-.59-.52 0-1.04.2-1.43.59L10.3 9.45l-7.72 7.72c-.78.78-.78 2.05 0 2.83L4 21.41c.39.39.9.59 1.41.59.51 0 1.02-.2 1.41-.59l7.78-7.78 2.81-2.81c.8-.78.8-2.07 0-2.86zM5.41 20L4 18.59l7.72-7.72 1.47 1.35L5.41 20z\"/>\n",
              "  </svg>\n",
              "      </button>\n",
              "      \n",
              "  <style>\n",
              "    .colab-df-container {\n",
              "      display:flex;\n",
              "      flex-wrap:wrap;\n",
              "      gap: 12px;\n",
              "    }\n",
              "\n",
              "    .colab-df-convert {\n",
              "      background-color: #E8F0FE;\n",
              "      border: none;\n",
              "      border-radius: 50%;\n",
              "      cursor: pointer;\n",
              "      display: none;\n",
              "      fill: #1967D2;\n",
              "      height: 32px;\n",
              "      padding: 0 0 0 0;\n",
              "      width: 32px;\n",
              "    }\n",
              "\n",
              "    .colab-df-convert:hover {\n",
              "      background-color: #E2EBFA;\n",
              "      box-shadow: 0px 1px 2px rgba(60, 64, 67, 0.3), 0px 1px 3px 1px rgba(60, 64, 67, 0.15);\n",
              "      fill: #174EA6;\n",
              "    }\n",
              "\n",
              "    [theme=dark] .colab-df-convert {\n",
              "      background-color: #3B4455;\n",
              "      fill: #D2E3FC;\n",
              "    }\n",
              "\n",
              "    [theme=dark] .colab-df-convert:hover {\n",
              "      background-color: #434B5C;\n",
              "      box-shadow: 0px 1px 3px 1px rgba(0, 0, 0, 0.15);\n",
              "      filter: drop-shadow(0px 1px 2px rgba(0, 0, 0, 0.3));\n",
              "      fill: #FFFFFF;\n",
              "    }\n",
              "  </style>\n",
              "\n",
              "      <script>\n",
              "        const buttonEl =\n",
              "          document.querySelector('#df-b3b93cc2-0fd4-4d9c-8800-4c28c89db085 button.colab-df-convert');\n",
              "        buttonEl.style.display =\n",
              "          google.colab.kernel.accessAllowed ? 'block' : 'none';\n",
              "\n",
              "        async function convertToInteractive(key) {\n",
              "          const element = document.querySelector('#df-b3b93cc2-0fd4-4d9c-8800-4c28c89db085');\n",
              "          const dataTable =\n",
              "            await google.colab.kernel.invokeFunction('convertToInteractive',\n",
              "                                                     [key], {});\n",
              "          if (!dataTable) return;\n",
              "\n",
              "          const docLinkHtml = 'Like what you see? Visit the ' +\n",
              "            '<a target=\"_blank\" href=https://colab.research.google.com/notebooks/data_table.ipynb>data table notebook</a>'\n",
              "            + ' to learn more about interactive tables.';\n",
              "          element.innerHTML = '';\n",
              "          dataTable['output_type'] = 'display_data';\n",
              "          await google.colab.output.renderOutput(dataTable, element);\n",
              "          const docLink = document.createElement('div');\n",
              "          docLink.innerHTML = docLinkHtml;\n",
              "          element.appendChild(docLink);\n",
              "        }\n",
              "      </script>\n",
              "    </div>\n",
              "  </div>\n",
              "  "
            ]
          },
          "metadata": {},
          "execution_count": 21
        }
      ],
      "source": [
        "df_train_oos"
      ]
    },
    {
      "cell_type": "markdown",
      "id": "c5e6e7a7",
      "metadata": {
        "id": "c5e6e7a7"
      },
      "source": [
        "# Evaluating approach - OOS Recall"
      ]
    },
    {
      "cell_type": "code",
      "execution_count": 22,
      "id": "b4e4e210",
      "metadata": {
        "id": "b4e4e210"
      },
      "outputs": [],
      "source": [
        "THRESHOLD = 0.95"
      ]
    },
    {
      "cell_type": "code",
      "execution_count": 23,
      "id": "d0744efd",
      "metadata": {
        "id": "d0744efd"
      },
      "outputs": [],
      "source": [
        "compute_distance_of_closest_cluster(df_eval)"
      ]
    },
    {
      "cell_type": "code",
      "execution_count": 24,
      "id": "32d8325a",
      "metadata": {
        "id": "32d8325a"
      },
      "outputs": [],
      "source": [
        "df_eval[\"pred\"] = df_eval.min_distances.apply(lambda x: \"oos\" if x>THRESHOLD else \"in-scope\")"
      ]
    },
    {
      "cell_type": "code",
      "execution_count": 25,
      "id": "895bea40",
      "metadata": {
        "colab": {
          "base_uri": "https://localhost:8080/",
          "height": 423
        },
        "id": "895bea40",
        "outputId": "0868dbbe-aaf8-46dd-92a7-ee00a3b01db7"
      },
      "outputs": [
        {
          "output_type": "execute_result",
          "data": {
            "text/plain": [
              "                                                  query               label  \\\n",
              "0     my account looks to be blocked and i have no i...     account_blocked   \n",
              "1                          what are my recent purchases        transactions   \n",
              "2     if i plan on travelling to this country, do i ...  international_visa   \n",
              "3     mark my calendar that i will be meeting steven...     calendar_update   \n",
              "4                                        i couldn't say               maybe   \n",
              "...                                                 ...                 ...   \n",
              "3095                               i need a spider fact            fun_fact   \n",
              "3096               i'm sorry please repeat the question              repeat   \n",
              "3097                        i prefer to be called jason    change_user_name   \n",
              "3098                dial the last number that called me           make_call   \n",
              "3099  i need to apply for a new credit card that wil...            new_card   \n",
              "\n",
              "      min_distances      pred  \n",
              "0          0.707956  in-scope  \n",
              "1          0.650560  in-scope  \n",
              "2          0.711531  in-scope  \n",
              "3          0.836456  in-scope  \n",
              "4          0.799254  in-scope  \n",
              "...             ...       ...  \n",
              "3095       0.780972  in-scope  \n",
              "3096       0.820536  in-scope  \n",
              "3097       0.686378  in-scope  \n",
              "3098       0.709285  in-scope  \n",
              "3099       0.738939  in-scope  \n",
              "\n",
              "[3100 rows x 4 columns]"
            ],
            "text/html": [
              "\n",
              "  <div id=\"df-c52f8fb3-ad05-4228-9a5c-ebe25ff6c8ec\">\n",
              "    <div class=\"colab-df-container\">\n",
              "      <div>\n",
              "<style scoped>\n",
              "    .dataframe tbody tr th:only-of-type {\n",
              "        vertical-align: middle;\n",
              "    }\n",
              "\n",
              "    .dataframe tbody tr th {\n",
              "        vertical-align: top;\n",
              "    }\n",
              "\n",
              "    .dataframe thead th {\n",
              "        text-align: right;\n",
              "    }\n",
              "</style>\n",
              "<table border=\"1\" class=\"dataframe\">\n",
              "  <thead>\n",
              "    <tr style=\"text-align: right;\">\n",
              "      <th></th>\n",
              "      <th>query</th>\n",
              "      <th>label</th>\n",
              "      <th>min_distances</th>\n",
              "      <th>pred</th>\n",
              "    </tr>\n",
              "  </thead>\n",
              "  <tbody>\n",
              "    <tr>\n",
              "      <th>0</th>\n",
              "      <td>my account looks to be blocked and i have no i...</td>\n",
              "      <td>account_blocked</td>\n",
              "      <td>0.707956</td>\n",
              "      <td>in-scope</td>\n",
              "    </tr>\n",
              "    <tr>\n",
              "      <th>1</th>\n",
              "      <td>what are my recent purchases</td>\n",
              "      <td>transactions</td>\n",
              "      <td>0.650560</td>\n",
              "      <td>in-scope</td>\n",
              "    </tr>\n",
              "    <tr>\n",
              "      <th>2</th>\n",
              "      <td>if i plan on travelling to this country, do i ...</td>\n",
              "      <td>international_visa</td>\n",
              "      <td>0.711531</td>\n",
              "      <td>in-scope</td>\n",
              "    </tr>\n",
              "    <tr>\n",
              "      <th>3</th>\n",
              "      <td>mark my calendar that i will be meeting steven...</td>\n",
              "      <td>calendar_update</td>\n",
              "      <td>0.836456</td>\n",
              "      <td>in-scope</td>\n",
              "    </tr>\n",
              "    <tr>\n",
              "      <th>4</th>\n",
              "      <td>i couldn't say</td>\n",
              "      <td>maybe</td>\n",
              "      <td>0.799254</td>\n",
              "      <td>in-scope</td>\n",
              "    </tr>\n",
              "    <tr>\n",
              "      <th>...</th>\n",
              "      <td>...</td>\n",
              "      <td>...</td>\n",
              "      <td>...</td>\n",
              "      <td>...</td>\n",
              "    </tr>\n",
              "    <tr>\n",
              "      <th>3095</th>\n",
              "      <td>i need a spider fact</td>\n",
              "      <td>fun_fact</td>\n",
              "      <td>0.780972</td>\n",
              "      <td>in-scope</td>\n",
              "    </tr>\n",
              "    <tr>\n",
              "      <th>3096</th>\n",
              "      <td>i'm sorry please repeat the question</td>\n",
              "      <td>repeat</td>\n",
              "      <td>0.820536</td>\n",
              "      <td>in-scope</td>\n",
              "    </tr>\n",
              "    <tr>\n",
              "      <th>3097</th>\n",
              "      <td>i prefer to be called jason</td>\n",
              "      <td>change_user_name</td>\n",
              "      <td>0.686378</td>\n",
              "      <td>in-scope</td>\n",
              "    </tr>\n",
              "    <tr>\n",
              "      <th>3098</th>\n",
              "      <td>dial the last number that called me</td>\n",
              "      <td>make_call</td>\n",
              "      <td>0.709285</td>\n",
              "      <td>in-scope</td>\n",
              "    </tr>\n",
              "    <tr>\n",
              "      <th>3099</th>\n",
              "      <td>i need to apply for a new credit card that wil...</td>\n",
              "      <td>new_card</td>\n",
              "      <td>0.738939</td>\n",
              "      <td>in-scope</td>\n",
              "    </tr>\n",
              "  </tbody>\n",
              "</table>\n",
              "<p>3100 rows × 4 columns</p>\n",
              "</div>\n",
              "      <button class=\"colab-df-convert\" onclick=\"convertToInteractive('df-c52f8fb3-ad05-4228-9a5c-ebe25ff6c8ec')\"\n",
              "              title=\"Convert this dataframe to an interactive table.\"\n",
              "              style=\"display:none;\">\n",
              "        \n",
              "  <svg xmlns=\"http://www.w3.org/2000/svg\" height=\"24px\"viewBox=\"0 0 24 24\"\n",
              "       width=\"24px\">\n",
              "    <path d=\"M0 0h24v24H0V0z\" fill=\"none\"/>\n",
              "    <path d=\"M18.56 5.44l.94 2.06.94-2.06 2.06-.94-2.06-.94-.94-2.06-.94 2.06-2.06.94zm-11 1L8.5 8.5l.94-2.06 2.06-.94-2.06-.94L8.5 2.5l-.94 2.06-2.06.94zm10 10l.94 2.06.94-2.06 2.06-.94-2.06-.94-.94-2.06-.94 2.06-2.06.94z\"/><path d=\"M17.41 7.96l-1.37-1.37c-.4-.4-.92-.59-1.43-.59-.52 0-1.04.2-1.43.59L10.3 9.45l-7.72 7.72c-.78.78-.78 2.05 0 2.83L4 21.41c.39.39.9.59 1.41.59.51 0 1.02-.2 1.41-.59l7.78-7.78 2.81-2.81c.8-.78.8-2.07 0-2.86zM5.41 20L4 18.59l7.72-7.72 1.47 1.35L5.41 20z\"/>\n",
              "  </svg>\n",
              "      </button>\n",
              "      \n",
              "  <style>\n",
              "    .colab-df-container {\n",
              "      display:flex;\n",
              "      flex-wrap:wrap;\n",
              "      gap: 12px;\n",
              "    }\n",
              "\n",
              "    .colab-df-convert {\n",
              "      background-color: #E8F0FE;\n",
              "      border: none;\n",
              "      border-radius: 50%;\n",
              "      cursor: pointer;\n",
              "      display: none;\n",
              "      fill: #1967D2;\n",
              "      height: 32px;\n",
              "      padding: 0 0 0 0;\n",
              "      width: 32px;\n",
              "    }\n",
              "\n",
              "    .colab-df-convert:hover {\n",
              "      background-color: #E2EBFA;\n",
              "      box-shadow: 0px 1px 2px rgba(60, 64, 67, 0.3), 0px 1px 3px 1px rgba(60, 64, 67, 0.15);\n",
              "      fill: #174EA6;\n",
              "    }\n",
              "\n",
              "    [theme=dark] .colab-df-convert {\n",
              "      background-color: #3B4455;\n",
              "      fill: #D2E3FC;\n",
              "    }\n",
              "\n",
              "    [theme=dark] .colab-df-convert:hover {\n",
              "      background-color: #434B5C;\n",
              "      box-shadow: 0px 1px 3px 1px rgba(0, 0, 0, 0.15);\n",
              "      filter: drop-shadow(0px 1px 2px rgba(0, 0, 0, 0.3));\n",
              "      fill: #FFFFFF;\n",
              "    }\n",
              "  </style>\n",
              "\n",
              "      <script>\n",
              "        const buttonEl =\n",
              "          document.querySelector('#df-c52f8fb3-ad05-4228-9a5c-ebe25ff6c8ec button.colab-df-convert');\n",
              "        buttonEl.style.display =\n",
              "          google.colab.kernel.accessAllowed ? 'block' : 'none';\n",
              "\n",
              "        async function convertToInteractive(key) {\n",
              "          const element = document.querySelector('#df-c52f8fb3-ad05-4228-9a5c-ebe25ff6c8ec');\n",
              "          const dataTable =\n",
              "            await google.colab.kernel.invokeFunction('convertToInteractive',\n",
              "                                                     [key], {});\n",
              "          if (!dataTable) return;\n",
              "\n",
              "          const docLinkHtml = 'Like what you see? Visit the ' +\n",
              "            '<a target=\"_blank\" href=https://colab.research.google.com/notebooks/data_table.ipynb>data table notebook</a>'\n",
              "            + ' to learn more about interactive tables.';\n",
              "          element.innerHTML = '';\n",
              "          dataTable['output_type'] = 'display_data';\n",
              "          await google.colab.output.renderOutput(dataTable, element);\n",
              "          const docLink = document.createElement('div');\n",
              "          docLink.innerHTML = docLinkHtml;\n",
              "          element.appendChild(docLink);\n",
              "        }\n",
              "      </script>\n",
              "    </div>\n",
              "  </div>\n",
              "  "
            ]
          },
          "metadata": {},
          "execution_count": 25
        }
      ],
      "source": [
        "df_eval"
      ]
    },
    {
      "cell_type": "code",
      "execution_count": 26,
      "id": "07889a2a",
      "metadata": {
        "id": "07889a2a"
      },
      "outputs": [],
      "source": [
        "df_eval[\"binary_label\"] =  df_eval.label.apply(lambda x: \"oos\" if x==\"oos\" else \"in-scope\")"
      ]
    },
    {
      "cell_type": "code",
      "execution_count": 27,
      "id": "78ed36d8",
      "metadata": {
        "colab": {
          "base_uri": "https://localhost:8080/",
          "height": 206
        },
        "id": "78ed36d8",
        "outputId": "703b31b5-37d0-4f8e-cd25-c3b012c268e3"
      },
      "outputs": [
        {
          "output_type": "execute_result",
          "data": {
            "text/plain": [
              "              precision    recall  f1-score      support\n",
              "in-scope       0.996281  0.982333  0.989258  3000.000000\n",
              "oos            0.626761  0.890000  0.735537   100.000000\n",
              "accuracy       0.979355  0.979355  0.979355     0.979355\n",
              "macro avg      0.811521  0.936167  0.862398  3100.000000\n",
              "weighted avg   0.984361  0.979355  0.981074  3100.000000"
            ],
            "text/html": [
              "\n",
              "  <div id=\"df-42c201f7-e7f2-4f9a-ace1-da28608941b4\">\n",
              "    <div class=\"colab-df-container\">\n",
              "      <div>\n",
              "<style scoped>\n",
              "    .dataframe tbody tr th:only-of-type {\n",
              "        vertical-align: middle;\n",
              "    }\n",
              "\n",
              "    .dataframe tbody tr th {\n",
              "        vertical-align: top;\n",
              "    }\n",
              "\n",
              "    .dataframe thead th {\n",
              "        text-align: right;\n",
              "    }\n",
              "</style>\n",
              "<table border=\"1\" class=\"dataframe\">\n",
              "  <thead>\n",
              "    <tr style=\"text-align: right;\">\n",
              "      <th></th>\n",
              "      <th>precision</th>\n",
              "      <th>recall</th>\n",
              "      <th>f1-score</th>\n",
              "      <th>support</th>\n",
              "    </tr>\n",
              "  </thead>\n",
              "  <tbody>\n",
              "    <tr>\n",
              "      <th>in-scope</th>\n",
              "      <td>0.996281</td>\n",
              "      <td>0.982333</td>\n",
              "      <td>0.989258</td>\n",
              "      <td>3000.000000</td>\n",
              "    </tr>\n",
              "    <tr>\n",
              "      <th>oos</th>\n",
              "      <td>0.626761</td>\n",
              "      <td>0.890000</td>\n",
              "      <td>0.735537</td>\n",
              "      <td>100.000000</td>\n",
              "    </tr>\n",
              "    <tr>\n",
              "      <th>accuracy</th>\n",
              "      <td>0.979355</td>\n",
              "      <td>0.979355</td>\n",
              "      <td>0.979355</td>\n",
              "      <td>0.979355</td>\n",
              "    </tr>\n",
              "    <tr>\n",
              "      <th>macro avg</th>\n",
              "      <td>0.811521</td>\n",
              "      <td>0.936167</td>\n",
              "      <td>0.862398</td>\n",
              "      <td>3100.000000</td>\n",
              "    </tr>\n",
              "    <tr>\n",
              "      <th>weighted avg</th>\n",
              "      <td>0.984361</td>\n",
              "      <td>0.979355</td>\n",
              "      <td>0.981074</td>\n",
              "      <td>3100.000000</td>\n",
              "    </tr>\n",
              "  </tbody>\n",
              "</table>\n",
              "</div>\n",
              "      <button class=\"colab-df-convert\" onclick=\"convertToInteractive('df-42c201f7-e7f2-4f9a-ace1-da28608941b4')\"\n",
              "              title=\"Convert this dataframe to an interactive table.\"\n",
              "              style=\"display:none;\">\n",
              "        \n",
              "  <svg xmlns=\"http://www.w3.org/2000/svg\" height=\"24px\"viewBox=\"0 0 24 24\"\n",
              "       width=\"24px\">\n",
              "    <path d=\"M0 0h24v24H0V0z\" fill=\"none\"/>\n",
              "    <path d=\"M18.56 5.44l.94 2.06.94-2.06 2.06-.94-2.06-.94-.94-2.06-.94 2.06-2.06.94zm-11 1L8.5 8.5l.94-2.06 2.06-.94-2.06-.94L8.5 2.5l-.94 2.06-2.06.94zm10 10l.94 2.06.94-2.06 2.06-.94-2.06-.94-.94-2.06-.94 2.06-2.06.94z\"/><path d=\"M17.41 7.96l-1.37-1.37c-.4-.4-.92-.59-1.43-.59-.52 0-1.04.2-1.43.59L10.3 9.45l-7.72 7.72c-.78.78-.78 2.05 0 2.83L4 21.41c.39.39.9.59 1.41.59.51 0 1.02-.2 1.41-.59l7.78-7.78 2.81-2.81c.8-.78.8-2.07 0-2.86zM5.41 20L4 18.59l7.72-7.72 1.47 1.35L5.41 20z\"/>\n",
              "  </svg>\n",
              "      </button>\n",
              "      \n",
              "  <style>\n",
              "    .colab-df-container {\n",
              "      display:flex;\n",
              "      flex-wrap:wrap;\n",
              "      gap: 12px;\n",
              "    }\n",
              "\n",
              "    .colab-df-convert {\n",
              "      background-color: #E8F0FE;\n",
              "      border: none;\n",
              "      border-radius: 50%;\n",
              "      cursor: pointer;\n",
              "      display: none;\n",
              "      fill: #1967D2;\n",
              "      height: 32px;\n",
              "      padding: 0 0 0 0;\n",
              "      width: 32px;\n",
              "    }\n",
              "\n",
              "    .colab-df-convert:hover {\n",
              "      background-color: #E2EBFA;\n",
              "      box-shadow: 0px 1px 2px rgba(60, 64, 67, 0.3), 0px 1px 3px 1px rgba(60, 64, 67, 0.15);\n",
              "      fill: #174EA6;\n",
              "    }\n",
              "\n",
              "    [theme=dark] .colab-df-convert {\n",
              "      background-color: #3B4455;\n",
              "      fill: #D2E3FC;\n",
              "    }\n",
              "\n",
              "    [theme=dark] .colab-df-convert:hover {\n",
              "      background-color: #434B5C;\n",
              "      box-shadow: 0px 1px 3px 1px rgba(0, 0, 0, 0.15);\n",
              "      filter: drop-shadow(0px 1px 2px rgba(0, 0, 0, 0.3));\n",
              "      fill: #FFFFFF;\n",
              "    }\n",
              "  </style>\n",
              "\n",
              "      <script>\n",
              "        const buttonEl =\n",
              "          document.querySelector('#df-42c201f7-e7f2-4f9a-ace1-da28608941b4 button.colab-df-convert');\n",
              "        buttonEl.style.display =\n",
              "          google.colab.kernel.accessAllowed ? 'block' : 'none';\n",
              "\n",
              "        async function convertToInteractive(key) {\n",
              "          const element = document.querySelector('#df-42c201f7-e7f2-4f9a-ace1-da28608941b4');\n",
              "          const dataTable =\n",
              "            await google.colab.kernel.invokeFunction('convertToInteractive',\n",
              "                                                     [key], {});\n",
              "          if (!dataTable) return;\n",
              "\n",
              "          const docLinkHtml = 'Like what you see? Visit the ' +\n",
              "            '<a target=\"_blank\" href=https://colab.research.google.com/notebooks/data_table.ipynb>data table notebook</a>'\n",
              "            + ' to learn more about interactive tables.';\n",
              "          element.innerHTML = '';\n",
              "          dataTable['output_type'] = 'display_data';\n",
              "          await google.colab.output.renderOutput(dataTable, element);\n",
              "          const docLink = document.createElement('div');\n",
              "          docLink.innerHTML = docLinkHtml;\n",
              "          element.appendChild(docLink);\n",
              "        }\n",
              "      </script>\n",
              "    </div>\n",
              "  </div>\n",
              "  "
            ]
          },
          "metadata": {},
          "execution_count": 27
        }
      ],
      "source": [
        "pd.DataFrame(classification_report(df_eval[\"binary_label\"], df_eval[\"pred\"], output_dict=True)).T"
      ]
    },
    {
      "cell_type": "markdown",
      "id": "43f53b34",
      "metadata": {
        "id": "43f53b34"
      },
      "source": [
        "# Results on test set:"
      ]
    },
    {
      "cell_type": "code",
      "execution_count": 28,
      "id": "78f3072f",
      "metadata": {
        "id": "78f3072f"
      },
      "outputs": [],
      "source": [
        "compute_distance_of_closest_cluster(df_test)"
      ]
    },
    {
      "cell_type": "code",
      "execution_count": 29,
      "id": "029d0f87",
      "metadata": {
        "id": "029d0f87"
      },
      "outputs": [],
      "source": [
        "df_test[\"pred\"] = df_test.min_distances.apply(lambda x: \"oos\" if x>THRESHOLD else \"in-scope\")\n",
        "df_test[\"binary_label\"] =  df_test.label.apply(lambda x: \"oos\" if x==\"oos\" else \"in-scope\")"
      ]
    },
    {
      "cell_type": "code",
      "execution_count": 30,
      "id": "cf509b85",
      "metadata": {
        "colab": {
          "base_uri": "https://localhost:8080/",
          "height": 206
        },
        "id": "cf509b85",
        "outputId": "0f443db0-3481-4738-be10-8b459364b7bc"
      },
      "outputs": [
        {
          "output_type": "execute_result",
          "data": {
            "text/plain": [
              "              precision    recall  f1-score      support\n",
              "in-scope       0.950548  0.982444  0.966233  4500.000000\n",
              "oos            0.906949  0.770000  0.832883  1000.000000\n",
              "accuracy       0.943818  0.943818  0.943818     0.943818\n",
              "macro avg      0.928749  0.876222  0.899558  5500.000000\n",
              "weighted avg   0.942621  0.943818  0.941988  5500.000000"
            ],
            "text/html": [
              "\n",
              "  <div id=\"df-a7b93c05-81ac-422d-9b5d-f021ae76bbbc\">\n",
              "    <div class=\"colab-df-container\">\n",
              "      <div>\n",
              "<style scoped>\n",
              "    .dataframe tbody tr th:only-of-type {\n",
              "        vertical-align: middle;\n",
              "    }\n",
              "\n",
              "    .dataframe tbody tr th {\n",
              "        vertical-align: top;\n",
              "    }\n",
              "\n",
              "    .dataframe thead th {\n",
              "        text-align: right;\n",
              "    }\n",
              "</style>\n",
              "<table border=\"1\" class=\"dataframe\">\n",
              "  <thead>\n",
              "    <tr style=\"text-align: right;\">\n",
              "      <th></th>\n",
              "      <th>precision</th>\n",
              "      <th>recall</th>\n",
              "      <th>f1-score</th>\n",
              "      <th>support</th>\n",
              "    </tr>\n",
              "  </thead>\n",
              "  <tbody>\n",
              "    <tr>\n",
              "      <th>in-scope</th>\n",
              "      <td>0.950548</td>\n",
              "      <td>0.982444</td>\n",
              "      <td>0.966233</td>\n",
              "      <td>4500.000000</td>\n",
              "    </tr>\n",
              "    <tr>\n",
              "      <th>oos</th>\n",
              "      <td>0.906949</td>\n",
              "      <td>0.770000</td>\n",
              "      <td>0.832883</td>\n",
              "      <td>1000.000000</td>\n",
              "    </tr>\n",
              "    <tr>\n",
              "      <th>accuracy</th>\n",
              "      <td>0.943818</td>\n",
              "      <td>0.943818</td>\n",
              "      <td>0.943818</td>\n",
              "      <td>0.943818</td>\n",
              "    </tr>\n",
              "    <tr>\n",
              "      <th>macro avg</th>\n",
              "      <td>0.928749</td>\n",
              "      <td>0.876222</td>\n",
              "      <td>0.899558</td>\n",
              "      <td>5500.000000</td>\n",
              "    </tr>\n",
              "    <tr>\n",
              "      <th>weighted avg</th>\n",
              "      <td>0.942621</td>\n",
              "      <td>0.943818</td>\n",
              "      <td>0.941988</td>\n",
              "      <td>5500.000000</td>\n",
              "    </tr>\n",
              "  </tbody>\n",
              "</table>\n",
              "</div>\n",
              "      <button class=\"colab-df-convert\" onclick=\"convertToInteractive('df-a7b93c05-81ac-422d-9b5d-f021ae76bbbc')\"\n",
              "              title=\"Convert this dataframe to an interactive table.\"\n",
              "              style=\"display:none;\">\n",
              "        \n",
              "  <svg xmlns=\"http://www.w3.org/2000/svg\" height=\"24px\"viewBox=\"0 0 24 24\"\n",
              "       width=\"24px\">\n",
              "    <path d=\"M0 0h24v24H0V0z\" fill=\"none\"/>\n",
              "    <path d=\"M18.56 5.44l.94 2.06.94-2.06 2.06-.94-2.06-.94-.94-2.06-.94 2.06-2.06.94zm-11 1L8.5 8.5l.94-2.06 2.06-.94-2.06-.94L8.5 2.5l-.94 2.06-2.06.94zm10 10l.94 2.06.94-2.06 2.06-.94-2.06-.94-.94-2.06-.94 2.06-2.06.94z\"/><path d=\"M17.41 7.96l-1.37-1.37c-.4-.4-.92-.59-1.43-.59-.52 0-1.04.2-1.43.59L10.3 9.45l-7.72 7.72c-.78.78-.78 2.05 0 2.83L4 21.41c.39.39.9.59 1.41.59.51 0 1.02-.2 1.41-.59l7.78-7.78 2.81-2.81c.8-.78.8-2.07 0-2.86zM5.41 20L4 18.59l7.72-7.72 1.47 1.35L5.41 20z\"/>\n",
              "  </svg>\n",
              "      </button>\n",
              "      \n",
              "  <style>\n",
              "    .colab-df-container {\n",
              "      display:flex;\n",
              "      flex-wrap:wrap;\n",
              "      gap: 12px;\n",
              "    }\n",
              "\n",
              "    .colab-df-convert {\n",
              "      background-color: #E8F0FE;\n",
              "      border: none;\n",
              "      border-radius: 50%;\n",
              "      cursor: pointer;\n",
              "      display: none;\n",
              "      fill: #1967D2;\n",
              "      height: 32px;\n",
              "      padding: 0 0 0 0;\n",
              "      width: 32px;\n",
              "    }\n",
              "\n",
              "    .colab-df-convert:hover {\n",
              "      background-color: #E2EBFA;\n",
              "      box-shadow: 0px 1px 2px rgba(60, 64, 67, 0.3), 0px 1px 3px 1px rgba(60, 64, 67, 0.15);\n",
              "      fill: #174EA6;\n",
              "    }\n",
              "\n",
              "    [theme=dark] .colab-df-convert {\n",
              "      background-color: #3B4455;\n",
              "      fill: #D2E3FC;\n",
              "    }\n",
              "\n",
              "    [theme=dark] .colab-df-convert:hover {\n",
              "      background-color: #434B5C;\n",
              "      box-shadow: 0px 1px 3px 1px rgba(0, 0, 0, 0.15);\n",
              "      filter: drop-shadow(0px 1px 2px rgba(0, 0, 0, 0.3));\n",
              "      fill: #FFFFFF;\n",
              "    }\n",
              "  </style>\n",
              "\n",
              "      <script>\n",
              "        const buttonEl =\n",
              "          document.querySelector('#df-a7b93c05-81ac-422d-9b5d-f021ae76bbbc button.colab-df-convert');\n",
              "        buttonEl.style.display =\n",
              "          google.colab.kernel.accessAllowed ? 'block' : 'none';\n",
              "\n",
              "        async function convertToInteractive(key) {\n",
              "          const element = document.querySelector('#df-a7b93c05-81ac-422d-9b5d-f021ae76bbbc');\n",
              "          const dataTable =\n",
              "            await google.colab.kernel.invokeFunction('convertToInteractive',\n",
              "                                                     [key], {});\n",
              "          if (!dataTable) return;\n",
              "\n",
              "          const docLinkHtml = 'Like what you see? Visit the ' +\n",
              "            '<a target=\"_blank\" href=https://colab.research.google.com/notebooks/data_table.ipynb>data table notebook</a>'\n",
              "            + ' to learn more about interactive tables.';\n",
              "          element.innerHTML = '';\n",
              "          dataTable['output_type'] = 'display_data';\n",
              "          await google.colab.output.renderOutput(dataTable, element);\n",
              "          const docLink = document.createElement('div');\n",
              "          docLink.innerHTML = docLinkHtml;\n",
              "          element.appendChild(docLink);\n",
              "        }\n",
              "      </script>\n",
              "    </div>\n",
              "  </div>\n",
              "  "
            ]
          },
          "metadata": {},
          "execution_count": 30
        }
      ],
      "source": [
        "pd.DataFrame(classification_report(df_test[\"binary_label\"], df_test[\"pred\"], output_dict=True)).T"
      ]
    },
    {
      "cell_type": "code",
      "execution_count": 30,
      "id": "e33a88d7",
      "metadata": {
        "id": "e33a88d7"
      },
      "outputs": [],
      "source": []
    },
    {
      "cell_type": "markdown",
      "source": [
        "As we can see, compared to the baseline results presented in the paper, this clustering algorithm performs much better, with an OOS recall of 0.77 as opposed to ~0.60 presented in the paper."
      ],
      "metadata": {
        "id": "cUxfk-LH-CB7"
      },
      "id": "cUxfk-LH-CB7"
    },
    {
      "cell_type": "markdown",
      "source": [
        "# What if we predict the class directly instead of just the binary task of whether an intent is in-scope or OOS?"
      ],
      "metadata": {
        "id": "SwKhgN8X7ggy"
      },
      "id": "SwKhgN8X7ggy"
    },
    {
      "cell_type": "markdown",
      "source": [
        "## Assign each cluster to be associated with its most common intent:"
      ],
      "metadata": {
        "id": "RooBEvLW7n5D"
      },
      "id": "RooBEvLW7n5D"
    },
    {
      "cell_type": "code",
      "source": [
        "cluster_id_to_intent = dict(df_train_no_oos.groupby(\"cluster\")[\"label\"].agg(pd.Series.mode))"
      ],
      "metadata": {
        "id": "AlJr0szD7nP2"
      },
      "id": "AlJr0szD7nP2",
      "execution_count": 43,
      "outputs": []
    },
    {
      "cell_type": "code",
      "source": [
        "cluster_id_to_intent"
      ],
      "metadata": {
        "colab": {
          "base_uri": "https://localhost:8080/"
        },
        "id": "T_eVBxu-7let",
        "outputId": "0bff7100-1716-47f7-e096-afb3a7848476"
      },
      "id": "T_eVBxu-7let",
      "execution_count": 44,
      "outputs": [
        {
          "output_type": "execute_result",
          "data": {
            "text/plain": [
              "{0: 'tire_change',\n",
              " 1: 'pto_request',\n",
              " 2: 'redeem_rewards',\n",
              " 3: 'replacement_card_duration',\n",
              " 4: 'reminder_update',\n",
              " 5: 'alarm',\n",
              " 6: 'lost_luggage',\n",
              " 7: 'bill_balance',\n",
              " 8: 'change_language',\n",
              " 9: 'what_song',\n",
              " 10: 'current_location',\n",
              " 11: 'calendar_update',\n",
              " 12: 'credit_limit',\n",
              " 13: 'direct_deposit',\n",
              " 14: 'pto_balance',\n",
              " 15: array(['international_visa', 'vaccines'], dtype=object),\n",
              " 16: 'oil_change_how',\n",
              " 17: 'repeat',\n",
              " 18: 'meal_suggestion',\n",
              " 19: 'what_is_your_name',\n",
              " 20: 'meaning_of_life',\n",
              " 21: 'restaurant_reservation',\n",
              " 22: 'shopping_list',\n",
              " 23: 'book_flight',\n",
              " 24: 'mpg',\n",
              " 25: 'routing',\n",
              " 26: 'income',\n",
              " 27: 'change_volume',\n",
              " 28: 'what_are_your_hobbies',\n",
              " 29: 'insurance',\n",
              " 30: 'flip_coin',\n",
              " 31: 'traffic',\n",
              " 32: 'who_do_you_work_for',\n",
              " 33: 'improve_credit_score',\n",
              " 34: 'are_you_a_bot',\n",
              " 35: 'last_maintenance',\n",
              " 36: 'time',\n",
              " 37: 'jump_start',\n",
              " 38: 'rollover_401k',\n",
              " 39: 'change_speed',\n",
              " 40: 'update_playlist',\n",
              " 41: 'ingredients_list',\n",
              " 42: 'find_phone',\n",
              " 43: 'user_name',\n",
              " 44: 'interest_rate',\n",
              " 45: 'schedule_meeting',\n",
              " 46: 'payday',\n",
              " 47: 'account_blocked',\n",
              " 48: 'yes',\n",
              " 49: 'car_rental',\n",
              " 50: 'nutrition_info',\n",
              " 51: 'order_status',\n",
              " 52: 'do_you_have_pets',\n",
              " 53: 'fun_fact',\n",
              " 54: 'measurement_conversion',\n",
              " 55: 'cancel_reservation',\n",
              " 56: 'recipe',\n",
              " 57: 'calendar',\n",
              " 58: 'oil_change_when',\n",
              " 59: 'todo_list_update',\n",
              " 60: 'pto_request',\n",
              " 61: 'date',\n",
              " 62: 'whisper_mode',\n",
              " 63: 'apr',\n",
              " 64: 'food_last',\n",
              " 65: 'min_payment',\n",
              " 66: 'report_lost_card',\n",
              " 67: 'taxes',\n",
              " 68: 'accept_reservations',\n",
              " 69: 'international_fees',\n",
              " 70: 'plug_type',\n",
              " 71: 'ingredient_substitution',\n",
              " 72: 'bill_due',\n",
              " 73: 'reset_settings',\n",
              " 74: 'pin_change',\n",
              " 75: 'gas',\n",
              " 76: 'insurance',\n",
              " 77: 'order_checks',\n",
              " 78: 'weather',\n",
              " 79: 'next_song',\n",
              " 80: 'travel_notification',\n",
              " 81: 'timezone',\n",
              " 82: 'what_can_i_ask_you',\n",
              " 83: 'carry_on',\n",
              " 84: 'damaged_card',\n",
              " 85: 'w2',\n",
              " 86: 'reminder',\n",
              " 87: 'roll_dice',\n",
              " 88: 'pto_request_status',\n",
              " 89: 'balance',\n",
              " 90: 'meeting_schedule',\n",
              " 91: 'restaurant_reviews',\n",
              " 92: 'travel_suggestion',\n",
              " 93: 'application_status',\n",
              " 94: 'transfer',\n",
              " 95: 'who_made_you',\n",
              " 96: 'timer',\n",
              " 97: 'how_busy',\n",
              " 98: 'report_fraud',\n",
              " 99: 'travel_alert',\n",
              " 100: 'goodbye',\n",
              " 101: 'who_made_you',\n",
              " 102: 'who_do_you_work_for',\n",
              " 103: 'cook_time',\n",
              " 104: 'gas_type',\n",
              " 105: 'shopping_list_update',\n",
              " 106: 'card_declined',\n",
              " 107: 'maybe',\n",
              " 108: 'maybe',\n",
              " 109: 'freeze_account',\n",
              " 110: 'tell_joke',\n",
              " 111: 'cancel',\n",
              " 112: 'where_are_you_from',\n",
              " 113: 'change_accent',\n",
              " 114: 'expiration_date',\n",
              " 115: 'tire_pressure',\n",
              " 116: 'schedule_maintenance',\n",
              " 117: 'sync_device',\n",
              " 118: 'book_hotel',\n",
              " 119: 'translate',\n",
              " 120: 'flight_status',\n",
              " 121: 'where_are_you_from',\n",
              " 122: 'next_holiday',\n",
              " 123: 'pay_bill',\n",
              " 124: 'spending_history',\n",
              " 125: 'what_can_i_ask_you',\n",
              " 126: 'definition',\n",
              " 127: 'sync_device',\n",
              " 128: 'what_is_your_name',\n",
              " 129: 'calories',\n",
              " 130: 'credit_score',\n",
              " 131: 'change_ai_name',\n",
              " 132: 'text',\n",
              " 133: 'rewards_balance',\n",
              " 134: 'credit_limit_change',\n",
              " 135: 'share_location',\n",
              " 136: 'change_ai_name',\n",
              " 137: 'thank_you',\n",
              " 138: 'distance',\n",
              " 139: 'calculator',\n",
              " 140: 'make_call',\n",
              " 141: 'transactions',\n",
              " 142: 'exchange_rate',\n",
              " 143: 'greeting',\n",
              " 144: 'insurance_change',\n",
              " 145: 'change_user_name',\n",
              " 146: 'restaurant_suggestion',\n",
              " 147: 'order',\n",
              " 148: 'how_old_are_you',\n",
              " 149: 'smart_home'}"
            ]
          },
          "metadata": {},
          "execution_count": 44
        }
      ]
    },
    {
      "cell_type": "code",
      "source": [
        "cluster_id_to_intent[15] = cluster_id_to_intent[15][0] # Because there are 2 values for cluster 15"
      ],
      "metadata": {
        "id": "ESJm6BCM8RjM"
      },
      "id": "ESJm6BCM8RjM",
      "execution_count": 45,
      "outputs": []
    },
    {
      "cell_type": "code",
      "source": [
        "print(f\"Unique intents in the 150 clusters: {len(set(cluster_id_to_intent.values()))}\")"
      ],
      "metadata": {
        "colab": {
          "base_uri": "https://localhost:8080/"
        },
        "id": "oaA-Hh4c8WEJ",
        "outputId": "a7258a87-5eef-4b3e-84ad-0545f45d8bbf"
      },
      "id": "oaA-Hh4c8WEJ",
      "execution_count": 50,
      "outputs": [
        {
          "output_type": "stream",
          "name": "stdout",
          "text": [
            "Unique intents in the 150 clusters: 140\n"
          ]
        }
      ]
    },
    {
      "cell_type": "code",
      "source": [
        "def assign_clusters_and_predict(df):\n",
        "    clusters = kmeans.predict(mpnet.encode(df[\"query\"].values))\n",
        "    df[\"cluster\"] = clusters\n",
        "    df[\"cluster_prediction\"] = df[\"cluster\"].apply(lambda x: cluster_id_to_intent[x])\n",
        "    "
      ],
      "metadata": {
        "id": "Q0M1DtBS9Ir_"
      },
      "id": "Q0M1DtBS9Ir_",
      "execution_count": 53,
      "outputs": []
    },
    {
      "cell_type": "code",
      "source": [
        "assign_clusters_and_predict(df_eval)"
      ],
      "metadata": {
        "id": "cyVAp3Rq8_3_"
      },
      "id": "cyVAp3Rq8_3_",
      "execution_count": 54,
      "outputs": []
    },
    {
      "cell_type": "code",
      "source": [
        "pd.DataFrame(classification_report(df_eval[\"label\"], df_eval[\"cluster_prediction\"], output_dict=True)).T"
      ],
      "metadata": {
        "colab": {
          "base_uri": "https://localhost:8080/",
          "height": 547
        },
        "id": "ntaCTNjM9o7u",
        "outputId": "6652c057-93de-497c-de5b-0118cf90734e"
      },
      "id": "ntaCTNjM9o7u",
      "execution_count": 56,
      "outputs": [
        {
          "output_type": "stream",
          "name": "stderr",
          "text": [
            "/usr/local/lib/python3.9/dist-packages/sklearn/metrics/_classification.py:1344: UndefinedMetricWarning: Precision and F-score are ill-defined and being set to 0.0 in labels with no predicted samples. Use `zero_division` parameter to control this behavior.\n",
            "  _warn_prf(average, modifier, msg_start, len(result))\n",
            "/usr/local/lib/python3.9/dist-packages/sklearn/metrics/_classification.py:1344: UndefinedMetricWarning: Precision and F-score are ill-defined and being set to 0.0 in labels with no predicted samples. Use `zero_division` parameter to control this behavior.\n",
            "  _warn_prf(average, modifier, msg_start, len(result))\n",
            "/usr/local/lib/python3.9/dist-packages/sklearn/metrics/_classification.py:1344: UndefinedMetricWarning: Precision and F-score are ill-defined and being set to 0.0 in labels with no predicted samples. Use `zero_division` parameter to control this behavior.\n",
            "  _warn_prf(average, modifier, msg_start, len(result))\n"
          ]
        },
        {
          "output_type": "execute_result",
          "data": {
            "text/plain": [
              "                     precision    recall  f1-score  support\n",
              "accept_reservations   0.869565  1.000000  0.930233    20.00\n",
              "account_blocked       1.000000  1.000000  1.000000    20.00\n",
              "alarm                 1.000000  1.000000  1.000000    20.00\n",
              "application_status    0.500000  1.000000  0.666667    20.00\n",
              "apr                   1.000000  1.000000  1.000000    20.00\n",
              "...                        ...       ...       ...      ...\n",
              "who_made_you          0.645161  1.000000  0.784314    20.00\n",
              "yes                   0.684211  0.650000  0.666667    20.00\n",
              "accuracy              0.820000  0.820000  0.820000     0.82\n",
              "macro avg             0.802782  0.841722  0.806951  3100.00\n",
              "weighted avg          0.782065  0.820000  0.786126  3100.00\n",
              "\n",
              "[154 rows x 4 columns]"
            ],
            "text/html": [
              "\n",
              "  <div id=\"df-b9b4a652-fa79-4fc3-8b46-48f07fee6fb5\">\n",
              "    <div class=\"colab-df-container\">\n",
              "      <div>\n",
              "<style scoped>\n",
              "    .dataframe tbody tr th:only-of-type {\n",
              "        vertical-align: middle;\n",
              "    }\n",
              "\n",
              "    .dataframe tbody tr th {\n",
              "        vertical-align: top;\n",
              "    }\n",
              "\n",
              "    .dataframe thead th {\n",
              "        text-align: right;\n",
              "    }\n",
              "</style>\n",
              "<table border=\"1\" class=\"dataframe\">\n",
              "  <thead>\n",
              "    <tr style=\"text-align: right;\">\n",
              "      <th></th>\n",
              "      <th>precision</th>\n",
              "      <th>recall</th>\n",
              "      <th>f1-score</th>\n",
              "      <th>support</th>\n",
              "    </tr>\n",
              "  </thead>\n",
              "  <tbody>\n",
              "    <tr>\n",
              "      <th>accept_reservations</th>\n",
              "      <td>0.869565</td>\n",
              "      <td>1.000000</td>\n",
              "      <td>0.930233</td>\n",
              "      <td>20.00</td>\n",
              "    </tr>\n",
              "    <tr>\n",
              "      <th>account_blocked</th>\n",
              "      <td>1.000000</td>\n",
              "      <td>1.000000</td>\n",
              "      <td>1.000000</td>\n",
              "      <td>20.00</td>\n",
              "    </tr>\n",
              "    <tr>\n",
              "      <th>alarm</th>\n",
              "      <td>1.000000</td>\n",
              "      <td>1.000000</td>\n",
              "      <td>1.000000</td>\n",
              "      <td>20.00</td>\n",
              "    </tr>\n",
              "    <tr>\n",
              "      <th>application_status</th>\n",
              "      <td>0.500000</td>\n",
              "      <td>1.000000</td>\n",
              "      <td>0.666667</td>\n",
              "      <td>20.00</td>\n",
              "    </tr>\n",
              "    <tr>\n",
              "      <th>apr</th>\n",
              "      <td>1.000000</td>\n",
              "      <td>1.000000</td>\n",
              "      <td>1.000000</td>\n",
              "      <td>20.00</td>\n",
              "    </tr>\n",
              "    <tr>\n",
              "      <th>...</th>\n",
              "      <td>...</td>\n",
              "      <td>...</td>\n",
              "      <td>...</td>\n",
              "      <td>...</td>\n",
              "    </tr>\n",
              "    <tr>\n",
              "      <th>who_made_you</th>\n",
              "      <td>0.645161</td>\n",
              "      <td>1.000000</td>\n",
              "      <td>0.784314</td>\n",
              "      <td>20.00</td>\n",
              "    </tr>\n",
              "    <tr>\n",
              "      <th>yes</th>\n",
              "      <td>0.684211</td>\n",
              "      <td>0.650000</td>\n",
              "      <td>0.666667</td>\n",
              "      <td>20.00</td>\n",
              "    </tr>\n",
              "    <tr>\n",
              "      <th>accuracy</th>\n",
              "      <td>0.820000</td>\n",
              "      <td>0.820000</td>\n",
              "      <td>0.820000</td>\n",
              "      <td>0.82</td>\n",
              "    </tr>\n",
              "    <tr>\n",
              "      <th>macro avg</th>\n",
              "      <td>0.802782</td>\n",
              "      <td>0.841722</td>\n",
              "      <td>0.806951</td>\n",
              "      <td>3100.00</td>\n",
              "    </tr>\n",
              "    <tr>\n",
              "      <th>weighted avg</th>\n",
              "      <td>0.782065</td>\n",
              "      <td>0.820000</td>\n",
              "      <td>0.786126</td>\n",
              "      <td>3100.00</td>\n",
              "    </tr>\n",
              "  </tbody>\n",
              "</table>\n",
              "<p>154 rows × 4 columns</p>\n",
              "</div>\n",
              "      <button class=\"colab-df-convert\" onclick=\"convertToInteractive('df-b9b4a652-fa79-4fc3-8b46-48f07fee6fb5')\"\n",
              "              title=\"Convert this dataframe to an interactive table.\"\n",
              "              style=\"display:none;\">\n",
              "        \n",
              "  <svg xmlns=\"http://www.w3.org/2000/svg\" height=\"24px\"viewBox=\"0 0 24 24\"\n",
              "       width=\"24px\">\n",
              "    <path d=\"M0 0h24v24H0V0z\" fill=\"none\"/>\n",
              "    <path d=\"M18.56 5.44l.94 2.06.94-2.06 2.06-.94-2.06-.94-.94-2.06-.94 2.06-2.06.94zm-11 1L8.5 8.5l.94-2.06 2.06-.94-2.06-.94L8.5 2.5l-.94 2.06-2.06.94zm10 10l.94 2.06.94-2.06 2.06-.94-2.06-.94-.94-2.06-.94 2.06-2.06.94z\"/><path d=\"M17.41 7.96l-1.37-1.37c-.4-.4-.92-.59-1.43-.59-.52 0-1.04.2-1.43.59L10.3 9.45l-7.72 7.72c-.78.78-.78 2.05 0 2.83L4 21.41c.39.39.9.59 1.41.59.51 0 1.02-.2 1.41-.59l7.78-7.78 2.81-2.81c.8-.78.8-2.07 0-2.86zM5.41 20L4 18.59l7.72-7.72 1.47 1.35L5.41 20z\"/>\n",
              "  </svg>\n",
              "      </button>\n",
              "      \n",
              "  <style>\n",
              "    .colab-df-container {\n",
              "      display:flex;\n",
              "      flex-wrap:wrap;\n",
              "      gap: 12px;\n",
              "    }\n",
              "\n",
              "    .colab-df-convert {\n",
              "      background-color: #E8F0FE;\n",
              "      border: none;\n",
              "      border-radius: 50%;\n",
              "      cursor: pointer;\n",
              "      display: none;\n",
              "      fill: #1967D2;\n",
              "      height: 32px;\n",
              "      padding: 0 0 0 0;\n",
              "      width: 32px;\n",
              "    }\n",
              "\n",
              "    .colab-df-convert:hover {\n",
              "      background-color: #E2EBFA;\n",
              "      box-shadow: 0px 1px 2px rgba(60, 64, 67, 0.3), 0px 1px 3px 1px rgba(60, 64, 67, 0.15);\n",
              "      fill: #174EA6;\n",
              "    }\n",
              "\n",
              "    [theme=dark] .colab-df-convert {\n",
              "      background-color: #3B4455;\n",
              "      fill: #D2E3FC;\n",
              "    }\n",
              "\n",
              "    [theme=dark] .colab-df-convert:hover {\n",
              "      background-color: #434B5C;\n",
              "      box-shadow: 0px 1px 3px 1px rgba(0, 0, 0, 0.15);\n",
              "      filter: drop-shadow(0px 1px 2px rgba(0, 0, 0, 0.3));\n",
              "      fill: #FFFFFF;\n",
              "    }\n",
              "  </style>\n",
              "\n",
              "      <script>\n",
              "        const buttonEl =\n",
              "          document.querySelector('#df-b9b4a652-fa79-4fc3-8b46-48f07fee6fb5 button.colab-df-convert');\n",
              "        buttonEl.style.display =\n",
              "          google.colab.kernel.accessAllowed ? 'block' : 'none';\n",
              "\n",
              "        async function convertToInteractive(key) {\n",
              "          const element = document.querySelector('#df-b9b4a652-fa79-4fc3-8b46-48f07fee6fb5');\n",
              "          const dataTable =\n",
              "            await google.colab.kernel.invokeFunction('convertToInteractive',\n",
              "                                                     [key], {});\n",
              "          if (!dataTable) return;\n",
              "\n",
              "          const docLinkHtml = 'Like what you see? Visit the ' +\n",
              "            '<a target=\"_blank\" href=https://colab.research.google.com/notebooks/data_table.ipynb>data table notebook</a>'\n",
              "            + ' to learn more about interactive tables.';\n",
              "          element.innerHTML = '';\n",
              "          dataTable['output_type'] = 'display_data';\n",
              "          await google.colab.output.renderOutput(dataTable, element);\n",
              "          const docLink = document.createElement('div');\n",
              "          docLink.innerHTML = docLinkHtml;\n",
              "          element.appendChild(docLink);\n",
              "        }\n",
              "      </script>\n",
              "    </div>\n",
              "  </div>\n",
              "  "
            ]
          },
          "metadata": {},
          "execution_count": 56
        }
      ]
    },
    {
      "cell_type": "markdown",
      "source": [
        "Since the accuracy is quite low compared to the baseline models presented in the paper, we do not continue with this method, and istead use the clustering only for the OOS predictions. "
      ],
      "metadata": {
        "id": "5wa7PT3J95kc"
      },
      "id": "5wa7PT3J95kc"
    },
    {
      "cell_type": "code",
      "source": [],
      "metadata": {
        "id": "fT50k005-AUy"
      },
      "id": "fT50k005-AUy",
      "execution_count": null,
      "outputs": []
    }
  ],
  "metadata": {
    "kernelspec": {
      "display_name": "Python 3 (ipykernel)",
      "language": "python",
      "name": "python3"
    },
    "language_info": {
      "codemirror_mode": {
        "name": "ipython",
        "version": 3
      },
      "file_extension": ".py",
      "mimetype": "text/x-python",
      "name": "python",
      "nbconvert_exporter": "python",
      "pygments_lexer": "ipython3",
      "version": "3.10.4"
    },
    "colab": {
      "provenance": []
    },
    "accelerator": "GPU",
    "gpuClass": "standard"
  },
  "nbformat": 4,
  "nbformat_minor": 5
}