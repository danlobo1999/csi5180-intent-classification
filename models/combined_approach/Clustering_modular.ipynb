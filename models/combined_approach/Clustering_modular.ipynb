{
  "cells": [
    {
      "cell_type": "code",
      "source": [
        "!pip install sentence_transformers"
      ],
      "metadata": {
        "id": "vWGCreEVsDJT"
      },
      "id": "vWGCreEVsDJT",
      "execution_count": null,
      "outputs": []
    },
    {
      "cell_type": "code",
      "source": [
        "import pandas as pd\n",
        "from sklearn.cluster import KMeans\n",
        "from sklearn.metrics import classification_report\n",
        "import matplotlib.pyplot as plt\n",
        "import seaborn as sns\n",
        "from tqdm import tqdm\n",
        "from sentence_transformers import SentenceTransformer, util\n",
        "import pickle\n",
        "from transformers import AutoTokenizer, AutoModelForSequenceClassification, Trainer\n",
        "import torch\n",
        "from torch.utils.data import DataLoader, TensorDataset\n",
        "\n",
        "sns.set_theme()\n",
        "tqdm.pandas()"
      ],
      "metadata": {
        "id": "_ODL59pDVV52"
      },
      "id": "_ODL59pDVV52",
      "execution_count": 2,
      "outputs": []
    },
    {
      "cell_type": "markdown",
      "source": [
        "# Modular function for the end-to-end combined pipeline:"
      ],
      "metadata": {
        "id": "NcdmINVJsI28"
      },
      "id": "NcdmINVJsI28"
    },
    {
      "cell_type": "code",
      "source": [
        "from google.colab import drive\n",
        "drive.mount('/content/drive')"
      ],
      "metadata": {
        "colab": {
          "base_uri": "https://localhost:8080/"
        },
        "id": "6gZh206pYLRO",
        "outputId": "51e3b605-8786-4a71-89df-fc67be4edb52"
      },
      "id": "6gZh206pYLRO",
      "execution_count": 3,
      "outputs": [
        {
          "output_type": "stream",
          "name": "stdout",
          "text": [
            "Mounted at /content/drive\n"
          ]
        }
      ]
    },
    {
      "cell_type": "code",
      "source": [
        "project_path = \"/content/drive/MyDrive/University/Winter 23 Courses/CSI 5180 - AI Virtual Assistants/Project\"\n",
        "\n",
        "kmeans_model_path = f\"{project_path}/models/combined_approach/kmeans.pkl\"\n",
        "bert_model_path = f\"{project_path}/models/bert_inscope_original_data/saved_models\""
      ],
      "metadata": {
        "id": "vrTfZ8DvYTKS"
      },
      "id": "vrTfZ8DvYTKS",
      "execution_count": 4,
      "outputs": []
    },
    {
      "cell_type": "code",
      "source": [
        "kmeans = pickle.load(open(kmeans_model_path, 'rb'))\n",
        "mpnet = SentenceTransformer(\"all-mpnet-base-v2\")\n",
        "\n",
        "tokenizer = AutoTokenizer.from_pretrained('bert-large-uncased')\n",
        "bert_model = AutoModelForSequenceClassification.from_pretrained(bert_model_path)\n",
        "device = \"cuda:0\" if torch.cuda.is_available() else \"cpu\"\n",
        "bert_model.to(device)\n",
        "bert_model.eval()\n",
        "\n",
        "THRESHOLD = 0.95\n",
        "df_test = pd.read_csv(f\"{project_path}/data/original_dataset/original_test_data.csv\", dtype={\"query\":\"string\",\"label\":\"string\"})\n",
        "class_labels = sorted(df_test[\"label\"].unique())\n",
        "class_labels.remove('oos')"
      ],
      "metadata": {
        "id": "31hpLTpnY_kd"
      },
      "id": "31hpLTpnY_kd",
      "execution_count": null,
      "outputs": []
    },
    {
      "cell_type": "code",
      "source": [
        "def compute_distance_of_closest_cluster(df):\n",
        "    cluster_distances = kmeans.transform(mpnet.encode(df[\"query\"].values))\n",
        "    cluster_min_distances = cluster_distances.min(axis=1)\n",
        "    df[\"min_distances\"] = cluster_min_distances\n",
        "\n",
        "    return df"
      ],
      "metadata": {
        "id": "rhqfIqRJr-CN"
      },
      "id": "rhqfIqRJr-CN",
      "execution_count": 6,
      "outputs": []
    },
    {
      "cell_type": "code",
      "source": [
        "def predict_oos(df):\n",
        "    '''\n",
        "    input df is a Pandas dataframe with the text input under the column named 'query'\n",
        "    ''' \n",
        "    sentence_embeddings = []\n",
        "    embedding_matrix = mpnet.encode(df[\"query\"].values)\n",
        "    for i in range(embedding_matrix.shape[0]):\n",
        "        sentence_embeddings.append(embedding_matrix[i])  \n",
        "\n",
        "    df[\"mpnet_embeddings_sentence\"] = sentence_embeddings\n",
        "    df = compute_distance_of_closest_cluster(df)\n",
        "    df[\"pred_1\"] = df.min_distances.apply(lambda x: \"oos\" if x>THRESHOLD else \"in-scope\")\n",
        "\n",
        "    return df"
      ],
      "metadata": {
        "id": "TOWEqu7OZ1VR"
      },
      "id": "TOWEqu7OZ1VR",
      "execution_count": 7,
      "outputs": []
    },
    {
      "cell_type": "code",
      "source": [
        "def predict_inscope(df, single_instance):\n",
        "    query_list = df[\"query\"].to_list()\n",
        "    encoded_query_list = tokenizer(query_list, padding=True, truncation=True, return_tensors='pt').to(device)\n",
        "    input_ids = encoded_query_list['input_ids']\n",
        "    token_type_ids = encoded_query_list['token_type_ids']\n",
        "    attention_mask = encoded_query_list['attention_mask']\n",
        "\n",
        "    if single_instance:\n",
        "        with torch.no_grad():\n",
        "            logits = bert_model(input_ids=input_ids, token_type_ids=token_type_ids, attention_mask=attention_mask)[0]\n",
        "            predictions = torch.argmax(logits, dim=1)\n",
        "    else:\n",
        "        input_data = TensorDataset(input_ids, token_type_ids, attention_mask)\n",
        "        dataloader = DataLoader(input_data, batch_size=64)\n",
        "\n",
        "        predictions = []\n",
        "        for batch_input_ids, batch_token_type_ids, batch_attention_mask in dataloader:\n",
        "            with torch.no_grad():\n",
        "                logits = bert_model(input_ids=batch_input_ids, token_type_ids=batch_token_type_ids, attention_mask=batch_attention_mask)[0]\n",
        "                batch_predictions = torch.argmax(logits, dim=1)\n",
        "\n",
        "            predictions.extend(batch_predictions.tolist())\n",
        "\n",
        "    df['pred_2'] = ''\n",
        "    for i, row in df.iterrows():\n",
        "        if row['pred_1'] == 'oos':\n",
        "            df.at[i, 'pred_2'] = 'oos'\n",
        "        else:\n",
        "            df.at[i, 'pred_2'] = class_labels[predictions[i]]\n",
        "\n",
        "    return df"
      ],
      "metadata": {
        "id": "mlZSi4kUsB_L"
      },
      "id": "mlZSi4kUsB_L",
      "execution_count": 47,
      "outputs": []
    },
    {
      "cell_type": "code",
      "source": [
        "def predict_intent(input_data):\n",
        "\n",
        "    if isinstance(input_data, str):\n",
        "        df = pd.DataFrame([[input_data]], columns=['query'])\n",
        "        df = predict_oos(df)\n",
        "        predict_inscope(df, single_instance=True)\n",
        "        print(f\"\\nInput query: {df['query'].iloc[0]}\")\n",
        "        print(f\"Predicted intent: {df['pred_2'].iloc[0]}\")\n",
        "    else:\n",
        "        df = predict_oos(input_data)\n",
        "        df = predict_inscope(input_data, single_instance=False)\n",
        "        \n",
        "        report = classification_report(df[\"label\"], df[\"pred_2\"])\n",
        "        print(f\"\\nClassification report for test queries:\")\n",
        "        print(report)\n",
        "\n",
        "        df[\"binary_label\"] =  df.label.apply(lambda x: \"oos\" if x==\"oos\" else \"in-scope\")\n",
        "        oos_report = classification_report(df[\"binary_label\"], df[\"pred_1\"])\n",
        "        print(f\"\\nBinary Classification report (oos or inscope):\")\n",
        "        print(oos_report)\n",
        "\n",
        "    return"
      ],
      "metadata": {
        "id": "-_-ffXoqsGJi"
      },
      "id": "-_-ffXoqsGJi",
      "execution_count": 49,
      "outputs": []
    },
    {
      "cell_type": "markdown",
      "source": [
        "## Evaluate Test dataset on the Combined Approach"
      ],
      "metadata": {
        "id": "BGXHOjK_udQr"
      },
      "id": "BGXHOjK_udQr"
    },
    {
      "cell_type": "code",
      "source": [
        "predict_intent(df_test)"
      ],
      "metadata": {
        "id": "rUnPLbd8BRm1",
        "colab": {
          "base_uri": "https://localhost:8080/"
        },
        "outputId": "ee3ac3a3-03b4-437e-c691-cbbe04b16bb8"
      },
      "id": "rUnPLbd8BRm1",
      "execution_count": 20,
      "outputs": [
        {
          "output_type": "stream",
          "name": "stdout",
          "text": [
            "\n",
            "Classification report for test queries:\n",
            "                           precision    recall  f1-score   support\n",
            "\n",
            "      accept_reservations       0.94      0.97      0.95        30\n",
            "          account_blocked       0.90      0.93      0.92        30\n",
            "                    alarm       1.00      0.97      0.98        30\n",
            "       application_status       1.00      1.00      1.00        30\n",
            "                      apr       0.94      1.00      0.97        30\n",
            "            are_you_a_bot       0.94      1.00      0.97        30\n",
            "                  balance       0.91      1.00      0.95        30\n",
            "             bill_balance       0.90      0.87      0.88        30\n",
            "                 bill_due       0.81      0.97      0.88        30\n",
            "              book_flight       0.91      0.97      0.94        30\n",
            "               book_hotel       0.94      1.00      0.97        30\n",
            "               calculator       0.85      0.93      0.89        30\n",
            "                 calendar       0.93      0.90      0.92        30\n",
            "          calendar_update       0.97      0.97      0.97        30\n",
            "                 calories       1.00      0.97      0.98        30\n",
            "                   cancel       0.94      1.00      0.97        30\n",
            "       cancel_reservation       0.94      1.00      0.97        30\n",
            "               car_rental       0.83      1.00      0.91        30\n",
            "            card_declined       1.00      0.93      0.97        30\n",
            "                 carry_on       1.00      0.97      0.98        30\n",
            "            change_accent       1.00      1.00      1.00        30\n",
            "           change_ai_name       0.81      0.97      0.88        30\n",
            "          change_language       0.94      0.97      0.95        30\n",
            "             change_speed       1.00      0.97      0.98        30\n",
            "         change_user_name       0.97      0.97      0.97        30\n",
            "            change_volume       0.92      0.80      0.86        30\n",
            "      confirm_reservation       1.00      1.00      1.00        30\n",
            "                cook_time       1.00      1.00      1.00        30\n",
            "             credit_limit       0.82      0.93      0.87        30\n",
            "      credit_limit_change       0.93      0.93      0.93        30\n",
            "             credit_score       0.94      0.97      0.95        30\n",
            "         current_location       0.91      1.00      0.95        30\n",
            "             damaged_card       0.97      1.00      0.98        30\n",
            "                     date       1.00      1.00      1.00        30\n",
            "               definition       0.93      0.43      0.59        30\n",
            "           direct_deposit       0.88      1.00      0.94        30\n",
            "               directions       0.68      0.93      0.79        30\n",
            "                 distance       0.83      0.97      0.89        30\n",
            "         do_you_have_pets       0.97      1.00      0.98        30\n",
            "            exchange_rate       0.94      1.00      0.97        30\n",
            "          expiration_date       0.94      0.97      0.95        30\n",
            "               find_phone       0.83      1.00      0.91        30\n",
            "            flight_status       0.96      0.90      0.93        30\n",
            "                flip_coin       1.00      1.00      1.00        30\n",
            "                food_last       1.00      0.97      0.98        30\n",
            "           freeze_account       0.77      1.00      0.87        30\n",
            "                 fun_fact       0.94      0.97      0.95        30\n",
            "                      gas       0.94      1.00      0.97        30\n",
            "                 gas_type       0.97      0.97      0.97        30\n",
            "                  goodbye       0.97      1.00      0.98        30\n",
            "                 greeting       0.94      0.97      0.95        30\n",
            "                 how_busy       0.93      0.93      0.93        30\n",
            "          how_old_are_you       1.00      0.97      0.98        30\n",
            "     improve_credit_score       0.94      0.97      0.95        30\n",
            "                   income       0.90      0.93      0.92        30\n",
            "  ingredient_substitution       1.00      0.97      0.98        30\n",
            "         ingredients_list       0.90      0.90      0.90        30\n",
            "                insurance       1.00      1.00      1.00        30\n",
            "         insurance_change       0.94      0.97      0.95        30\n",
            "            interest_rate       0.88      0.97      0.92        30\n",
            "       international_fees       0.94      1.00      0.97        30\n",
            "       international_visa       1.00      1.00      1.00        30\n",
            "               jump_start       0.97      1.00      0.98        30\n",
            "         last_maintenance       0.97      1.00      0.98        30\n",
            "             lost_luggage       1.00      1.00      1.00        30\n",
            "                make_call       0.73      0.90      0.81        30\n",
            "                    maybe       1.00      0.97      0.98        30\n",
            "          meal_suggestion       0.87      0.87      0.87        30\n",
            "          meaning_of_life       1.00      1.00      1.00        30\n",
            "   measurement_conversion       1.00      0.93      0.97        30\n",
            "         meeting_schedule       0.88      1.00      0.94        30\n",
            "              min_payment       0.94      1.00      0.97        30\n",
            "                      mpg       0.83      1.00      0.91        30\n",
            "                 new_card       0.88      0.97      0.92        30\n",
            "             next_holiday       0.86      1.00      0.92        30\n",
            "                next_song       0.91      1.00      0.95        30\n",
            "                       no       1.00      0.97      0.98        30\n",
            "           nutrition_info       0.97      1.00      0.98        30\n",
            "           oil_change_how       0.85      0.97      0.91        30\n",
            "          oil_change_when       0.90      0.93      0.92        30\n",
            "                      oos       0.91      0.77      0.83      1000\n",
            "                    order       0.75      0.70      0.72        30\n",
            "             order_checks       1.00      1.00      1.00        30\n",
            "             order_status       0.94      0.97      0.95        30\n",
            "                 pay_bill       0.93      0.90      0.92        30\n",
            "                   payday       1.00      0.93      0.97        30\n",
            "               pin_change       0.89      0.83      0.86        30\n",
            "               play_music       0.93      0.90      0.92        30\n",
            "                plug_type       1.00      0.93      0.97        30\n",
            "              pto_balance       0.97      0.97      0.97        30\n",
            "              pto_request       0.94      0.97      0.95        30\n",
            "       pto_request_status       0.97      0.97      0.97        30\n",
            "                 pto_used       0.85      0.97      0.91        30\n",
            "                   recipe       0.82      0.90      0.86        30\n",
            "           redeem_rewards       0.96      0.83      0.89        30\n",
            "                 reminder       0.91      0.97      0.94        30\n",
            "          reminder_update       0.97      0.97      0.97        30\n",
            "                   repeat       0.97      0.97      0.97        30\n",
            "replacement_card_duration       0.93      0.90      0.92        30\n",
            "             report_fraud       0.86      0.80      0.83        30\n",
            "         report_lost_card       0.90      0.90      0.90        30\n",
            "           reset_settings       1.00      1.00      1.00        30\n",
            "   restaurant_reservation       0.88      0.93      0.90        30\n",
            "       restaurant_reviews       0.96      0.77      0.85        30\n",
            "    restaurant_suggestion       0.97      0.97      0.97        30\n",
            "          rewards_balance       0.85      0.97      0.91        30\n",
            "                roll_dice       1.00      1.00      1.00        30\n",
            "            rollover_401k       0.97      1.00      0.98        30\n",
            "                  routing       0.97      1.00      0.98        30\n",
            "     schedule_maintenance       0.82      0.90      0.86        30\n",
            "         schedule_meeting       0.97      1.00      0.98        30\n",
            "           share_location       0.94      0.97      0.95        30\n",
            "            shopping_list       0.77      0.90      0.83        30\n",
            "     shopping_list_update       0.97      1.00      0.98        30\n",
            "               smart_home       0.74      0.87      0.80        30\n",
            "                 spelling       0.97      0.97      0.97        30\n",
            "         spending_history       0.79      0.90      0.84        30\n",
            "              sync_device       0.79      1.00      0.88        30\n",
            "                    taxes       1.00      1.00      1.00        30\n",
            "                tell_joke       0.97      1.00      0.98        30\n",
            "                     text       0.78      0.93      0.85        30\n",
            "                thank_you       0.97      0.97      0.97        30\n",
            "                     time       0.97      0.97      0.97        30\n",
            "                    timer       0.91      0.97      0.94        30\n",
            "                 timezone       1.00      0.97      0.98        30\n",
            "              tire_change       0.97      0.97      0.97        30\n",
            "            tire_pressure       0.97      1.00      0.98        30\n",
            "                todo_list       0.91      1.00      0.95        30\n",
            "         todo_list_update       0.97      1.00      0.98        30\n",
            "                  traffic       0.97      1.00      0.98        30\n",
            "             transactions       0.79      0.87      0.83        30\n",
            "                 transfer       0.97      0.93      0.95        30\n",
            "                translate       0.96      0.87      0.91        30\n",
            "             travel_alert       1.00      1.00      1.00        30\n",
            "      travel_notification       1.00      0.97      0.98        30\n",
            "        travel_suggestion       0.86      1.00      0.92        30\n",
            "                     uber       0.88      1.00      0.94        30\n",
            "          update_playlist       0.97      1.00      0.98        30\n",
            "                user_name       0.97      0.97      0.97        30\n",
            "                 vaccines       0.94      1.00      0.97        30\n",
            "                       w2       0.97      1.00      0.98        30\n",
            "                  weather       0.83      1.00      0.91        30\n",
            "    what_are_your_hobbies       0.97      1.00      0.98        30\n",
            "       what_can_i_ask_you       1.00      0.97      0.98        30\n",
            "        what_is_your_name       0.97      0.93      0.95        30\n",
            "                what_song       0.91      1.00      0.95        30\n",
            "       where_are_you_from       1.00      0.87      0.93        30\n",
            "             whisper_mode       0.91      1.00      0.95        30\n",
            "      who_do_you_work_for       0.93      0.87      0.90        30\n",
            "             who_made_you       0.88      1.00      0.94        30\n",
            "                      yes       1.00      0.73      0.85        30\n",
            "\n",
            "                 accuracy                           0.92      5500\n",
            "                macro avg       0.93      0.95      0.94      5500\n",
            "             weighted avg       0.92      0.92      0.92      5500\n",
            "\n",
            "\n",
            "Binary Classification report (oos or inscope):\n",
            "              precision    recall  f1-score   support\n",
            "\n",
            "    in-scope       0.95      0.98      0.97      4500\n",
            "         oos       0.91      0.77      0.83      1000\n",
            "\n",
            "    accuracy                           0.94      5500\n",
            "   macro avg       0.93      0.88      0.90      5500\n",
            "weighted avg       0.94      0.94      0.94      5500\n",
            "\n"
          ]
        }
      ]
    },
    {
      "cell_type": "markdown",
      "source": [
        "Evaluate Combined Approach on test sentences"
      ],
      "metadata": {
        "id": "N1kt_lhqvKqb"
      },
      "id": "N1kt_lhqvKqb"
    },
    {
      "cell_type": "code",
      "source": [
        "while (user_input := input(\"\\nEnter a query (or press Enter to quit): \")) != \"\":\n",
        "    predict_intent(user_input)"
      ],
      "metadata": {
        "id": "90K2ujAYTTHv",
        "colab": {
          "base_uri": "https://localhost:8080/"
        },
        "outputId": "ae1d0551-13c0-4552-fb20-241049144ac9"
      },
      "id": "90K2ujAYTTHv",
      "execution_count": 52,
      "outputs": [
        {
          "name": "stdout",
          "output_type": "stream",
          "text": [
            "\n",
            "Enter a query (or press Enter to quit): call kevin now please\n",
            "\n",
            "Input query: call kevin now please\n",
            "Predicted intent: make_call\n",
            "\n",
            "Enter a query (or press Enter to quit): make me some soup\n",
            "\n",
            "Input query: make me some soup\n",
            "Predicted intent: meal_suggestion\n",
            "\n",
            "Enter a query (or press Enter to quit): build me a table\n",
            "\n",
            "Input query: build me a table\n",
            "Predicted intent: restaurant_reservation\n",
            "\n",
            "Enter a query (or press Enter to quit): can you design and build a desk for me\n",
            "\n",
            "Input query: can you design and build a desk for me\n",
            "Predicted intent: oos\n",
            "\n",
            "Enter a query (or press Enter to quit): I need to remember to make lunch\n",
            "\n",
            "Input query: I need to remember to make lunch\n",
            "Predicted intent: reminder_update\n",
            "\n",
            "Enter a query (or press Enter to quit): \n"
          ]
        }
      ]
    }
  ],
  "metadata": {
    "kernelspec": {
      "display_name": "Python 3 (ipykernel)",
      "language": "python",
      "name": "python3"
    },
    "language_info": {
      "codemirror_mode": {
        "name": "ipython",
        "version": 3
      },
      "file_extension": ".py",
      "mimetype": "text/x-python",
      "name": "python",
      "nbconvert_exporter": "python",
      "pygments_lexer": "ipython3",
      "version": "3.10.4"
    },
    "colab": {
      "provenance": []
    },
    "accelerator": "GPU",
    "gpuClass": "standard"
  },
  "nbformat": 4,
  "nbformat_minor": 5
}