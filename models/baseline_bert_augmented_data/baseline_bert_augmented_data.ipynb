{
  "nbformat": 4,
  "nbformat_minor": 0,
  "metadata": {
    "colab": {
      "provenance": [],
      "gpuType": "T4"
    },
    "kernelspec": {
      "name": "python3",
      "display_name": "Python 3"
    },
    "language_info": {
      "name": "python"
    },
    "accelerator": "GPU",
    "gpuClass": "standard"
  },
  "cells": [
    {
      "cell_type": "markdown",
      "source": [
        "## Imports"
      ],
      "metadata": {
        "id": "gn29odEJfpwt"
      }
    },
    {
      "cell_type": "code",
      "execution_count": null,
      "metadata": {
        "id": "WhegJBIOUm4j"
      },
      "outputs": [],
      "source": [
        "!pip install transformers\n",
        "!pip install datasets\n",
        "!pip install evaluate"
      ]
    },
    {
      "cell_type": "code",
      "source": [
        "import pandas as pd\n",
        "import numpy as np\n",
        "import evaluate\n",
        "from transformers import AutoTokenizer, AutoModelForSequenceClassification, TrainingArguments, Trainer, EvalPrediction\n",
        "from datasets import Dataset, load_dataset, Features, ClassLabel, Value, DatasetDict, set_caching_enabled\n",
        "from sklearn.metrics import accuracy_score, precision_recall_fscore_support, classification_report\n",
        "from matplotlib import pyplot as plt"
      ],
      "metadata": {
        "id": "EeQk84mMUt9f"
      },
      "execution_count": 2,
      "outputs": []
    },
    {
      "cell_type": "code",
      "source": [
        "set_caching_enabled(False)"
      ],
      "metadata": {
        "id": "oybeu5ozHSWo"
      },
      "execution_count": null,
      "outputs": []
    },
    {
      "cell_type": "markdown",
      "source": [
        "## Define the paths and experiment parameters"
      ],
      "metadata": {
        "id": "jhQpyW8Jfs-P"
      }
    },
    {
      "cell_type": "code",
      "source": [
        "project_path = \"/content/drive/MyDrive/University/Winter 23 Courses/CSI 5180 - AI Virtual Assistants/Project\"\n",
        "data_path = f\"{project_path}/data/augmented_dataset\"\n",
        "model_save_path = f\"{project_path}/models/baseline_bert_augmented_data/saved_models\"\n",
        "log_directory = f\"{project_path}/models/baseline_bert_augmented_data/logs\"\n",
        "plots_save_path = f\"{project_path}/models/baseline_bert_augmented_data/plots\""
      ],
      "metadata": {
        "id": "VKM-G2FaXiOK"
      },
      "execution_count": 4,
      "outputs": []
    },
    {
      "cell_type": "code",
      "source": [
        "# Parameters\n",
        "model_name = \"bert-large-uncased\"\n",
        "learning_rate = 4.00e-05\n",
        "warmup_proportion = 0.1\n",
        "train_batch_size = 32\n",
        "num_train_epochs = 5\n",
        "gradient_accumulation_steps = 1\n",
        "num_labels = 151"
      ],
      "metadata": {
        "id": "UYWn6i10aaJp"
      },
      "execution_count": 5,
      "outputs": []
    },
    {
      "cell_type": "markdown",
      "source": [
        "## Load the train, val and test datasets into a Dataset object"
      ],
      "metadata": {
        "id": "b8MpjbFQc9tH"
      }
    },
    {
      "cell_type": "code",
      "source": [
        "train_data = pd.read_csv(f\"{data_path}/augmented_train_data.csv\")\n",
        "val_data = pd.read_csv(f\"{data_path}/original_val_data.csv\")\n",
        "test_data = pd.read_csv(f\"{data_path}/original_test_data.csv\")\n",
        "\n",
        "class_names = sorted(train_data[\"label\"].unique())\n",
        "dataset_features = Features({'query': Value('string'), 'label': ClassLabel(num_classes=151, names=class_names)})\n",
        "\n",
        "train_dataset = Dataset.from_pandas(train_data, features=dataset_features)\n",
        "val_dataset = Dataset.from_pandas(val_data, features=dataset_features)\n",
        "test_dataset = Dataset.from_pandas(test_data, features=dataset_features)\n",
        "\n",
        "dataset = DatasetDict()\n",
        "dataset['train'] = train_dataset\n",
        "dataset['validation'] = val_dataset\n",
        "dataset['test'] = test_dataset"
      ],
      "metadata": {
        "id": "kCxxKjoeHzDW"
      },
      "execution_count": 7,
      "outputs": []
    },
    {
      "cell_type": "markdown",
      "source": [
        "### Add the inscope test data to the dataset object"
      ],
      "metadata": {
        "id": "OD4rbdVgH-Bp"
      }
    },
    {
      "cell_type": "code",
      "source": [
        "oos_label = test_dataset.features['label'].str2int('oos')\n",
        "oos_label"
      ],
      "metadata": {
        "colab": {
          "base_uri": "https://localhost:8080/"
        },
        "id": "PWG5VD3hH5_C",
        "outputId": "fb10bbf6-fd31-4360-d2bb-4704969515ed"
      },
      "execution_count": 8,
      "outputs": [
        {
          "output_type": "execute_result",
          "data": {
            "text/plain": [
              "80"
            ]
          },
          "metadata": {},
          "execution_count": 8
        }
      ]
    },
    {
      "cell_type": "code",
      "source": [
        "# Define a function to filter examples based on their label\n",
        "def exclude_oos(example):\n",
        "    return example[\"label\"] != oos_label\n",
        "\n",
        "# Filter the test dataset to exclude the label class\n",
        "inscope_test_dataset = test_dataset.filter(exclude_oos)"
      ],
      "metadata": {
        "id": "eG4cRrawAQVK"
      },
      "execution_count": null,
      "outputs": []
    },
    {
      "cell_type": "code",
      "source": [
        "dataset['inscope_test'] = inscope_test_dataset"
      ],
      "metadata": {
        "id": "L2vOav4-9P3z"
      },
      "execution_count": 10,
      "outputs": []
    },
    {
      "cell_type": "markdown",
      "source": [
        "## Explore the dataset"
      ],
      "metadata": {
        "id": "QUM5iUEeIW87"
      }
    },
    {
      "cell_type": "code",
      "source": [
        "dataset"
      ],
      "metadata": {
        "colab": {
          "base_uri": "https://localhost:8080/"
        },
        "id": "XlAHfr_8iNnC",
        "outputId": "7b70504f-c133-49f3-887d-621b7db46bc1"
      },
      "execution_count": 11,
      "outputs": [
        {
          "output_type": "execute_result",
          "data": {
            "text/plain": [
              "DatasetDict({\n",
              "    train: Dataset({\n",
              "        features: ['query', 'label'],\n",
              "        num_rows: 30200\n",
              "    })\n",
              "    validation: Dataset({\n",
              "        features: ['query', 'label'],\n",
              "        num_rows: 3100\n",
              "    })\n",
              "    test: Dataset({\n",
              "        features: ['query', 'label'],\n",
              "        num_rows: 5500\n",
              "    })\n",
              "    inscope_test: Dataset({\n",
              "        features: ['query', 'label'],\n",
              "        num_rows: 4500\n",
              "    })\n",
              "})"
            ]
          },
          "metadata": {},
          "execution_count": 11
        }
      ]
    },
    {
      "cell_type": "code",
      "source": [
        "dataset['train'][0]"
      ],
      "metadata": {
        "colab": {
          "base_uri": "https://localhost:8080/"
        },
        "id": "7X2NLIWUa3_J",
        "outputId": "a8f71739-d460-47ae-a2da-6bbbe2fcda63"
      },
      "execution_count": 12,
      "outputs": [
        {
          "output_type": "execute_result",
          "data": {
            "text/plain": [
              "{'query': 'can you check my reservations for mortons under david winters',\n",
              " 'label': 26}"
            ]
          },
          "metadata": {},
          "execution_count": 12
        }
      ]
    },
    {
      "cell_type": "code",
      "source": [
        "dataset['train'].features"
      ],
      "metadata": {
        "colab": {
          "base_uri": "https://localhost:8080/"
        },
        "id": "UO4JFvnTfXKt",
        "outputId": "4b731421-4126-406a-edc8-f2c8080fa09f"
      },
      "execution_count": 13,
      "outputs": [
        {
          "output_type": "execute_result",
          "data": {
            "text/plain": [
              "{'query': Value(dtype='string', id=None),\n",
              " 'label': ClassLabel(names=['accept_reservations', 'account_blocked', 'alarm', 'application_status', 'apr', 'are_you_a_bot', 'balance', 'bill_balance', 'bill_due', 'book_flight', 'book_hotel', 'calculator', 'calendar', 'calendar_update', 'calories', 'cancel', 'cancel_reservation', 'car_rental', 'card_declined', 'carry_on', 'change_accent', 'change_ai_name', 'change_language', 'change_speed', 'change_user_name', 'change_volume', 'confirm_reservation', 'cook_time', 'credit_limit', 'credit_limit_change', 'credit_score', 'current_location', 'damaged_card', 'date', 'definition', 'direct_deposit', 'directions', 'distance', 'do_you_have_pets', 'exchange_rate', 'expiration_date', 'find_phone', 'flight_status', 'flip_coin', 'food_last', 'freeze_account', 'fun_fact', 'gas', 'gas_type', 'goodbye', 'greeting', 'how_busy', 'how_old_are_you', 'improve_credit_score', 'income', 'ingredient_substitution', 'ingredients_list', 'insurance', 'insurance_change', 'interest_rate', 'international_fees', 'international_visa', 'jump_start', 'last_maintenance', 'lost_luggage', 'make_call', 'maybe', 'meal_suggestion', 'meaning_of_life', 'measurement_conversion', 'meeting_schedule', 'min_payment', 'mpg', 'new_card', 'next_holiday', 'next_song', 'no', 'nutrition_info', 'oil_change_how', 'oil_change_when', 'oos', 'order', 'order_checks', 'order_status', 'pay_bill', 'payday', 'pin_change', 'play_music', 'plug_type', 'pto_balance', 'pto_request', 'pto_request_status', 'pto_used', 'recipe', 'redeem_rewards', 'reminder', 'reminder_update', 'repeat', 'replacement_card_duration', 'report_fraud', 'report_lost_card', 'reset_settings', 'restaurant_reservation', 'restaurant_reviews', 'restaurant_suggestion', 'rewards_balance', 'roll_dice', 'rollover_401k', 'routing', 'schedule_maintenance', 'schedule_meeting', 'share_location', 'shopping_list', 'shopping_list_update', 'smart_home', 'spelling', 'spending_history', 'sync_device', 'taxes', 'tell_joke', 'text', 'thank_you', 'time', 'timer', 'timezone', 'tire_change', 'tire_pressure', 'todo_list', 'todo_list_update', 'traffic', 'transactions', 'transfer', 'translate', 'travel_alert', 'travel_notification', 'travel_suggestion', 'uber', 'update_playlist', 'user_name', 'vaccines', 'w2', 'weather', 'what_are_your_hobbies', 'what_can_i_ask_you', 'what_is_your_name', 'what_song', 'where_are_you_from', 'whisper_mode', 'who_do_you_work_for', 'who_made_you', 'yes'], id=None)}"
            ]
          },
          "metadata": {},
          "execution_count": 13
        }
      ]
    },
    {
      "cell_type": "markdown",
      "source": [
        "## Tokenize the dataset"
      ],
      "metadata": {
        "id": "4WLHI74ldFgy"
      }
    },
    {
      "cell_type": "code",
      "source": [
        "def tokenize_function(examples):\n",
        "    return tokenizer(examples[\"query\"], padding=True, truncation=True, return_tensors=\"pt\")\n",
        "\n",
        "tokenizer = AutoTokenizer.from_pretrained(model_name)\n",
        "\n",
        "encoded_dataset = dataset.map(tokenize_function, batched=True)"
      ],
      "metadata": {
        "id": "UbEaPyGvZwNk"
      },
      "execution_count": null,
      "outputs": []
    },
    {
      "cell_type": "code",
      "source": [
        "example = encoded_dataset['train'][0]\n",
        "print(example.keys())\n",
        "print(example)"
      ],
      "metadata": {
        "colab": {
          "base_uri": "https://localhost:8080/"
        },
        "id": "QHNwxHT2b6I8",
        "outputId": "5645ba50-0d3b-4032-9616-e8bd70f2e76e"
      },
      "execution_count": 15,
      "outputs": [
        {
          "output_type": "stream",
          "name": "stdout",
          "text": [
            "dict_keys(['query', 'label', 'input_ids', 'token_type_ids', 'attention_mask'])\n",
            "{'query': 'can you check my reservations for mortons under david winters', 'label': 26, 'input_ids': [101, 2064, 2017, 4638, 2026, 17829, 2005, 11164, 2015, 2104, 2585, 12214, 102, 0, 0, 0, 0, 0, 0, 0, 0, 0, 0, 0, 0, 0, 0, 0, 0, 0, 0], 'token_type_ids': [0, 0, 0, 0, 0, 0, 0, 0, 0, 0, 0, 0, 0, 0, 0, 0, 0, 0, 0, 0, 0, 0, 0, 0, 0, 0, 0, 0, 0, 0, 0], 'attention_mask': [1, 1, 1, 1, 1, 1, 1, 1, 1, 1, 1, 1, 1, 0, 0, 0, 0, 0, 0, 0, 0, 0, 0, 0, 0, 0, 0, 0, 0, 0, 0]}\n"
          ]
        }
      ]
    },
    {
      "cell_type": "code",
      "source": [
        "tokenizer.decode(example['input_ids'])"
      ],
      "metadata": {
        "colab": {
          "base_uri": "https://localhost:8080/",
          "height": 53
        },
        "id": "TFconIDTcpJ9",
        "outputId": "979f0faf-c09f-4790-bfe2-343986252b0e"
      },
      "execution_count": 16,
      "outputs": [
        {
          "output_type": "execute_result",
          "data": {
            "text/plain": [
              "'[CLS] can you check my reservations for mortons under david winters [SEP] [PAD] [PAD] [PAD] [PAD] [PAD] [PAD] [PAD] [PAD] [PAD] [PAD] [PAD] [PAD] [PAD] [PAD] [PAD] [PAD] [PAD] [PAD]'"
            ],
            "application/vnd.google.colaboratory.intrinsic+json": {
              "type": "string"
            }
          },
          "metadata": {},
          "execution_count": 16
        }
      ]
    },
    {
      "cell_type": "markdown",
      "source": [
        "## Set up the model and Training Arguments"
      ],
      "metadata": {
        "id": "OFewBtYddJSW"
      }
    },
    {
      "cell_type": "code",
      "source": [
        "model = AutoModelForSequenceClassification.from_pretrained(model_name, num_labels=num_labels)"
      ],
      "metadata": {
        "colab": {
          "base_uri": "https://localhost:8080/"
        },
        "id": "UIIXlbHucpD8",
        "outputId": "bdd3629a-f2d3-4075-8f03-03fd0a0e2ef2"
      },
      "execution_count": null,
      "outputs": [
        {
          "output_type": "stream",
          "name": "stderr",
          "text": [
            "Some weights of the model checkpoint at bert-large-uncased were not used when initializing BertForSequenceClassification: ['cls.predictions.transform.dense.bias', 'cls.predictions.transform.LayerNorm.weight', 'cls.predictions.transform.LayerNorm.bias', 'cls.seq_relationship.bias', 'cls.predictions.decoder.weight', 'cls.seq_relationship.weight', 'cls.predictions.transform.dense.weight', 'cls.predictions.bias']\n",
            "- This IS expected if you are initializing BertForSequenceClassification from the checkpoint of a model trained on another task or with another architecture (e.g. initializing a BertForSequenceClassification model from a BertForPreTraining model).\n",
            "- This IS NOT expected if you are initializing BertForSequenceClassification from the checkpoint of a model that you expect to be exactly identical (initializing a BertForSequenceClassification model from a BertForSequenceClassification model).\n",
            "Some weights of BertForSequenceClassification were not initialized from the model checkpoint at bert-large-uncased and are newly initialized: ['classifier.weight', 'classifier.bias']\n",
            "You should probably TRAIN this model on a down-stream task to be able to use it for predictions and inference.\n"
          ]
        }
      ]
    },
    {
      "cell_type": "code",
      "source": [
        "args = TrainingArguments(\n",
        "    output_dir = model_save_path,\n",
        "    logging_dir = log_directory,\n",
        "    logging_strategy='epoch',\n",
        "    evaluation_strategy = \"epoch\",\n",
        "    save_strategy = \"no\",\n",
        "    learning_rate=learning_rate,\n",
        "    per_device_train_batch_size=train_batch_size,\n",
        "    per_device_eval_batch_size=train_batch_size,\n",
        "    gradient_accumulation_steps=gradient_accumulation_steps,\n",
        "    num_train_epochs=num_train_epochs,\n",
        ")"
      ],
      "metadata": {
        "id": "TgH7k_d6d7uV"
      },
      "execution_count": null,
      "outputs": []
    },
    {
      "cell_type": "markdown",
      "source": [
        "## Define the compute metrics function to evaluate the model with the desired metrics"
      ],
      "metadata": {
        "id": "N5GZghCCcCR2"
      }
    },
    {
      "cell_type": "code",
      "source": [
        "def multi_label_metrics(predictions, labels):\n",
        "    y_true = labels\n",
        "    y_pred = predictions.argmax(axis=1)\n",
        "\n",
        "    precision, recall, f1, _ = precision_recall_fscore_support(y_true, y_pred, average=\"weighted\")\n",
        "    accuracy = accuracy_score(y_true, y_pred)\n",
        "    \n",
        "    metrics = {'accuracy': accuracy,\n",
        "               'precision': precision,\n",
        "               'recall': recall,\n",
        "               'f1': f1\n",
        "               }\n",
        "\n",
        "    return metrics\n",
        "\n",
        "def compute_metrics(p: EvalPrediction):\n",
        "    preds = p.predictions[0] if isinstance(p.predictions, tuple) else p.predictions\n",
        "    result = multi_label_metrics(predictions=preds, labels=p.label_ids)\n",
        "\n",
        "    return result"
      ],
      "metadata": {
        "id": "PEbpRPR5iUKz"
      },
      "execution_count": 17,
      "outputs": []
    },
    {
      "cell_type": "markdown",
      "source": [
        "## Train the model"
      ],
      "metadata": {
        "id": "l-5RGPzQce5b"
      }
    },
    {
      "cell_type": "code",
      "source": [
        "trainer = Trainer(\n",
        "    model,\n",
        "    args,\n",
        "    train_dataset=encoded_dataset[\"train\"],\n",
        "    eval_dataset=encoded_dataset[\"validation\"],\n",
        "    tokenizer=tokenizer,\n",
        "    compute_metrics=compute_metrics\n",
        ")"
      ],
      "metadata": {
        "id": "MFRG_xURcKh_"
      },
      "execution_count": null,
      "outputs": []
    },
    {
      "cell_type": "code",
      "source": [
        "trainer.train()"
      ],
      "metadata": {
        "colab": {
          "base_uri": "https://localhost:8080/",
          "height": 339
        },
        "id": "gmxVSBk3cUvR",
        "outputId": "51353d4f-817e-4e3a-b6cf-01b90d063105"
      },
      "execution_count": null,
      "outputs": [
        {
          "output_type": "stream",
          "name": "stderr",
          "text": [
            "/usr/local/lib/python3.9/dist-packages/transformers/optimization.py:391: FutureWarning: This implementation of AdamW is deprecated and will be removed in a future version. Use the PyTorch implementation torch.optim.AdamW instead, or set `no_deprecation_warning=True` to disable this warning\n",
            "  warnings.warn(\n",
            "You're using a BertTokenizerFast tokenizer. Please note that with a fast tokenizer, using the `__call__` method is faster than using a method to encode the text followed by a call to the `pad` method to get a padded encoding.\n"
          ]
        },
        {
          "output_type": "display_data",
          "data": {
            "text/plain": [
              "<IPython.core.display.HTML object>"
            ],
            "text/html": [
              "\n",
              "    <div>\n",
              "      \n",
              "      <progress value='4720' max='4720' style='width:300px; height:20px; vertical-align: middle;'></progress>\n",
              "      [4720/4720 1:00:45, Epoch 5/5]\n",
              "    </div>\n",
              "    <table border=\"1\" class=\"dataframe\">\n",
              "  <thead>\n",
              " <tr style=\"text-align: left;\">\n",
              "      <th>Epoch</th>\n",
              "      <th>Training Loss</th>\n",
              "      <th>Validation Loss</th>\n",
              "      <th>Accuracy</th>\n",
              "      <th>Precision</th>\n",
              "      <th>Recall</th>\n",
              "      <th>F1</th>\n",
              "    </tr>\n",
              "  </thead>\n",
              "  <tbody>\n",
              "    <tr>\n",
              "      <td>1</td>\n",
              "      <td>1.233900</td>\n",
              "      <td>0.290064</td>\n",
              "      <td>0.937419</td>\n",
              "      <td>0.944550</td>\n",
              "      <td>0.937419</td>\n",
              "      <td>0.934175</td>\n",
              "    </tr>\n",
              "    <tr>\n",
              "      <td>2</td>\n",
              "      <td>0.092500</td>\n",
              "      <td>0.218643</td>\n",
              "      <td>0.958710</td>\n",
              "      <td>0.961477</td>\n",
              "      <td>0.958710</td>\n",
              "      <td>0.958006</td>\n",
              "    </tr>\n",
              "    <tr>\n",
              "      <td>3</td>\n",
              "      <td>0.040700</td>\n",
              "      <td>0.251314</td>\n",
              "      <td>0.955161</td>\n",
              "      <td>0.958834</td>\n",
              "      <td>0.955161</td>\n",
              "      <td>0.953996</td>\n",
              "    </tr>\n",
              "    <tr>\n",
              "      <td>4</td>\n",
              "      <td>0.020300</td>\n",
              "      <td>0.239919</td>\n",
              "      <td>0.958065</td>\n",
              "      <td>0.960829</td>\n",
              "      <td>0.958065</td>\n",
              "      <td>0.956817</td>\n",
              "    </tr>\n",
              "    <tr>\n",
              "      <td>5</td>\n",
              "      <td>0.009600</td>\n",
              "      <td>0.242539</td>\n",
              "      <td>0.959032</td>\n",
              "      <td>0.961598</td>\n",
              "      <td>0.959032</td>\n",
              "      <td>0.957786</td>\n",
              "    </tr>\n",
              "  </tbody>\n",
              "</table><p>"
            ]
          },
          "metadata": {}
        },
        {
          "output_type": "execute_result",
          "data": {
            "text/plain": [
              "TrainOutput(global_step=4720, training_loss=0.27941569736448385, metrics={'train_runtime': 3647.5108, 'train_samples_per_second': 41.398, 'train_steps_per_second': 1.294, 'total_flos': 1.0080502691465952e+16, 'train_loss': 0.27941569736448385, 'epoch': 5.0})"
            ]
          },
          "metadata": {},
          "execution_count": 16
        }
      ]
    },
    {
      "cell_type": "markdown",
      "source": [
        "## Evaluate the model on the validation set"
      ],
      "metadata": {
        "id": "9DLd8S3Ccj9T"
      }
    },
    {
      "cell_type": "code",
      "source": [
        "trainer.evaluate()"
      ],
      "metadata": {
        "colab": {
          "base_uri": "https://localhost:8080/",
          "height": 193
        },
        "id": "NTS7_3y2cjEi",
        "outputId": "4b084072-7f93-4160-bcb5-7852be2f4f77"
      },
      "execution_count": null,
      "outputs": [
        {
          "output_type": "display_data",
          "data": {
            "text/plain": [
              "<IPython.core.display.HTML object>"
            ],
            "text/html": [
              "\n",
              "    <div>\n",
              "      \n",
              "      <progress value='97' max='97' style='width:300px; height:20px; vertical-align: middle;'></progress>\n",
              "      [97/97 00:18]\n",
              "    </div>\n",
              "    "
            ]
          },
          "metadata": {}
        },
        {
          "output_type": "execute_result",
          "data": {
            "text/plain": [
              "{'eval_loss': 0.24253851175308228,\n",
              " 'eval_accuracy': 0.9590322580645161,\n",
              " 'eval_precision': 0.9615979938796799,\n",
              " 'eval_recall': 0.9590322580645161,\n",
              " 'eval_f1': 0.9577855010205117,\n",
              " 'eval_runtime': 18.4735,\n",
              " 'eval_samples_per_second': 167.808,\n",
              " 'eval_steps_per_second': 5.251,\n",
              " 'epoch': 5.0}"
            ]
          },
          "metadata": {},
          "execution_count": 17
        }
      ]
    },
    {
      "cell_type": "markdown",
      "source": [
        "## Evaluate the model on the test set"
      ],
      "metadata": {
        "id": "sNTRrR0ndDmz"
      }
    },
    {
      "cell_type": "code",
      "source": [
        "test_eval = trainer.predict(encoded_dataset[\"test\"])"
      ],
      "metadata": {
        "colab": {
          "base_uri": "https://localhost:8080/",
          "height": 17
        },
        "id": "BHUlmGHhdM4d",
        "outputId": "e266fb7a-cc37-43af-d91c-4ff5f352fc3b"
      },
      "execution_count": null,
      "outputs": [
        {
          "output_type": "display_data",
          "data": {
            "text/plain": [
              "<IPython.core.display.HTML object>"
            ],
            "text/html": []
          },
          "metadata": {}
        }
      ]
    },
    {
      "cell_type": "code",
      "source": [
        "test_preds = test_eval.predictions.argmax(-1)\n",
        "test_labels = test_eval.label_ids\n",
        "\n",
        "report = classification_report(test_labels, test_preds, target_names=class_names)\n",
        "\n",
        "print(\"Classification report:\")\n",
        "print(report)"
      ],
      "metadata": {
        "colab": {
          "base_uri": "https://localhost:8080/"
        },
        "id": "Mt0O4-hhvIXW",
        "outputId": "64c01cf0-150a-48ca-ef71-f7dd05b57d5a"
      },
      "execution_count": null,
      "outputs": [
        {
          "output_type": "stream",
          "name": "stdout",
          "text": [
            "Classification report:\n",
            "                           precision    recall  f1-score   support\n",
            "\n",
            "      accept_reservations       0.88      1.00      0.94        30\n",
            "          account_blocked       0.77      0.90      0.83        30\n",
            "                    alarm       0.94      1.00      0.97        30\n",
            "       application_status       1.00      1.00      1.00        30\n",
            "                      apr       0.88      1.00      0.94        30\n",
            "            are_you_a_bot       0.94      1.00      0.97        30\n",
            "                  balance       0.77      1.00      0.87        30\n",
            "             bill_balance       0.84      0.90      0.87        30\n",
            "                 bill_due       0.88      0.93      0.90        30\n",
            "              book_flight       0.97      0.93      0.95        30\n",
            "               book_hotel       0.88      1.00      0.94        30\n",
            "               calculator       0.78      0.93      0.85        30\n",
            "                 calendar       0.87      0.87      0.87        30\n",
            "          calendar_update       0.85      0.97      0.91        30\n",
            "                 calories       0.88      1.00      0.94        30\n",
            "                   cancel       0.85      0.93      0.89        30\n",
            "       cancel_reservation       0.94      1.00      0.97        30\n",
            "               car_rental       0.83      0.97      0.89        30\n",
            "            card_declined       0.96      0.90      0.93        30\n",
            "                 carry_on       1.00      0.93      0.97        30\n",
            "            change_accent       1.00      1.00      1.00        30\n",
            "           change_ai_name       0.94      1.00      0.97        30\n",
            "          change_language       0.81      1.00      0.90        30\n",
            "             change_speed       0.94      1.00      0.97        30\n",
            "         change_user_name       0.81      0.97      0.88        30\n",
            "            change_volume       0.83      0.83      0.83        30\n",
            "      confirm_reservation       1.00      1.00      1.00        30\n",
            "                cook_time       1.00      0.97      0.98        30\n",
            "             credit_limit       0.85      0.97      0.91        30\n",
            "      credit_limit_change       0.94      1.00      0.97        30\n",
            "             credit_score       0.94      0.97      0.95        30\n",
            "         current_location       0.83      1.00      0.91        30\n",
            "             damaged_card       0.86      1.00      0.92        30\n",
            "                     date       1.00      0.97      0.98        30\n",
            "               definition       0.93      0.93      0.93        30\n",
            "           direct_deposit       0.91      1.00      0.95        30\n",
            "               directions       0.65      1.00      0.79        30\n",
            "                 distance       0.74      0.93      0.82        30\n",
            "         do_you_have_pets       0.91      1.00      0.95        30\n",
            "            exchange_rate       0.94      1.00      0.97        30\n",
            "          expiration_date       0.94      0.97      0.95        30\n",
            "               find_phone       0.86      1.00      0.92        30\n",
            "            flight_status       0.94      1.00      0.97        30\n",
            "                flip_coin       1.00      1.00      1.00        30\n",
            "                food_last       0.83      0.97      0.89        30\n",
            "           freeze_account       0.70      1.00      0.82        30\n",
            "                 fun_fact       0.88      0.97      0.92        30\n",
            "                      gas       0.94      1.00      0.97        30\n",
            "                 gas_type       0.97      0.97      0.97        30\n",
            "                  goodbye       0.85      0.93      0.89        30\n",
            "                 greeting       0.91      1.00      0.95        30\n",
            "                 how_busy       0.88      0.93      0.90        30\n",
            "          how_old_are_you       0.88      1.00      0.94        30\n",
            "     improve_credit_score       0.79      1.00      0.88        30\n",
            "                   income       0.93      0.93      0.93        30\n",
            "  ingredient_substitution       0.88      1.00      0.94        30\n",
            "         ingredients_list       0.83      0.80      0.81        30\n",
            "                insurance       0.77      1.00      0.87        30\n",
            "         insurance_change       0.88      0.97      0.92        30\n",
            "            interest_rate       0.88      0.97      0.92        30\n",
            "       international_fees       0.91      1.00      0.95        30\n",
            "       international_visa       0.94      1.00      0.97        30\n",
            "               jump_start       0.77      1.00      0.87        30\n",
            "         last_maintenance       0.81      1.00      0.90        30\n",
            "             lost_luggage       1.00      1.00      1.00        30\n",
            "                make_call       0.69      0.97      0.81        30\n",
            "                    maybe       0.97      1.00      0.98        30\n",
            "          meal_suggestion       0.81      0.87      0.84        30\n",
            "          meaning_of_life       0.91      0.97      0.94        30\n",
            "   measurement_conversion       0.94      0.97      0.95        30\n",
            "         meeting_schedule       0.88      1.00      0.94        30\n",
            "              min_payment       0.91      0.97      0.94        30\n",
            "                      mpg       0.75      1.00      0.86        30\n",
            "                 new_card       0.88      0.93      0.90        30\n",
            "             next_holiday       0.91      0.97      0.94        30\n",
            "                next_song       0.97      1.00      0.98        30\n",
            "                       no       0.97      0.97      0.97        30\n",
            "           nutrition_info       0.70      1.00      0.82        30\n",
            "           oil_change_how       0.73      1.00      0.85        30\n",
            "          oil_change_when       0.85      0.93      0.89        30\n",
            "                      oos       0.98      0.48      0.65      1000\n",
            "                    order       0.57      0.90      0.70        30\n",
            "             order_checks       0.97      1.00      0.98        30\n",
            "             order_status       0.85      0.97      0.91        30\n",
            "                 pay_bill       0.97      0.93      0.95        30\n",
            "                   payday       0.97      0.97      0.97        30\n",
            "               pin_change       0.86      0.83      0.85        30\n",
            "               play_music       0.85      0.93      0.89        30\n",
            "                plug_type       0.94      0.97      0.95        30\n",
            "              pto_balance       0.86      1.00      0.92        30\n",
            "              pto_request       0.94      0.97      0.95        30\n",
            "       pto_request_status       0.93      0.93      0.93        30\n",
            "                 pto_used       0.74      0.97      0.84        30\n",
            "                   recipe       0.60      0.97      0.74        30\n",
            "           redeem_rewards       1.00      0.87      0.93        30\n",
            "                 reminder       0.94      1.00      0.97        30\n",
            "          reminder_update       0.88      0.93      0.90        30\n",
            "                   repeat       0.94      1.00      0.97        30\n",
            "replacement_card_duration       0.87      0.90      0.89        30\n",
            "             report_fraud       0.88      0.93      0.90        30\n",
            "         report_lost_card       0.87      0.90      0.89        30\n",
            "           reset_settings       1.00      1.00      1.00        30\n",
            "   restaurant_reservation       0.93      0.90      0.92        30\n",
            "       restaurant_reviews       0.82      0.93      0.87        30\n",
            "    restaurant_suggestion       0.88      0.93      0.90        30\n",
            "          rewards_balance       0.88      1.00      0.94        30\n",
            "                roll_dice       0.94      1.00      0.97        30\n",
            "            rollover_401k       0.94      1.00      0.97        30\n",
            "                  routing       1.00      1.00      1.00        30\n",
            "     schedule_maintenance       0.68      0.83      0.75        30\n",
            "         schedule_meeting       0.88      1.00      0.94        30\n",
            "           share_location       0.97      0.93      0.95        30\n",
            "            shopping_list       0.58      0.97      0.72        30\n",
            "     shopping_list_update       0.86      1.00      0.92        30\n",
            "               smart_home       0.65      1.00      0.79        30\n",
            "                 spelling       0.83      0.97      0.89        30\n",
            "         spending_history       0.74      0.93      0.82        30\n",
            "              sync_device       0.73      1.00      0.85        30\n",
            "                    taxes       0.94      1.00      0.97        30\n",
            "                tell_joke       0.77      1.00      0.87        30\n",
            "                     text       0.75      0.90      0.82        30\n",
            "                thank_you       0.97      0.97      0.97        30\n",
            "                     time       0.97      0.97      0.97        30\n",
            "                    timer       0.94      0.97      0.95        30\n",
            "                 timezone       1.00      0.97      0.98        30\n",
            "              tire_change       0.97      0.97      0.97        30\n",
            "            tire_pressure       0.94      1.00      0.97        30\n",
            "                todo_list       1.00      1.00      1.00        30\n",
            "         todo_list_update       0.97      1.00      0.98        30\n",
            "                  traffic       0.73      1.00      0.85        30\n",
            "             transactions       0.92      0.80      0.86        30\n",
            "                 transfer       0.90      0.93      0.92        30\n",
            "                translate       0.94      0.97      0.95        30\n",
            "             travel_alert       0.97      1.00      0.98        30\n",
            "      travel_notification       0.97      1.00      0.98        30\n",
            "        travel_suggestion       0.64      1.00      0.78        30\n",
            "                     uber       0.97      1.00      0.98        30\n",
            "          update_playlist       0.94      0.97      0.95        30\n",
            "                user_name       0.97      0.97      0.97        30\n",
            "                 vaccines       0.91      1.00      0.95        30\n",
            "                       w2       1.00      1.00      1.00        30\n",
            "                  weather       0.75      1.00      0.86        30\n",
            "    what_are_your_hobbies       0.91      1.00      0.95        30\n",
            "       what_can_i_ask_you       0.86      1.00      0.92        30\n",
            "        what_is_your_name       0.93      0.93      0.93        30\n",
            "                what_song       0.86      1.00      0.92        30\n",
            "       where_are_you_from       0.93      0.93      0.93        30\n",
            "             whisper_mode       0.86      1.00      0.92        30\n",
            "      who_do_you_work_for       0.90      0.93      0.92        30\n",
            "             who_made_you       0.91      1.00      0.95        30\n",
            "                      yes       0.93      0.93      0.93        30\n",
            "\n",
            "                 accuracy                           0.88      5500\n",
            "                macro avg       0.88      0.96      0.92      5500\n",
            "             weighted avg       0.90      0.88      0.87      5500\n",
            "\n"
          ]
        }
      ]
    },
    {
      "cell_type": "code",
      "source": [
        "trainer.save_model(model_save_path)"
      ],
      "metadata": {
        "id": "XpvsoCTkCVsm"
      },
      "execution_count": null,
      "outputs": []
    },
    {
      "cell_type": "markdown",
      "source": [
        "## Load the saved model"
      ],
      "metadata": {
        "id": "-JK941pICiZR"
      }
    },
    {
      "cell_type": "code",
      "source": [
        "model = AutoModelForSequenceClassification.from_pretrained(model_save_path)"
      ],
      "metadata": {
        "id": "dtdxJ9ibCmGx"
      },
      "execution_count": 18,
      "outputs": []
    },
    {
      "cell_type": "code",
      "source": [
        "trainer = Trainer(\n",
        "    model=model,\n",
        ")"
      ],
      "metadata": {
        "id": "RjbDrJjaFqNI"
      },
      "execution_count": 19,
      "outputs": []
    },
    {
      "cell_type": "markdown",
      "source": [
        "## Evaluate the model on the inscope test set"
      ],
      "metadata": {
        "id": "84Njo48sDhzn"
      }
    },
    {
      "cell_type": "code",
      "source": [
        "inscope_test_eval = trainer.predict(encoded_dataset[\"inscope_test\"])"
      ],
      "metadata": {
        "colab": {
          "base_uri": "https://localhost:8080/",
          "height": 17
        },
        "id": "ZWpQJs6dDmwA",
        "outputId": "2721717a-aff8-4c49-b0f2-abcbfb87c1cc"
      },
      "execution_count": 20,
      "outputs": [
        {
          "output_type": "display_data",
          "data": {
            "text/plain": [
              "<IPython.core.display.HTML object>"
            ],
            "text/html": []
          },
          "metadata": {}
        }
      ]
    },
    {
      "cell_type": "code",
      "source": [
        "test_preds = inscope_test_eval.predictions.argmax(-1)\n",
        "test_labels = inscope_test_eval.label_ids\n",
        "\n",
        "report = classification_report(test_labels, test_preds, target_names=class_names)\n",
        "\n",
        "print(\"Inscope Classification report:\")\n",
        "print(report)"
      ],
      "metadata": {
        "colab": {
          "base_uri": "https://localhost:8080/"
        },
        "id": "WwM04lRTDvon",
        "outputId": "ef327ed4-2931-4bdf-a89a-bf763fb89d16"
      },
      "execution_count": 26,
      "outputs": [
        {
          "output_type": "stream",
          "name": "stdout",
          "text": [
            "Inscope Classification report:\n",
            "                           precision    recall  f1-score   support\n",
            "\n",
            "      accept_reservations       0.91      1.00      0.95        30\n",
            "          account_blocked       0.96      0.90      0.93        30\n",
            "                    alarm       0.94      1.00      0.97        30\n",
            "       application_status       1.00      1.00      1.00        30\n",
            "                      apr       0.97      1.00      0.98        30\n",
            "            are_you_a_bot       0.97      1.00      0.98        30\n",
            "                  balance       0.91      1.00      0.95        30\n",
            "             bill_balance       0.93      0.90      0.92        30\n",
            "                 bill_due       0.93      0.93      0.93        30\n",
            "              book_flight       1.00      0.93      0.97        30\n",
            "               book_hotel       0.97      1.00      0.98        30\n",
            "               calculator       0.97      0.93      0.95        30\n",
            "                 calendar       0.93      0.87      0.90        30\n",
            "          calendar_update       0.94      0.97      0.95        30\n",
            "                 calories       1.00      1.00      1.00        30\n",
            "                   cancel       0.90      0.93      0.92        30\n",
            "       cancel_reservation       0.94      1.00      0.97        30\n",
            "               car_rental       1.00      0.97      0.98        30\n",
            "            card_declined       0.96      0.90      0.93        30\n",
            "                 carry_on       1.00      0.93      0.97        30\n",
            "            change_accent       1.00      1.00      1.00        30\n",
            "           change_ai_name       0.97      1.00      0.98        30\n",
            "          change_language       0.94      1.00      0.97        30\n",
            "             change_speed       0.97      1.00      0.98        30\n",
            "         change_user_name       0.83      0.97      0.89        30\n",
            "            change_volume       0.96      0.83      0.89        30\n",
            "      confirm_reservation       1.00      1.00      1.00        30\n",
            "                cook_time       1.00      0.97      0.98        30\n",
            "             credit_limit       0.97      0.97      0.97        30\n",
            "      credit_limit_change       0.97      1.00      0.98        30\n",
            "             credit_score       1.00      0.97      0.98        30\n",
            "         current_location       0.97      1.00      0.98        30\n",
            "             damaged_card       0.97      1.00      0.98        30\n",
            "                     date       1.00      0.97      0.98        30\n",
            "               definition       0.97      0.93      0.95        30\n",
            "           direct_deposit       1.00      1.00      1.00        30\n",
            "               directions       0.97      1.00      0.98        30\n",
            "                 distance       0.97      0.93      0.95        30\n",
            "         do_you_have_pets       1.00      1.00      1.00        30\n",
            "            exchange_rate       0.97      1.00      0.98        30\n",
            "          expiration_date       0.97      0.97      0.97        30\n",
            "               find_phone       0.97      1.00      0.98        30\n",
            "            flight_status       0.97      1.00      0.98        30\n",
            "                flip_coin       1.00      1.00      1.00        30\n",
            "                food_last       1.00      0.97      0.98        30\n",
            "           freeze_account       0.94      1.00      0.97        30\n",
            "                 fun_fact       1.00      0.97      0.98        30\n",
            "                      gas       1.00      1.00      1.00        30\n",
            "                 gas_type       1.00      0.97      0.98        30\n",
            "                  goodbye       0.97      0.93      0.95        30\n",
            "                 greeting       1.00      1.00      1.00        30\n",
            "                 how_busy       0.97      0.93      0.95        30\n",
            "          how_old_are_you       0.97      1.00      0.98        30\n",
            "     improve_credit_score       0.97      1.00      0.98        30\n",
            "                   income       1.00      0.93      0.97        30\n",
            "  ingredient_substitution       1.00      1.00      1.00        30\n",
            "         ingredients_list       1.00      0.80      0.89        30\n",
            "                insurance       1.00      1.00      1.00        30\n",
            "         insurance_change       1.00      0.97      0.98        30\n",
            "            interest_rate       1.00      0.97      0.98        30\n",
            "       international_fees       0.97      1.00      0.98        30\n",
            "       international_visa       0.97      1.00      0.98        30\n",
            "               jump_start       0.97      1.00      0.98        30\n",
            "         last_maintenance       0.91      1.00      0.95        30\n",
            "             lost_luggage       1.00      1.00      1.00        30\n",
            "                make_call       0.91      0.97      0.94        30\n",
            "                    maybe       1.00      1.00      1.00        30\n",
            "          meal_suggestion       0.93      0.87      0.90        30\n",
            "          meaning_of_life       0.97      0.97      0.97        30\n",
            "   measurement_conversion       1.00      0.97      0.98        30\n",
            "         meeting_schedule       0.94      1.00      0.97        30\n",
            "              min_payment       0.94      0.97      0.95        30\n",
            "                      mpg       0.97      1.00      0.98        30\n",
            "                 new_card       0.90      0.93      0.92        30\n",
            "             next_holiday       1.00      0.97      0.98        30\n",
            "                next_song       1.00      1.00      1.00        30\n",
            "                       no       0.97      0.97      0.97        30\n",
            "           nutrition_info       0.97      1.00      0.98        30\n",
            "           oil_change_how       0.97      1.00      0.98        30\n",
            "          oil_change_when       0.90      0.93      0.92        30\n",
            "                      oos       0.00      0.00      0.00         0\n",
            "                    order       1.00      0.90      0.95        30\n",
            "             order_checks       1.00      1.00      1.00        30\n",
            "             order_status       0.97      0.97      0.97        30\n",
            "                 pay_bill       0.97      0.93      0.95        30\n",
            "                   payday       0.97      0.97      0.97        30\n",
            "               pin_change       1.00      0.83      0.91        30\n",
            "               play_music       0.97      0.93      0.95        30\n",
            "                plug_type       1.00      0.97      0.98        30\n",
            "              pto_balance       0.91      1.00      0.95        30\n",
            "              pto_request       1.00      0.97      0.98        30\n",
            "       pto_request_status       1.00      0.93      0.97        30\n",
            "                 pto_used       0.94      0.97      0.95        30\n",
            "                   recipe       0.85      0.97      0.91        30\n",
            "           redeem_rewards       1.00      0.87      0.93        30\n",
            "                 reminder       0.97      1.00      0.98        30\n",
            "          reminder_update       1.00      0.93      0.97        30\n",
            "                   repeat       0.97      1.00      0.98        30\n",
            "replacement_card_duration       0.96      0.90      0.93        30\n",
            "             report_fraud       0.93      0.93      0.93        30\n",
            "         report_lost_card       0.96      0.90      0.93        30\n",
            "           reset_settings       1.00      1.00      1.00        30\n",
            "   restaurant_reservation       0.96      0.90      0.93        30\n",
            "       restaurant_reviews       1.00      0.93      0.97        30\n",
            "    restaurant_suggestion       1.00      0.93      0.97        30\n",
            "          rewards_balance       0.88      1.00      0.94        30\n",
            "                roll_dice       1.00      1.00      1.00        30\n",
            "            rollover_401k       1.00      1.00      1.00        30\n",
            "                  routing       1.00      1.00      1.00        30\n",
            "     schedule_maintenance       1.00      0.83      0.91        30\n",
            "         schedule_meeting       0.94      1.00      0.97        30\n",
            "           share_location       1.00      0.93      0.97        30\n",
            "            shopping_list       0.85      0.97      0.91        30\n",
            "     shopping_list_update       0.97      1.00      0.98        30\n",
            "               smart_home       1.00      1.00      1.00        30\n",
            "                 spelling       0.97      0.97      0.97        30\n",
            "         spending_history       0.85      0.93      0.89        30\n",
            "              sync_device       1.00      1.00      1.00        30\n",
            "                    taxes       1.00      1.00      1.00        30\n",
            "                tell_joke       0.97      1.00      0.98        30\n",
            "                     text       1.00      0.90      0.95        30\n",
            "                thank_you       0.97      0.97      0.97        30\n",
            "                     time       0.97      0.97      0.97        30\n",
            "                    timer       1.00      0.97      0.98        30\n",
            "                 timezone       1.00      0.97      0.98        30\n",
            "              tire_change       1.00      0.97      0.98        30\n",
            "            tire_pressure       0.97      1.00      0.98        30\n",
            "                todo_list       1.00      1.00      1.00        30\n",
            "         todo_list_update       1.00      1.00      1.00        30\n",
            "                  traffic       1.00      1.00      1.00        30\n",
            "             transactions       1.00      0.80      0.89        30\n",
            "                 transfer       1.00      0.93      0.97        30\n",
            "                translate       1.00      0.97      0.98        30\n",
            "             travel_alert       1.00      1.00      1.00        30\n",
            "      travel_notification       0.97      1.00      0.98        30\n",
            "        travel_suggestion       0.97      1.00      0.98        30\n",
            "                     uber       1.00      1.00      1.00        30\n",
            "          update_playlist       1.00      0.97      0.98        30\n",
            "                user_name       1.00      0.97      0.98        30\n",
            "                 vaccines       1.00      1.00      1.00        30\n",
            "                       w2       1.00      1.00      1.00        30\n",
            "                  weather       0.97      1.00      0.98        30\n",
            "    what_are_your_hobbies       1.00      1.00      1.00        30\n",
            "       what_can_i_ask_you       0.91      1.00      0.95        30\n",
            "        what_is_your_name       0.97      0.93      0.95        30\n",
            "                what_song       0.97      1.00      0.98        30\n",
            "       where_are_you_from       1.00      0.93      0.97        30\n",
            "             whisper_mode       0.88      1.00      0.94        30\n",
            "      who_do_you_work_for       0.93      0.93      0.93        30\n",
            "             who_made_you       0.97      1.00      0.98        30\n",
            "                      yes       0.93      0.93      0.93        30\n",
            "\n",
            "                 accuracy                           0.97      4500\n",
            "                macro avg       0.96      0.96      0.96      4500\n",
            "             weighted avg       0.97      0.97      0.97      4500\n",
            "\n"
          ]
        },
        {
          "output_type": "stream",
          "name": "stderr",
          "text": [
            "/usr/local/lib/python3.9/dist-packages/sklearn/metrics/_classification.py:1344: UndefinedMetricWarning: Recall and F-score are ill-defined and being set to 0.0 in labels with no true samples. Use `zero_division` parameter to control this behavior.\n",
            "  _warn_prf(average, modifier, msg_start, len(result))\n",
            "/usr/local/lib/python3.9/dist-packages/sklearn/metrics/_classification.py:1344: UndefinedMetricWarning: Recall and F-score are ill-defined and being set to 0.0 in labels with no true samples. Use `zero_division` parameter to control this behavior.\n",
            "  _warn_prf(average, modifier, msg_start, len(result))\n",
            "/usr/local/lib/python3.9/dist-packages/sklearn/metrics/_classification.py:1344: UndefinedMetricWarning: Recall and F-score are ill-defined and being set to 0.0 in labels with no true samples. Use `zero_division` parameter to control this behavior.\n",
            "  _warn_prf(average, modifier, msg_start, len(result))\n"
          ]
        }
      ]
    }
  ]
}