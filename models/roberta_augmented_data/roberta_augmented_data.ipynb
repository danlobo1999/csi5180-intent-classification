{
  "nbformat": 4,
  "nbformat_minor": 0,
  "metadata": {
    "colab": {
      "provenance": [],
      "gpuType": "T4"
    },
    "kernelspec": {
      "name": "python3",
      "display_name": "Python 3"
    },
    "language_info": {
      "name": "python"
    },
    "accelerator": "GPU",
    "gpuClass": "standard",
    "widgets": {
      "application/vnd.jupyter.widget-state+json": {
        "6accdf12e0a34fa59afff574006c3307": {
          "model_module": "@jupyter-widgets/controls",
          "model_name": "HBoxModel",
          "model_module_version": "1.5.0",
          "state": {
            "_dom_classes": [],
            "_model_module": "@jupyter-widgets/controls",
            "_model_module_version": "1.5.0",
            "_model_name": "HBoxModel",
            "_view_count": null,
            "_view_module": "@jupyter-widgets/controls",
            "_view_module_version": "1.5.0",
            "_view_name": "HBoxView",
            "box_style": "",
            "children": [
              "IPY_MODEL_7d883d9e687a4d17b04bd5832bdb54db",
              "IPY_MODEL_2735d7377c734f9ba663b0348ddb6277",
              "IPY_MODEL_66617f8c94ed4869a506af018a53a6fd"
            ],
            "layout": "IPY_MODEL_dff17a0451ef4214b84465907285f2a0"
          }
        },
        "7d883d9e687a4d17b04bd5832bdb54db": {
          "model_module": "@jupyter-widgets/controls",
          "model_name": "HTMLModel",
          "model_module_version": "1.5.0",
          "state": {
            "_dom_classes": [],
            "_model_module": "@jupyter-widgets/controls",
            "_model_module_version": "1.5.0",
            "_model_name": "HTMLModel",
            "_view_count": null,
            "_view_module": "@jupyter-widgets/controls",
            "_view_module_version": "1.5.0",
            "_view_name": "HTMLView",
            "description": "",
            "description_tooltip": null,
            "layout": "IPY_MODEL_a3bc6571c250477b9d4ddcb847a89c3b",
            "placeholder": "​",
            "style": "IPY_MODEL_30cbbc4da33e49e9a2ba534292acae05",
            "value": "100%"
          }
        },
        "2735d7377c734f9ba663b0348ddb6277": {
          "model_module": "@jupyter-widgets/controls",
          "model_name": "FloatProgressModel",
          "model_module_version": "1.5.0",
          "state": {
            "_dom_classes": [],
            "_model_module": "@jupyter-widgets/controls",
            "_model_module_version": "1.5.0",
            "_model_name": "FloatProgressModel",
            "_view_count": null,
            "_view_module": "@jupyter-widgets/controls",
            "_view_module_version": "1.5.0",
            "_view_name": "ProgressView",
            "bar_style": "success",
            "description": "",
            "description_tooltip": null,
            "layout": "IPY_MODEL_f07806f7b13d45faa09aca859348a3d4",
            "max": 3,
            "min": 0,
            "orientation": "horizontal",
            "style": "IPY_MODEL_744db82bca234251877cf8ccb42a7883",
            "value": 3
          }
        },
        "66617f8c94ed4869a506af018a53a6fd": {
          "model_module": "@jupyter-widgets/controls",
          "model_name": "HTMLModel",
          "model_module_version": "1.5.0",
          "state": {
            "_dom_classes": [],
            "_model_module": "@jupyter-widgets/controls",
            "_model_module_version": "1.5.0",
            "_model_name": "HTMLModel",
            "_view_count": null,
            "_view_module": "@jupyter-widgets/controls",
            "_view_module_version": "1.5.0",
            "_view_name": "HTMLView",
            "description": "",
            "description_tooltip": null,
            "layout": "IPY_MODEL_1af6b42c05c14d229ae43fddf4d06d30",
            "placeholder": "​",
            "style": "IPY_MODEL_5c62120181cc4985b487ba202d6ff13b",
            "value": " 3/3 [00:00&lt;00:00, 79.26it/s]"
          }
        },
        "dff17a0451ef4214b84465907285f2a0": {
          "model_module": "@jupyter-widgets/base",
          "model_name": "LayoutModel",
          "model_module_version": "1.2.0",
          "state": {
            "_model_module": "@jupyter-widgets/base",
            "_model_module_version": "1.2.0",
            "_model_name": "LayoutModel",
            "_view_count": null,
            "_view_module": "@jupyter-widgets/base",
            "_view_module_version": "1.2.0",
            "_view_name": "LayoutView",
            "align_content": null,
            "align_items": null,
            "align_self": null,
            "border": null,
            "bottom": null,
            "display": null,
            "flex": null,
            "flex_flow": null,
            "grid_area": null,
            "grid_auto_columns": null,
            "grid_auto_flow": null,
            "grid_auto_rows": null,
            "grid_column": null,
            "grid_gap": null,
            "grid_row": null,
            "grid_template_areas": null,
            "grid_template_columns": null,
            "grid_template_rows": null,
            "height": null,
            "justify_content": null,
            "justify_items": null,
            "left": null,
            "margin": null,
            "max_height": null,
            "max_width": null,
            "min_height": null,
            "min_width": null,
            "object_fit": null,
            "object_position": null,
            "order": null,
            "overflow": null,
            "overflow_x": null,
            "overflow_y": null,
            "padding": null,
            "right": null,
            "top": null,
            "visibility": null,
            "width": null
          }
        },
        "a3bc6571c250477b9d4ddcb847a89c3b": {
          "model_module": "@jupyter-widgets/base",
          "model_name": "LayoutModel",
          "model_module_version": "1.2.0",
          "state": {
            "_model_module": "@jupyter-widgets/base",
            "_model_module_version": "1.2.0",
            "_model_name": "LayoutModel",
            "_view_count": null,
            "_view_module": "@jupyter-widgets/base",
            "_view_module_version": "1.2.0",
            "_view_name": "LayoutView",
            "align_content": null,
            "align_items": null,
            "align_self": null,
            "border": null,
            "bottom": null,
            "display": null,
            "flex": null,
            "flex_flow": null,
            "grid_area": null,
            "grid_auto_columns": null,
            "grid_auto_flow": null,
            "grid_auto_rows": null,
            "grid_column": null,
            "grid_gap": null,
            "grid_row": null,
            "grid_template_areas": null,
            "grid_template_columns": null,
            "grid_template_rows": null,
            "height": null,
            "justify_content": null,
            "justify_items": null,
            "left": null,
            "margin": null,
            "max_height": null,
            "max_width": null,
            "min_height": null,
            "min_width": null,
            "object_fit": null,
            "object_position": null,
            "order": null,
            "overflow": null,
            "overflow_x": null,
            "overflow_y": null,
            "padding": null,
            "right": null,
            "top": null,
            "visibility": null,
            "width": null
          }
        },
        "30cbbc4da33e49e9a2ba534292acae05": {
          "model_module": "@jupyter-widgets/controls",
          "model_name": "DescriptionStyleModel",
          "model_module_version": "1.5.0",
          "state": {
            "_model_module": "@jupyter-widgets/controls",
            "_model_module_version": "1.5.0",
            "_model_name": "DescriptionStyleModel",
            "_view_count": null,
            "_view_module": "@jupyter-widgets/base",
            "_view_module_version": "1.2.0",
            "_view_name": "StyleView",
            "description_width": ""
          }
        },
        "f07806f7b13d45faa09aca859348a3d4": {
          "model_module": "@jupyter-widgets/base",
          "model_name": "LayoutModel",
          "model_module_version": "1.2.0",
          "state": {
            "_model_module": "@jupyter-widgets/base",
            "_model_module_version": "1.2.0",
            "_model_name": "LayoutModel",
            "_view_count": null,
            "_view_module": "@jupyter-widgets/base",
            "_view_module_version": "1.2.0",
            "_view_name": "LayoutView",
            "align_content": null,
            "align_items": null,
            "align_self": null,
            "border": null,
            "bottom": null,
            "display": null,
            "flex": null,
            "flex_flow": null,
            "grid_area": null,
            "grid_auto_columns": null,
            "grid_auto_flow": null,
            "grid_auto_rows": null,
            "grid_column": null,
            "grid_gap": null,
            "grid_row": null,
            "grid_template_areas": null,
            "grid_template_columns": null,
            "grid_template_rows": null,
            "height": null,
            "justify_content": null,
            "justify_items": null,
            "left": null,
            "margin": null,
            "max_height": null,
            "max_width": null,
            "min_height": null,
            "min_width": null,
            "object_fit": null,
            "object_position": null,
            "order": null,
            "overflow": null,
            "overflow_x": null,
            "overflow_y": null,
            "padding": null,
            "right": null,
            "top": null,
            "visibility": null,
            "width": null
          }
        },
        "744db82bca234251877cf8ccb42a7883": {
          "model_module": "@jupyter-widgets/controls",
          "model_name": "ProgressStyleModel",
          "model_module_version": "1.5.0",
          "state": {
            "_model_module": "@jupyter-widgets/controls",
            "_model_module_version": "1.5.0",
            "_model_name": "ProgressStyleModel",
            "_view_count": null,
            "_view_module": "@jupyter-widgets/base",
            "_view_module_version": "1.2.0",
            "_view_name": "StyleView",
            "bar_color": null,
            "description_width": ""
          }
        },
        "1af6b42c05c14d229ae43fddf4d06d30": {
          "model_module": "@jupyter-widgets/base",
          "model_name": "LayoutModel",
          "model_module_version": "1.2.0",
          "state": {
            "_model_module": "@jupyter-widgets/base",
            "_model_module_version": "1.2.0",
            "_model_name": "LayoutModel",
            "_view_count": null,
            "_view_module": "@jupyter-widgets/base",
            "_view_module_version": "1.2.0",
            "_view_name": "LayoutView",
            "align_content": null,
            "align_items": null,
            "align_self": null,
            "border": null,
            "bottom": null,
            "display": null,
            "flex": null,
            "flex_flow": null,
            "grid_area": null,
            "grid_auto_columns": null,
            "grid_auto_flow": null,
            "grid_auto_rows": null,
            "grid_column": null,
            "grid_gap": null,
            "grid_row": null,
            "grid_template_areas": null,
            "grid_template_columns": null,
            "grid_template_rows": null,
            "height": null,
            "justify_content": null,
            "justify_items": null,
            "left": null,
            "margin": null,
            "max_height": null,
            "max_width": null,
            "min_height": null,
            "min_width": null,
            "object_fit": null,
            "object_position": null,
            "order": null,
            "overflow": null,
            "overflow_x": null,
            "overflow_y": null,
            "padding": null,
            "right": null,
            "top": null,
            "visibility": null,
            "width": null
          }
        },
        "5c62120181cc4985b487ba202d6ff13b": {
          "model_module": "@jupyter-widgets/controls",
          "model_name": "DescriptionStyleModel",
          "model_module_version": "1.5.0",
          "state": {
            "_model_module": "@jupyter-widgets/controls",
            "_model_module_version": "1.5.0",
            "_model_name": "DescriptionStyleModel",
            "_view_count": null,
            "_view_module": "@jupyter-widgets/base",
            "_view_module_version": "1.2.0",
            "_view_name": "StyleView",
            "description_width": ""
          }
        }
      }
    }
  },
  "cells": [
    {
      "cell_type": "markdown",
      "source": [
        "## Imports"
      ],
      "metadata": {
        "id": "gn29odEJfpwt"
      }
    },
    {
      "cell_type": "code",
      "execution_count": null,
      "metadata": {
        "id": "WhegJBIOUm4j"
      },
      "outputs": [],
      "source": [
        "!pip install transformers\n",
        "!pip install datasets\n",
        "!pip install evaluate"
      ]
    },
    {
      "cell_type": "code",
      "source": [
        "import pandas as pd\n",
        "import numpy as np\n",
        "import evaluate\n",
        "from transformers import AutoTokenizer, AutoModelForSequenceClassification, TrainingArguments, Trainer, EvalPrediction\n",
        "from datasets import Dataset, load_dataset, Features, ClassLabel, Value\n",
        "from sklearn.metrics import accuracy_score, precision_recall_fscore_support, classification_report\n",
        "from matplotlib import pyplot as plt"
      ],
      "metadata": {
        "id": "EeQk84mMUt9f"
      },
      "execution_count": 2,
      "outputs": []
    },
    {
      "cell_type": "markdown",
      "source": [
        "## Define the paths and experiment parameters"
      ],
      "metadata": {
        "id": "jhQpyW8Jfs-P"
      }
    },
    {
      "cell_type": "code",
      "source": [
        "project_path = \"/content/drive/MyDrive/VA_Project\"\n",
        "data_path = f\"{project_path}/data/augmented_dataset\"\n",
        "model_save_path = f\"{project_path}/models/roberta_augmented_data/saved_models\"\n",
        "log_directory = f\"{project_path}/models/roberta_augmented_data/logs\"\n",
        "plots_save_path = f\"{project_path}/models/roberta_augmented_data/plots\""
      ],
      "metadata": {
        "id": "VKM-G2FaXiOK"
      },
      "execution_count": 3,
      "outputs": []
    },
    {
      "cell_type": "code",
      "source": [
        "# Parameters\n",
        "model_name = 'roberta-large'\n",
        "learning_rate = 4.00e-05\n",
        "warmup_proportion = 0.1\n",
        "train_batch_size = 32\n",
        "num_train_epochs = 5\n",
        "gradient_accumulation_steps = 1\n",
        "num_labels = 151"
      ],
      "metadata": {
        "id": "UYWn6i10aaJp"
      },
      "execution_count": 4,
      "outputs": []
    },
    {
      "cell_type": "markdown",
      "source": [
        "## Load the train, val and test datasets into a Dataset object"
      ],
      "metadata": {
        "id": "b8MpjbFQc9tH"
      }
    },
    {
      "cell_type": "code",
      "source": [
        "# Load datasets\n",
        "data_files = {\"train\": f\"{data_path}/augmented_train_data.csv\", \"validation\": f\"{data_path}/original_val_data.csv\", \"test\": f\"{data_path}/original_test_data.csv\"}\n",
        "class_names = sorted(pd.read_csv(f\"{data_path}/augmented_train_data.csv\")[\"label\"].unique())\n",
        "dataset_features = Features({'query': Value('string'), 'label': ClassLabel(num_classes=151, names=class_names)})\n",
        "\n",
        "dataset = load_dataset(\"csv\", data_files=data_files, skiprows=1, column_names=['query', 'label'], features=dataset_features)"
      ],
      "metadata": {
        "id": "lve9bQ4BX9Xk",
        "colab": {
          "base_uri": "https://localhost:8080/",
          "height": 86,
          "referenced_widgets": [
            "6accdf12e0a34fa59afff574006c3307",
            "7d883d9e687a4d17b04bd5832bdb54db",
            "2735d7377c734f9ba663b0348ddb6277",
            "66617f8c94ed4869a506af018a53a6fd",
            "dff17a0451ef4214b84465907285f2a0",
            "a3bc6571c250477b9d4ddcb847a89c3b",
            "30cbbc4da33e49e9a2ba534292acae05",
            "f07806f7b13d45faa09aca859348a3d4",
            "744db82bca234251877cf8ccb42a7883",
            "1af6b42c05c14d229ae43fddf4d06d30",
            "5c62120181cc4985b487ba202d6ff13b"
          ]
        },
        "outputId": "2ce336db-39c6-42e6-966b-d300ecc5425d"
      },
      "execution_count": 5,
      "outputs": [
        {
          "output_type": "stream",
          "name": "stderr",
          "text": [
            "WARNING:datasets.builder:Found cached dataset csv (/root/.cache/huggingface/datasets/csv/default-ce7aa1cde87047f2/0.0.0/6954658bab30a358235fa864b05cf819af0e179325c740e4bc853bcc7ec513e1)\n"
          ]
        },
        {
          "output_type": "display_data",
          "data": {
            "text/plain": [
              "  0%|          | 0/3 [00:00<?, ?it/s]"
            ],
            "application/vnd.jupyter.widget-view+json": {
              "version_major": 2,
              "version_minor": 0,
              "model_id": "6accdf12e0a34fa59afff574006c3307"
            }
          },
          "metadata": {}
        }
      ]
    },
    {
      "cell_type": "code",
      "source": [
        "dataset"
      ],
      "metadata": {
        "id": "XlAHfr_8iNnC",
        "colab": {
          "base_uri": "https://localhost:8080/"
        },
        "outputId": "9c286b17-1269-46d9-ea86-951691fabfc6"
      },
      "execution_count": 6,
      "outputs": [
        {
          "output_type": "execute_result",
          "data": {
            "text/plain": [
              "DatasetDict({\n",
              "    train: Dataset({\n",
              "        features: ['query', 'label'],\n",
              "        num_rows: 30200\n",
              "    })\n",
              "    validation: Dataset({\n",
              "        features: ['query', 'label'],\n",
              "        num_rows: 3100\n",
              "    })\n",
              "    test: Dataset({\n",
              "        features: ['query', 'label'],\n",
              "        num_rows: 5500\n",
              "    })\n",
              "})"
            ]
          },
          "metadata": {},
          "execution_count": 6
        }
      ]
    },
    {
      "cell_type": "code",
      "source": [
        "dataset['train'][0]"
      ],
      "metadata": {
        "id": "7X2NLIWUa3_J",
        "colab": {
          "base_uri": "https://localhost:8080/"
        },
        "outputId": "f9fd4e1d-6e02-4dcc-b49b-4af0521a8623"
      },
      "execution_count": 7,
      "outputs": [
        {
          "output_type": "execute_result",
          "data": {
            "text/plain": [
              "{'query': 'can you check my reservations for mortons under david winters',\n",
              " 'label': 26}"
            ]
          },
          "metadata": {},
          "execution_count": 7
        }
      ]
    },
    {
      "cell_type": "code",
      "source": [
        "dataset['train'].features"
      ],
      "metadata": {
        "id": "UO4JFvnTfXKt",
        "colab": {
          "base_uri": "https://localhost:8080/"
        },
        "outputId": "85db686c-2dc4-4e0e-d316-aa73b3916c21"
      },
      "execution_count": 8,
      "outputs": [
        {
          "output_type": "execute_result",
          "data": {
            "text/plain": [
              "{'query': Value(dtype='string', id=None),\n",
              " 'label': ClassLabel(names=['accept_reservations', 'account_blocked', 'alarm', 'application_status', 'apr', 'are_you_a_bot', 'balance', 'bill_balance', 'bill_due', 'book_flight', 'book_hotel', 'calculator', 'calendar', 'calendar_update', 'calories', 'cancel', 'cancel_reservation', 'car_rental', 'card_declined', 'carry_on', 'change_accent', 'change_ai_name', 'change_language', 'change_speed', 'change_user_name', 'change_volume', 'confirm_reservation', 'cook_time', 'credit_limit', 'credit_limit_change', 'credit_score', 'current_location', 'damaged_card', 'date', 'definition', 'direct_deposit', 'directions', 'distance', 'do_you_have_pets', 'exchange_rate', 'expiration_date', 'find_phone', 'flight_status', 'flip_coin', 'food_last', 'freeze_account', 'fun_fact', 'gas', 'gas_type', 'goodbye', 'greeting', 'how_busy', 'how_old_are_you', 'improve_credit_score', 'income', 'ingredient_substitution', 'ingredients_list', 'insurance', 'insurance_change', 'interest_rate', 'international_fees', 'international_visa', 'jump_start', 'last_maintenance', 'lost_luggage', 'make_call', 'maybe', 'meal_suggestion', 'meaning_of_life', 'measurement_conversion', 'meeting_schedule', 'min_payment', 'mpg', 'new_card', 'next_holiday', 'next_song', 'no', 'nutrition_info', 'oil_change_how', 'oil_change_when', 'oos', 'order', 'order_checks', 'order_status', 'pay_bill', 'payday', 'pin_change', 'play_music', 'plug_type', 'pto_balance', 'pto_request', 'pto_request_status', 'pto_used', 'recipe', 'redeem_rewards', 'reminder', 'reminder_update', 'repeat', 'replacement_card_duration', 'report_fraud', 'report_lost_card', 'reset_settings', 'restaurant_reservation', 'restaurant_reviews', 'restaurant_suggestion', 'rewards_balance', 'roll_dice', 'rollover_401k', 'routing', 'schedule_maintenance', 'schedule_meeting', 'share_location', 'shopping_list', 'shopping_list_update', 'smart_home', 'spelling', 'spending_history', 'sync_device', 'taxes', 'tell_joke', 'text', 'thank_you', 'time', 'timer', 'timezone', 'tire_change', 'tire_pressure', 'todo_list', 'todo_list_update', 'traffic', 'transactions', 'transfer', 'translate', 'travel_alert', 'travel_notification', 'travel_suggestion', 'uber', 'update_playlist', 'user_name', 'vaccines', 'w2', 'weather', 'what_are_your_hobbies', 'what_can_i_ask_you', 'what_is_your_name', 'what_song', 'where_are_you_from', 'whisper_mode', 'who_do_you_work_for', 'who_made_you', 'yes'], id=None)}"
            ]
          },
          "metadata": {},
          "execution_count": 8
        }
      ]
    },
    {
      "cell_type": "markdown",
      "source": [
        "## Tokenize the dataset"
      ],
      "metadata": {
        "id": "4WLHI74ldFgy"
      }
    },
    {
      "cell_type": "code",
      "source": [
        "def tokenize_function(examples):\n",
        "    return tokenizer(examples[\"query\"], padding=True, truncation=True, return_tensors=\"pt\")\n",
        "\n",
        "tokenizer = AutoTokenizer.from_pretrained(model_name)\n",
        "\n",
        "encoded_dataset = dataset.map(tokenize_function, batched=True)"
      ],
      "metadata": {
        "id": "UbEaPyGvZwNk"
      },
      "execution_count": null,
      "outputs": []
    },
    {
      "cell_type": "code",
      "source": [
        "example = encoded_dataset['train'][0]\n",
        "print(example.keys())\n",
        "print(example)"
      ],
      "metadata": {
        "id": "QHNwxHT2b6I8",
        "colab": {
          "base_uri": "https://localhost:8080/"
        },
        "outputId": "f627451d-897a-4e0a-935e-959ae82dbde5"
      },
      "execution_count": 10,
      "outputs": [
        {
          "output_type": "stream",
          "name": "stdout",
          "text": [
            "dict_keys(['query', 'label', 'input_ids', 'attention_mask'])\n",
            "{'query': 'can you check my reservations for mortons under david winters', 'label': 26, 'input_ids': [0, 7424, 47, 1649, 127, 13747, 13, 18631, 1790, 223, 44009, 31000, 2, 1, 1, 1, 1, 1, 1, 1, 1, 1, 1, 1, 1, 1, 1, 1, 1, 1, 1], 'attention_mask': [1, 1, 1, 1, 1, 1, 1, 1, 1, 1, 1, 1, 1, 0, 0, 0, 0, 0, 0, 0, 0, 0, 0, 0, 0, 0, 0, 0, 0, 0, 0]}\n"
          ]
        }
      ]
    },
    {
      "cell_type": "code",
      "source": [
        "tokenizer.decode(example['input_ids'])"
      ],
      "metadata": {
        "id": "TFconIDTcpJ9",
        "colab": {
          "base_uri": "https://localhost:8080/",
          "height": 36
        },
        "outputId": "f692b582-ce4c-42e0-edd1-d420d600baee"
      },
      "execution_count": 11,
      "outputs": [
        {
          "output_type": "execute_result",
          "data": {
            "text/plain": [
              "'<s>can you check my reservations for mortons under david winters</s><pad><pad><pad><pad><pad><pad><pad><pad><pad><pad><pad><pad><pad><pad><pad><pad><pad><pad>'"
            ],
            "application/vnd.google.colaboratory.intrinsic+json": {
              "type": "string"
            }
          },
          "metadata": {},
          "execution_count": 11
        }
      ]
    },
    {
      "cell_type": "markdown",
      "source": [
        "## Set up the model and Training Arguments"
      ],
      "metadata": {
        "id": "OFewBtYddJSW"
      }
    },
    {
      "cell_type": "code",
      "source": [
        "model = AutoModelForSequenceClassification.from_pretrained(model_name, num_labels=num_labels)"
      ],
      "metadata": {
        "id": "UIIXlbHucpD8",
        "colab": {
          "base_uri": "https://localhost:8080/"
        },
        "outputId": "74161982-ba21-443b-d635-09c4fc3a15c0"
      },
      "execution_count": 12,
      "outputs": [
        {
          "output_type": "stream",
          "name": "stderr",
          "text": [
            "Some weights of the model checkpoint at roberta-large were not used when initializing RobertaForSequenceClassification: ['lm_head.dense.bias', 'roberta.pooler.dense.bias', 'lm_head.decoder.weight', 'lm_head.layer_norm.weight', 'lm_head.dense.weight', 'roberta.pooler.dense.weight', 'lm_head.layer_norm.bias', 'lm_head.bias']\n",
            "- This IS expected if you are initializing RobertaForSequenceClassification from the checkpoint of a model trained on another task or with another architecture (e.g. initializing a BertForSequenceClassification model from a BertForPreTraining model).\n",
            "- This IS NOT expected if you are initializing RobertaForSequenceClassification from the checkpoint of a model that you expect to be exactly identical (initializing a BertForSequenceClassification model from a BertForSequenceClassification model).\n",
            "Some weights of RobertaForSequenceClassification were not initialized from the model checkpoint at roberta-large and are newly initialized: ['classifier.dense.bias', 'classifier.out_proj.weight', 'classifier.dense.weight', 'classifier.out_proj.bias']\n",
            "You should probably TRAIN this model on a down-stream task to be able to use it for predictions and inference.\n"
          ]
        }
      ]
    },
    {
      "cell_type": "code",
      "source": [
        "args = TrainingArguments(\n",
        "    output_dir = model_save_path,\n",
        "    logging_dir = log_directory,\n",
        "    logging_strategy='epoch',\n",
        "    evaluation_strategy = \"epoch\",\n",
        "    save_strategy = \"no\",\n",
        "    learning_rate=learning_rate,\n",
        "    per_device_train_batch_size=train_batch_size,\n",
        "    per_device_eval_batch_size=train_batch_size,\n",
        "    gradient_accumulation_steps=gradient_accumulation_steps,\n",
        "    num_train_epochs=num_train_epochs,\n",
        ")"
      ],
      "metadata": {
        "id": "TgH7k_d6d7uV"
      },
      "execution_count": 13,
      "outputs": []
    },
    {
      "cell_type": "markdown",
      "source": [
        "## Define the compute metrics function to evaluate the model with the desired metrics"
      ],
      "metadata": {
        "id": "N5GZghCCcCR2"
      }
    },
    {
      "cell_type": "code",
      "source": [
        "def multi_label_metrics(predictions, labels):\n",
        "    y_true = labels\n",
        "    y_pred = predictions.argmax(axis=1)\n",
        "\n",
        "    precision, recall, f1, _ = precision_recall_fscore_support(y_true, y_pred, average=\"weighted\")\n",
        "    accuracy = accuracy_score(y_true, y_pred)\n",
        "    \n",
        "    metrics = {'accuracy': accuracy,\n",
        "               'precision': precision,\n",
        "               'recall': recall,\n",
        "               'f1': f1\n",
        "               }\n",
        "\n",
        "    return metrics\n",
        "\n",
        "def compute_metrics(p: EvalPrediction):\n",
        "    preds = p.predictions[0] if isinstance(p.predictions, tuple) else p.predictions\n",
        "    result = multi_label_metrics(predictions=preds, labels=p.label_ids)\n",
        "\n",
        "    return result"
      ],
      "metadata": {
        "id": "PEbpRPR5iUKz"
      },
      "execution_count": 14,
      "outputs": []
    },
    {
      "cell_type": "markdown",
      "source": [
        "## Train the model"
      ],
      "metadata": {
        "id": "l-5RGPzQce5b"
      }
    },
    {
      "cell_type": "code",
      "source": [
        "trainer = Trainer(\n",
        "    model,\n",
        "    args,\n",
        "    train_dataset=encoded_dataset[\"train\"],\n",
        "    eval_dataset=encoded_dataset[\"validation\"],\n",
        "    tokenizer=tokenizer,\n",
        "    compute_metrics=compute_metrics\n",
        ")"
      ],
      "metadata": {
        "id": "MFRG_xURcKh_"
      },
      "execution_count": 15,
      "outputs": []
    },
    {
      "cell_type": "code",
      "source": [
        "trainer.train()"
      ],
      "metadata": {
        "id": "gmxVSBk3cUvR",
        "colab": {
          "base_uri": "https://localhost:8080/",
          "height": 339
        },
        "outputId": "ca8721cd-aade-478e-ccea-87f8d912cd24"
      },
      "execution_count": 16,
      "outputs": [
        {
          "output_type": "stream",
          "name": "stderr",
          "text": [
            "/usr/local/lib/python3.9/dist-packages/transformers/optimization.py:391: FutureWarning: This implementation of AdamW is deprecated and will be removed in a future version. Use the PyTorch implementation torch.optim.AdamW instead, or set `no_deprecation_warning=True` to disable this warning\n",
            "  warnings.warn(\n",
            "You're using a RobertaTokenizerFast tokenizer. Please note that with a fast tokenizer, using the `__call__` method is faster than using a method to encode the text followed by a call to the `pad` method to get a padded encoding.\n"
          ]
        },
        {
          "output_type": "display_data",
          "data": {
            "text/plain": [
              "<IPython.core.display.HTML object>"
            ],
            "text/html": [
              "\n",
              "    <div>\n",
              "      \n",
              "      <progress value='4720' max='4720' style='width:300px; height:20px; vertical-align: middle;'></progress>\n",
              "      [4720/4720 59:45, Epoch 5/5]\n",
              "    </div>\n",
              "    <table border=\"1\" class=\"dataframe\">\n",
              "  <thead>\n",
              " <tr style=\"text-align: left;\">\n",
              "      <th>Epoch</th>\n",
              "      <th>Training Loss</th>\n",
              "      <th>Validation Loss</th>\n",
              "      <th>Accuracy</th>\n",
              "      <th>Precision</th>\n",
              "      <th>Recall</th>\n",
              "      <th>F1</th>\n",
              "    </tr>\n",
              "  </thead>\n",
              "  <tbody>\n",
              "    <tr>\n",
              "      <td>1</td>\n",
              "      <td>1.006200</td>\n",
              "      <td>0.249344</td>\n",
              "      <td>0.953548</td>\n",
              "      <td>0.955628</td>\n",
              "      <td>0.953548</td>\n",
              "      <td>0.952038</td>\n",
              "    </tr>\n",
              "    <tr>\n",
              "      <td>2</td>\n",
              "      <td>0.102800</td>\n",
              "      <td>0.204775</td>\n",
              "      <td>0.962581</td>\n",
              "      <td>0.965107</td>\n",
              "      <td>0.962581</td>\n",
              "      <td>0.961174</td>\n",
              "    </tr>\n",
              "    <tr>\n",
              "      <td>3</td>\n",
              "      <td>0.051700</td>\n",
              "      <td>0.210052</td>\n",
              "      <td>0.966129</td>\n",
              "      <td>0.968725</td>\n",
              "      <td>0.966129</td>\n",
              "      <td>0.965392</td>\n",
              "    </tr>\n",
              "    <tr>\n",
              "      <td>4</td>\n",
              "      <td>0.030600</td>\n",
              "      <td>0.201167</td>\n",
              "      <td>0.971290</td>\n",
              "      <td>0.972883</td>\n",
              "      <td>0.971290</td>\n",
              "      <td>0.970688</td>\n",
              "    </tr>\n",
              "    <tr>\n",
              "      <td>5</td>\n",
              "      <td>0.017700</td>\n",
              "      <td>0.197308</td>\n",
              "      <td>0.970000</td>\n",
              "      <td>0.971479</td>\n",
              "      <td>0.970000</td>\n",
              "      <td>0.969375</td>\n",
              "    </tr>\n",
              "  </tbody>\n",
              "</table><p>"
            ]
          },
          "metadata": {}
        },
        {
          "output_type": "execute_result",
          "data": {
            "text/plain": [
              "TrainOutput(global_step=4720, training_loss=0.24181082895246603, metrics={'train_runtime': 3587.0749, 'train_samples_per_second': 42.096, 'train_steps_per_second': 1.316, 'total_flos': 1.0691734948124112e+16, 'train_loss': 0.24181082895246603, 'epoch': 5.0})"
            ]
          },
          "metadata": {},
          "execution_count": 16
        }
      ]
    },
    {
      "cell_type": "markdown",
      "source": [
        "## Evaluate the model on the validation set"
      ],
      "metadata": {
        "id": "9DLd8S3Ccj9T"
      }
    },
    {
      "cell_type": "code",
      "source": [
        "trainer.evaluate()"
      ],
      "metadata": {
        "id": "NTS7_3y2cjEi",
        "colab": {
          "base_uri": "https://localhost:8080/",
          "height": 193
        },
        "outputId": "8d825de6-6fcc-477e-c3a9-1b22aa0dbd4a"
      },
      "execution_count": 17,
      "outputs": [
        {
          "output_type": "display_data",
          "data": {
            "text/plain": [
              "<IPython.core.display.HTML object>"
            ],
            "text/html": [
              "\n",
              "    <div>\n",
              "      \n",
              "      <progress value='97' max='97' style='width:300px; height:20px; vertical-align: middle;'></progress>\n",
              "      [97/97 00:18]\n",
              "    </div>\n",
              "    "
            ]
          },
          "metadata": {}
        },
        {
          "output_type": "execute_result",
          "data": {
            "text/plain": [
              "{'eval_loss': 0.19730795919895172,\n",
              " 'eval_accuracy': 0.97,\n",
              " 'eval_precision': 0.971478964603685,\n",
              " 'eval_recall': 0.97,\n",
              " 'eval_f1': 0.9693751636718027,\n",
              " 'eval_runtime': 18.3952,\n",
              " 'eval_samples_per_second': 168.522,\n",
              " 'eval_steps_per_second': 5.273,\n",
              " 'epoch': 5.0}"
            ]
          },
          "metadata": {},
          "execution_count": 17
        }
      ]
    },
    {
      "cell_type": "markdown",
      "source": [
        "## Evaluate the model on the test set"
      ],
      "metadata": {
        "id": "sNTRrR0ndDmz"
      }
    },
    {
      "cell_type": "code",
      "source": [
        "test_eval = trainer.predict(encoded_dataset[\"test\"])"
      ],
      "metadata": {
        "id": "BHUlmGHhdM4d",
        "colab": {
          "base_uri": "https://localhost:8080/",
          "height": 17
        },
        "outputId": "44529208-eb68-4e0e-9dbe-8ee837927e5e"
      },
      "execution_count": 18,
      "outputs": [
        {
          "output_type": "display_data",
          "data": {
            "text/plain": [
              "<IPython.core.display.HTML object>"
            ],
            "text/html": []
          },
          "metadata": {}
        }
      ]
    },
    {
      "cell_type": "code",
      "source": [
        "test_preds = test_eval.predictions.argmax(-1)\n",
        "test_labels = test_eval.label_ids\n",
        "\n",
        "report = classification_report(test_labels, test_preds, target_names=class_names)\n",
        "\n",
        "print(\"Classification report:\")\n",
        "print(report)"
      ],
      "metadata": {
        "id": "Mt0O4-hhvIXW",
        "colab": {
          "base_uri": "https://localhost:8080/"
        },
        "outputId": "cd333529-66cd-4548-9f93-53664b184f9e"
      },
      "execution_count": 19,
      "outputs": [
        {
          "output_type": "stream",
          "name": "stdout",
          "text": [
            "Classification report:\n",
            "                           precision    recall  f1-score   support\n",
            "\n",
            "      accept_reservations       0.94      1.00      0.97        30\n",
            "          account_blocked       0.85      0.93      0.89        30\n",
            "                    alarm       0.97      1.00      0.98        30\n",
            "       application_status       0.91      1.00      0.95        30\n",
            "                      apr       0.88      0.77      0.82        30\n",
            "            are_you_a_bot       0.91      1.00      0.95        30\n",
            "                  balance       0.78      0.97      0.87        30\n",
            "             bill_balance       0.93      0.93      0.93        30\n",
            "                 bill_due       0.88      0.93      0.90        30\n",
            "              book_flight       0.96      0.87      0.91        30\n",
            "               book_hotel       0.88      1.00      0.94        30\n",
            "               calculator       0.80      0.93      0.86        30\n",
            "                 calendar       0.93      0.87      0.90        30\n",
            "          calendar_update       0.93      0.90      0.92        30\n",
            "                 calories       0.91      1.00      0.95        30\n",
            "                   cancel       0.81      0.97      0.88        30\n",
            "       cancel_reservation       0.88      1.00      0.94        30\n",
            "               car_rental       0.76      0.97      0.85        30\n",
            "            card_declined       1.00      0.97      0.98        30\n",
            "                 carry_on       1.00      0.93      0.97        30\n",
            "            change_accent       1.00      1.00      1.00        30\n",
            "           change_ai_name       0.88      1.00      0.94        30\n",
            "          change_language       0.91      1.00      0.95        30\n",
            "             change_speed       0.81      0.97      0.88        30\n",
            "         change_user_name       0.91      1.00      0.95        30\n",
            "            change_volume       1.00      0.83      0.91        30\n",
            "      confirm_reservation       1.00      1.00      1.00        30\n",
            "                cook_time       0.97      1.00      0.98        30\n",
            "             credit_limit       0.94      0.97      0.95        30\n",
            "      credit_limit_change       0.97      1.00      0.98        30\n",
            "             credit_score       0.97      0.97      0.97        30\n",
            "         current_location       0.88      1.00      0.94        30\n",
            "             damaged_card       0.97      1.00      0.98        30\n",
            "                     date       1.00      0.97      0.98        30\n",
            "               definition       0.91      1.00      0.95        30\n",
            "           direct_deposit       0.81      1.00      0.90        30\n",
            "               directions       0.65      1.00      0.79        30\n",
            "                 distance       0.83      1.00      0.91        30\n",
            "         do_you_have_pets       0.79      1.00      0.88        30\n",
            "            exchange_rate       0.97      0.97      0.97        30\n",
            "          expiration_date       0.91      0.97      0.94        30\n",
            "               find_phone       0.94      1.00      0.97        30\n",
            "            flight_status       1.00      1.00      1.00        30\n",
            "                flip_coin       1.00      1.00      1.00        30\n",
            "                food_last       0.94      0.97      0.95        30\n",
            "           freeze_account       0.88      1.00      0.94        30\n",
            "                 fun_fact       0.88      1.00      0.94        30\n",
            "                      gas       0.81      1.00      0.90        30\n",
            "                 gas_type       0.97      0.97      0.97        30\n",
            "                  goodbye       0.97      1.00      0.98        30\n",
            "                 greeting       0.86      1.00      0.92        30\n",
            "                 how_busy       0.91      0.97      0.94        30\n",
            "          how_old_are_you       0.94      1.00      0.97        30\n",
            "     improve_credit_score       0.91      0.97      0.94        30\n",
            "                   income       0.93      0.93      0.93        30\n",
            "  ingredient_substitution       1.00      1.00      1.00        30\n",
            "         ingredients_list       0.85      0.93      0.89        30\n",
            "                insurance       0.86      1.00      0.92        30\n",
            "         insurance_change       0.83      1.00      0.91        30\n",
            "            interest_rate       0.71      1.00      0.83        30\n",
            "       international_fees       0.94      1.00      0.97        30\n",
            "       international_visa       0.97      1.00      0.98        30\n",
            "               jump_start       0.86      1.00      0.92        30\n",
            "         last_maintenance       0.86      1.00      0.92        30\n",
            "             lost_luggage       1.00      1.00      1.00        30\n",
            "                make_call       0.61      1.00      0.76        30\n",
            "                    maybe       1.00      1.00      1.00        30\n",
            "          meal_suggestion       0.86      0.83      0.85        30\n",
            "          meaning_of_life       1.00      0.97      0.98        30\n",
            "   measurement_conversion       0.94      0.97      0.95        30\n",
            "         meeting_schedule       0.85      0.97      0.91        30\n",
            "              min_payment       0.97      0.97      0.97        30\n",
            "                      mpg       0.97      1.00      0.98        30\n",
            "                 new_card       0.83      1.00      0.91        30\n",
            "             next_holiday       1.00      1.00      1.00        30\n",
            "                next_song       0.94      1.00      0.97        30\n",
            "                       no       0.94      1.00      0.97        30\n",
            "           nutrition_info       0.77      1.00      0.87        30\n",
            "           oil_change_how       0.76      0.93      0.84        30\n",
            "          oil_change_when       0.86      1.00      0.92        30\n",
            "                      oos       0.98      0.57      0.72      1000\n",
            "                    order       0.62      0.93      0.75        30\n",
            "             order_checks       1.00      1.00      1.00        30\n",
            "             order_status       0.86      1.00      0.92        30\n",
            "                 pay_bill       0.96      0.87      0.91        30\n",
            "                   payday       0.94      1.00      0.97        30\n",
            "               pin_change       1.00      0.80      0.89        30\n",
            "               play_music       0.83      0.97      0.89        30\n",
            "                plug_type       0.88      0.97      0.92        30\n",
            "              pto_balance       0.91      0.97      0.94        30\n",
            "              pto_request       0.97      1.00      0.98        30\n",
            "       pto_request_status       1.00      0.97      0.98        30\n",
            "                 pto_used       0.74      0.97      0.84        30\n",
            "                   recipe       0.81      0.97      0.88        30\n",
            "           redeem_rewards       1.00      0.90      0.95        30\n",
            "                 reminder       0.97      0.97      0.97        30\n",
            "          reminder_update       1.00      0.90      0.95        30\n",
            "                   repeat       0.86      1.00      0.92        30\n",
            "replacement_card_duration       0.90      0.90      0.90        30\n",
            "             report_fraud       0.90      0.93      0.92        30\n",
            "         report_lost_card       0.88      0.93      0.90        30\n",
            "           reset_settings       1.00      1.00      1.00        30\n",
            "   restaurant_reservation       0.93      0.93      0.93        30\n",
            "       restaurant_reviews       0.77      0.90      0.83        30\n",
            "    restaurant_suggestion       0.97      1.00      0.98        30\n",
            "          rewards_balance       0.91      1.00      0.95        30\n",
            "                roll_dice       0.97      1.00      0.98        30\n",
            "            rollover_401k       1.00      1.00      1.00        30\n",
            "                  routing       0.86      1.00      0.92        30\n",
            "     schedule_maintenance       0.65      0.87      0.74        30\n",
            "         schedule_meeting       0.94      1.00      0.97        30\n",
            "           share_location       0.80      0.93      0.86        30\n",
            "            shopping_list       0.85      0.93      0.89        30\n",
            "     shopping_list_update       0.94      1.00      0.97        30\n",
            "               smart_home       0.71      1.00      0.83        30\n",
            "                 spelling       0.91      0.97      0.94        30\n",
            "         spending_history       0.85      0.97      0.91        30\n",
            "              sync_device       0.75      1.00      0.86        30\n",
            "                    taxes       0.91      1.00      0.95        30\n",
            "                tell_joke       1.00      1.00      1.00        30\n",
            "                     text       0.69      0.90      0.78        30\n",
            "                thank_you       0.94      1.00      0.97        30\n",
            "                     time       0.94      1.00      0.97        30\n",
            "                    timer       0.88      0.97      0.92        30\n",
            "                 timezone       1.00      0.97      0.98        30\n",
            "              tire_change       0.88      1.00      0.94        30\n",
            "            tire_pressure       1.00      1.00      1.00        30\n",
            "                todo_list       0.88      1.00      0.94        30\n",
            "         todo_list_update       0.94      1.00      0.97        30\n",
            "                  traffic       0.81      1.00      0.90        30\n",
            "             transactions       1.00      0.87      0.93        30\n",
            "                 transfer       1.00      0.97      0.98        30\n",
            "                translate       0.79      1.00      0.88        30\n",
            "             travel_alert       0.91      0.97      0.94        30\n",
            "      travel_notification       0.88      1.00      0.94        30\n",
            "        travel_suggestion       0.75      1.00      0.86        30\n",
            "                     uber       0.97      1.00      0.98        30\n",
            "          update_playlist       0.97      1.00      0.98        30\n",
            "                user_name       0.97      0.97      0.97        30\n",
            "                 vaccines       0.70      1.00      0.82        30\n",
            "                       w2       0.94      0.97      0.95        30\n",
            "                  weather       0.70      1.00      0.82        30\n",
            "    what_are_your_hobbies       0.86      1.00      0.92        30\n",
            "       what_can_i_ask_you       0.91      0.97      0.94        30\n",
            "        what_is_your_name       0.93      0.90      0.92        30\n",
            "                what_song       0.94      1.00      0.97        30\n",
            "       where_are_you_from       0.93      0.93      0.93        30\n",
            "             whisper_mode       0.91      1.00      0.95        30\n",
            "      who_do_you_work_for       0.83      1.00      0.91        30\n",
            "             who_made_you       0.94      1.00      0.97        30\n",
            "                      yes       1.00      0.83      0.91        30\n",
            "\n",
            "                 accuracy                           0.90      5500\n",
            "                macro avg       0.90      0.97      0.93      5500\n",
            "             weighted avg       0.91      0.90      0.89      5500\n",
            "\n"
          ]
        }
      ]
    },
    {
      "cell_type": "code",
      "source": [
        "trainer.save_model(model_save_path)"
      ],
      "metadata": {
        "id": "n7T59VOPCfVB"
      },
      "execution_count": 20,
      "outputs": []
    }
  ]
}