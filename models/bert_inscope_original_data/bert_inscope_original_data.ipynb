{
  "nbformat": 4,
  "nbformat_minor": 0,
  "metadata": {
    "colab": {
      "provenance": [],
      "gpuType": "T4"
    },
    "kernelspec": {
      "name": "python3",
      "display_name": "Python 3"
    },
    "language_info": {
      "name": "python"
    },
    "accelerator": "GPU",
    "gpuClass": "standard",
    "widgets": {
      "application/vnd.jupyter.widget-state+json": {
        "b25a5e55fa4b492ca40ef708d236e45a": {
          "model_module": "@jupyter-widgets/controls",
          "model_name": "HBoxModel",
          "model_module_version": "1.5.0",
          "state": {
            "_dom_classes": [],
            "_model_module": "@jupyter-widgets/controls",
            "_model_module_version": "1.5.0",
            "_model_name": "HBoxModel",
            "_view_count": null,
            "_view_module": "@jupyter-widgets/controls",
            "_view_module_version": "1.5.0",
            "_view_name": "HBoxView",
            "box_style": "",
            "children": [
              "IPY_MODEL_dc5c4cf81820478ba496dfc5a46effdc",
              "IPY_MODEL_e7a82abe2ae14ed3a55c4749c9aef6e3",
              "IPY_MODEL_6601960433fc4e7799250dd2a876faa8"
            ],
            "layout": "IPY_MODEL_2c19cb0cf32645e28a106a4491836829"
          }
        },
        "dc5c4cf81820478ba496dfc5a46effdc": {
          "model_module": "@jupyter-widgets/controls",
          "model_name": "HTMLModel",
          "model_module_version": "1.5.0",
          "state": {
            "_dom_classes": [],
            "_model_module": "@jupyter-widgets/controls",
            "_model_module_version": "1.5.0",
            "_model_name": "HTMLModel",
            "_view_count": null,
            "_view_module": "@jupyter-widgets/controls",
            "_view_module_version": "1.5.0",
            "_view_name": "HTMLView",
            "description": "",
            "description_tooltip": null,
            "layout": "IPY_MODEL_b8ecf938e227435188c275991f08c5f0",
            "placeholder": "​",
            "style": "IPY_MODEL_3b15452a2c874d15a94a4d7d54f637a4",
            "value": "Downloading pytorch_model.bin: 100%"
          }
        },
        "e7a82abe2ae14ed3a55c4749c9aef6e3": {
          "model_module": "@jupyter-widgets/controls",
          "model_name": "FloatProgressModel",
          "model_module_version": "1.5.0",
          "state": {
            "_dom_classes": [],
            "_model_module": "@jupyter-widgets/controls",
            "_model_module_version": "1.5.0",
            "_model_name": "FloatProgressModel",
            "_view_count": null,
            "_view_module": "@jupyter-widgets/controls",
            "_view_module_version": "1.5.0",
            "_view_name": "ProgressView",
            "bar_style": "success",
            "description": "",
            "description_tooltip": null,
            "layout": "IPY_MODEL_dbf999cab44a42419a270c8eb847224f",
            "max": 1344997306,
            "min": 0,
            "orientation": "horizontal",
            "style": "IPY_MODEL_e6d8b3aef0584fb1840858ef73f1c414",
            "value": 1344997306
          }
        },
        "6601960433fc4e7799250dd2a876faa8": {
          "model_module": "@jupyter-widgets/controls",
          "model_name": "HTMLModel",
          "model_module_version": "1.5.0",
          "state": {
            "_dom_classes": [],
            "_model_module": "@jupyter-widgets/controls",
            "_model_module_version": "1.5.0",
            "_model_name": "HTMLModel",
            "_view_count": null,
            "_view_module": "@jupyter-widgets/controls",
            "_view_module_version": "1.5.0",
            "_view_name": "HTMLView",
            "description": "",
            "description_tooltip": null,
            "layout": "IPY_MODEL_8654bff541154e7aa12cf2746308cd9e",
            "placeholder": "​",
            "style": "IPY_MODEL_ef46fa6e138c4abb85c6893fdad661a3",
            "value": " 1.34G/1.34G [00:05&lt;00:00, 249MB/s]"
          }
        },
        "2c19cb0cf32645e28a106a4491836829": {
          "model_module": "@jupyter-widgets/base",
          "model_name": "LayoutModel",
          "model_module_version": "1.2.0",
          "state": {
            "_model_module": "@jupyter-widgets/base",
            "_model_module_version": "1.2.0",
            "_model_name": "LayoutModel",
            "_view_count": null,
            "_view_module": "@jupyter-widgets/base",
            "_view_module_version": "1.2.0",
            "_view_name": "LayoutView",
            "align_content": null,
            "align_items": null,
            "align_self": null,
            "border": null,
            "bottom": null,
            "display": null,
            "flex": null,
            "flex_flow": null,
            "grid_area": null,
            "grid_auto_columns": null,
            "grid_auto_flow": null,
            "grid_auto_rows": null,
            "grid_column": null,
            "grid_gap": null,
            "grid_row": null,
            "grid_template_areas": null,
            "grid_template_columns": null,
            "grid_template_rows": null,
            "height": null,
            "justify_content": null,
            "justify_items": null,
            "left": null,
            "margin": null,
            "max_height": null,
            "max_width": null,
            "min_height": null,
            "min_width": null,
            "object_fit": null,
            "object_position": null,
            "order": null,
            "overflow": null,
            "overflow_x": null,
            "overflow_y": null,
            "padding": null,
            "right": null,
            "top": null,
            "visibility": null,
            "width": null
          }
        },
        "b8ecf938e227435188c275991f08c5f0": {
          "model_module": "@jupyter-widgets/base",
          "model_name": "LayoutModel",
          "model_module_version": "1.2.0",
          "state": {
            "_model_module": "@jupyter-widgets/base",
            "_model_module_version": "1.2.0",
            "_model_name": "LayoutModel",
            "_view_count": null,
            "_view_module": "@jupyter-widgets/base",
            "_view_module_version": "1.2.0",
            "_view_name": "LayoutView",
            "align_content": null,
            "align_items": null,
            "align_self": null,
            "border": null,
            "bottom": null,
            "display": null,
            "flex": null,
            "flex_flow": null,
            "grid_area": null,
            "grid_auto_columns": null,
            "grid_auto_flow": null,
            "grid_auto_rows": null,
            "grid_column": null,
            "grid_gap": null,
            "grid_row": null,
            "grid_template_areas": null,
            "grid_template_columns": null,
            "grid_template_rows": null,
            "height": null,
            "justify_content": null,
            "justify_items": null,
            "left": null,
            "margin": null,
            "max_height": null,
            "max_width": null,
            "min_height": null,
            "min_width": null,
            "object_fit": null,
            "object_position": null,
            "order": null,
            "overflow": null,
            "overflow_x": null,
            "overflow_y": null,
            "padding": null,
            "right": null,
            "top": null,
            "visibility": null,
            "width": null
          }
        },
        "3b15452a2c874d15a94a4d7d54f637a4": {
          "model_module": "@jupyter-widgets/controls",
          "model_name": "DescriptionStyleModel",
          "model_module_version": "1.5.0",
          "state": {
            "_model_module": "@jupyter-widgets/controls",
            "_model_module_version": "1.5.0",
            "_model_name": "DescriptionStyleModel",
            "_view_count": null,
            "_view_module": "@jupyter-widgets/base",
            "_view_module_version": "1.2.0",
            "_view_name": "StyleView",
            "description_width": ""
          }
        },
        "dbf999cab44a42419a270c8eb847224f": {
          "model_module": "@jupyter-widgets/base",
          "model_name": "LayoutModel",
          "model_module_version": "1.2.0",
          "state": {
            "_model_module": "@jupyter-widgets/base",
            "_model_module_version": "1.2.0",
            "_model_name": "LayoutModel",
            "_view_count": null,
            "_view_module": "@jupyter-widgets/base",
            "_view_module_version": "1.2.0",
            "_view_name": "LayoutView",
            "align_content": null,
            "align_items": null,
            "align_self": null,
            "border": null,
            "bottom": null,
            "display": null,
            "flex": null,
            "flex_flow": null,
            "grid_area": null,
            "grid_auto_columns": null,
            "grid_auto_flow": null,
            "grid_auto_rows": null,
            "grid_column": null,
            "grid_gap": null,
            "grid_row": null,
            "grid_template_areas": null,
            "grid_template_columns": null,
            "grid_template_rows": null,
            "height": null,
            "justify_content": null,
            "justify_items": null,
            "left": null,
            "margin": null,
            "max_height": null,
            "max_width": null,
            "min_height": null,
            "min_width": null,
            "object_fit": null,
            "object_position": null,
            "order": null,
            "overflow": null,
            "overflow_x": null,
            "overflow_y": null,
            "padding": null,
            "right": null,
            "top": null,
            "visibility": null,
            "width": null
          }
        },
        "e6d8b3aef0584fb1840858ef73f1c414": {
          "model_module": "@jupyter-widgets/controls",
          "model_name": "ProgressStyleModel",
          "model_module_version": "1.5.0",
          "state": {
            "_model_module": "@jupyter-widgets/controls",
            "_model_module_version": "1.5.0",
            "_model_name": "ProgressStyleModel",
            "_view_count": null,
            "_view_module": "@jupyter-widgets/base",
            "_view_module_version": "1.2.0",
            "_view_name": "StyleView",
            "bar_color": null,
            "description_width": ""
          }
        },
        "8654bff541154e7aa12cf2746308cd9e": {
          "model_module": "@jupyter-widgets/base",
          "model_name": "LayoutModel",
          "model_module_version": "1.2.0",
          "state": {
            "_model_module": "@jupyter-widgets/base",
            "_model_module_version": "1.2.0",
            "_model_name": "LayoutModel",
            "_view_count": null,
            "_view_module": "@jupyter-widgets/base",
            "_view_module_version": "1.2.0",
            "_view_name": "LayoutView",
            "align_content": null,
            "align_items": null,
            "align_self": null,
            "border": null,
            "bottom": null,
            "display": null,
            "flex": null,
            "flex_flow": null,
            "grid_area": null,
            "grid_auto_columns": null,
            "grid_auto_flow": null,
            "grid_auto_rows": null,
            "grid_column": null,
            "grid_gap": null,
            "grid_row": null,
            "grid_template_areas": null,
            "grid_template_columns": null,
            "grid_template_rows": null,
            "height": null,
            "justify_content": null,
            "justify_items": null,
            "left": null,
            "margin": null,
            "max_height": null,
            "max_width": null,
            "min_height": null,
            "min_width": null,
            "object_fit": null,
            "object_position": null,
            "order": null,
            "overflow": null,
            "overflow_x": null,
            "overflow_y": null,
            "padding": null,
            "right": null,
            "top": null,
            "visibility": null,
            "width": null
          }
        },
        "ef46fa6e138c4abb85c6893fdad661a3": {
          "model_module": "@jupyter-widgets/controls",
          "model_name": "DescriptionStyleModel",
          "model_module_version": "1.5.0",
          "state": {
            "_model_module": "@jupyter-widgets/controls",
            "_model_module_version": "1.5.0",
            "_model_name": "DescriptionStyleModel",
            "_view_count": null,
            "_view_module": "@jupyter-widgets/base",
            "_view_module_version": "1.2.0",
            "_view_name": "StyleView",
            "description_width": ""
          }
        }
      }
    }
  },
  "cells": [
    {
      "cell_type": "markdown",
      "source": [
        "## Imports"
      ],
      "metadata": {
        "id": "gn29odEJfpwt"
      }
    },
    {
      "cell_type": "code",
      "execution_count": null,
      "metadata": {
        "id": "WhegJBIOUm4j"
      },
      "outputs": [],
      "source": [
        "!pip install transformers\n",
        "!pip install datasets\n",
        "!pip install evaluate"
      ]
    },
    {
      "cell_type": "code",
      "source": [
        "import pandas as pd\n",
        "import numpy as np\n",
        "import evaluate\n",
        "from transformers import AutoTokenizer, AutoModelForSequenceClassification, TrainingArguments, Trainer, EvalPrediction\n",
        "from datasets import Dataset, load_dataset, Features, ClassLabel, Value, DatasetDict, set_caching_enabled\n",
        "from sklearn.metrics import accuracy_score, precision_recall_fscore_support, classification_report\n",
        "from matplotlib import pyplot as plt"
      ],
      "metadata": {
        "id": "EeQk84mMUt9f"
      },
      "execution_count": 2,
      "outputs": []
    },
    {
      "cell_type": "code",
      "source": [
        "set_caching_enabled(False)"
      ],
      "metadata": {
        "id": "xED9trIbSQ3N"
      },
      "execution_count": null,
      "outputs": []
    },
    {
      "cell_type": "markdown",
      "source": [
        "## Define the paths and experiment parameters"
      ],
      "metadata": {
        "id": "jhQpyW8Jfs-P"
      }
    },
    {
      "cell_type": "code",
      "source": [
        "from google.colab import drive\n",
        "drive.mount('/content/drive')"
      ],
      "metadata": {
        "id": "9Dnx_cg7Pbph"
      },
      "execution_count": null,
      "outputs": []
    },
    {
      "cell_type": "code",
      "source": [
        "project_path = \"/content/drive/MyDrive/University/Winter 23 Courses/CSI 5180 - AI Virtual Assistants/Project\"\n",
        "data_path = f\"{project_path}/data/original_dataset\"\n",
        "model_save_path = f\"{project_path}/models/bert_inscope_original_data/saved_models\"\n",
        "log_directory = f\"{project_path}/models/bert_inscope_original_data/logs\"\n",
        "plots_save_path = f\"{project_path}/models/bert_inscope_original_data/plots\""
      ],
      "metadata": {
        "id": "VKM-G2FaXiOK"
      },
      "execution_count": 5,
      "outputs": []
    },
    {
      "cell_type": "code",
      "source": [
        "# Parameters\n",
        "model_name = 'bert-large-uncased'\n",
        "learning_rate = 4.00e-05\n",
        "warmup_proportion = 0.1\n",
        "train_batch_size = 32\n",
        "num_train_epochs = 5\n",
        "gradient_accumulation_steps = 1\n",
        "num_labels = 150"
      ],
      "metadata": {
        "id": "UYWn6i10aaJp"
      },
      "execution_count": 6,
      "outputs": []
    },
    {
      "cell_type": "markdown",
      "source": [
        "## Load the train, val and test datasets into a Dataset object"
      ],
      "metadata": {
        "id": "b8MpjbFQc9tH"
      }
    },
    {
      "cell_type": "code",
      "source": [
        "train_data = pd.read_csv(f\"{data_path}/original_train_data.csv\")\n",
        "val_data = pd.read_csv(f\"{data_path}/original_val_data.csv\")\n",
        "test_data = pd.read_csv(f\"{data_path}/original_test_data.csv\")\n",
        "\n",
        "train_data = train_data.loc[train_data['label'] != 'oos']\n",
        "val_data = val_data.loc[val_data['label'] != 'oos']\n",
        "test_data = test_data.loc[test_data['label'] != 'oos']\n",
        "\n",
        "train_data.reset_index(drop=True, inplace=True)\n",
        "val_data.reset_index(drop=True, inplace=True)\n",
        "test_data.reset_index(drop=True, inplace=True)"
      ],
      "metadata": {
        "id": "P3kPwbjpXBrU"
      },
      "execution_count": 7,
      "outputs": []
    },
    {
      "cell_type": "code",
      "source": [
        "class_names = sorted(train_data[\"label\"].unique())\n",
        "dataset_features = Features({'query': Value('string'), 'label': ClassLabel(num_classes=150, names=class_names)})\n",
        "\n",
        "train_dataset = Dataset.from_pandas(train_data, features=dataset_features)\n",
        "val_dataset = Dataset.from_pandas(val_data, features=dataset_features)\n",
        "test_dataset = Dataset.from_pandas(test_data, features=dataset_features)\n",
        "\n",
        "dataset = DatasetDict()\n",
        "dataset['train'] = train_dataset\n",
        "dataset['validation'] = val_dataset\n",
        "dataset['test'] = test_dataset"
      ],
      "metadata": {
        "id": "uJ_gqLzhSVJA"
      },
      "execution_count": 8,
      "outputs": []
    },
    {
      "cell_type": "markdown",
      "source": [
        "## Explore the dataset"
      ],
      "metadata": {
        "id": "s5LfhUPEHjBB"
      }
    },
    {
      "cell_type": "code",
      "source": [
        "dataset"
      ],
      "metadata": {
        "id": "XlAHfr_8iNnC",
        "colab": {
          "base_uri": "https://localhost:8080/"
        },
        "outputId": "e26cb2e3-f5e8-4f04-ef34-3835fd3396b6"
      },
      "execution_count": 9,
      "outputs": [
        {
          "output_type": "execute_result",
          "data": {
            "text/plain": [
              "DatasetDict({\n",
              "    train: Dataset({\n",
              "        features: ['query', 'label'],\n",
              "        num_rows: 15000\n",
              "    })\n",
              "    validation: Dataset({\n",
              "        features: ['query', 'label'],\n",
              "        num_rows: 3000\n",
              "    })\n",
              "    test: Dataset({\n",
              "        features: ['query', 'label'],\n",
              "        num_rows: 4500\n",
              "    })\n",
              "})"
            ]
          },
          "metadata": {},
          "execution_count": 9
        }
      ]
    },
    {
      "cell_type": "code",
      "source": [
        "dataset['train'][0]"
      ],
      "metadata": {
        "id": "7X2NLIWUa3_J",
        "colab": {
          "base_uri": "https://localhost:8080/"
        },
        "outputId": "5e7e02ec-55cd-471f-9149-73cb7b06415e"
      },
      "execution_count": 10,
      "outputs": [
        {
          "output_type": "execute_result",
          "data": {
            "text/plain": [
              "{'query': 'what products are on my shopping list', 'label': 111}"
            ]
          },
          "metadata": {},
          "execution_count": 10
        }
      ]
    },
    {
      "cell_type": "code",
      "source": [
        "dataset['train'].features"
      ],
      "metadata": {
        "id": "UO4JFvnTfXKt",
        "colab": {
          "base_uri": "https://localhost:8080/"
        },
        "outputId": "da56c19e-4b54-4fb6-cdef-02891ef8e004"
      },
      "execution_count": 11,
      "outputs": [
        {
          "output_type": "execute_result",
          "data": {
            "text/plain": [
              "{'query': Value(dtype='string', id=None),\n",
              " 'label': ClassLabel(names=['accept_reservations', 'account_blocked', 'alarm', 'application_status', 'apr', 'are_you_a_bot', 'balance', 'bill_balance', 'bill_due', 'book_flight', 'book_hotel', 'calculator', 'calendar', 'calendar_update', 'calories', 'cancel', 'cancel_reservation', 'car_rental', 'card_declined', 'carry_on', 'change_accent', 'change_ai_name', 'change_language', 'change_speed', 'change_user_name', 'change_volume', 'confirm_reservation', 'cook_time', 'credit_limit', 'credit_limit_change', 'credit_score', 'current_location', 'damaged_card', 'date', 'definition', 'direct_deposit', 'directions', 'distance', 'do_you_have_pets', 'exchange_rate', 'expiration_date', 'find_phone', 'flight_status', 'flip_coin', 'food_last', 'freeze_account', 'fun_fact', 'gas', 'gas_type', 'goodbye', 'greeting', 'how_busy', 'how_old_are_you', 'improve_credit_score', 'income', 'ingredient_substitution', 'ingredients_list', 'insurance', 'insurance_change', 'interest_rate', 'international_fees', 'international_visa', 'jump_start', 'last_maintenance', 'lost_luggage', 'make_call', 'maybe', 'meal_suggestion', 'meaning_of_life', 'measurement_conversion', 'meeting_schedule', 'min_payment', 'mpg', 'new_card', 'next_holiday', 'next_song', 'no', 'nutrition_info', 'oil_change_how', 'oil_change_when', 'order', 'order_checks', 'order_status', 'pay_bill', 'payday', 'pin_change', 'play_music', 'plug_type', 'pto_balance', 'pto_request', 'pto_request_status', 'pto_used', 'recipe', 'redeem_rewards', 'reminder', 'reminder_update', 'repeat', 'replacement_card_duration', 'report_fraud', 'report_lost_card', 'reset_settings', 'restaurant_reservation', 'restaurant_reviews', 'restaurant_suggestion', 'rewards_balance', 'roll_dice', 'rollover_401k', 'routing', 'schedule_maintenance', 'schedule_meeting', 'share_location', 'shopping_list', 'shopping_list_update', 'smart_home', 'spelling', 'spending_history', 'sync_device', 'taxes', 'tell_joke', 'text', 'thank_you', 'time', 'timer', 'timezone', 'tire_change', 'tire_pressure', 'todo_list', 'todo_list_update', 'traffic', 'transactions', 'transfer', 'translate', 'travel_alert', 'travel_notification', 'travel_suggestion', 'uber', 'update_playlist', 'user_name', 'vaccines', 'w2', 'weather', 'what_are_your_hobbies', 'what_can_i_ask_you', 'what_is_your_name', 'what_song', 'where_are_you_from', 'whisper_mode', 'who_do_you_work_for', 'who_made_you', 'yes'], id=None)}"
            ]
          },
          "metadata": {},
          "execution_count": 11
        }
      ]
    },
    {
      "cell_type": "markdown",
      "source": [
        "## Tokenize the dataset"
      ],
      "metadata": {
        "id": "4WLHI74ldFgy"
      }
    },
    {
      "cell_type": "code",
      "source": [
        "def tokenize_function(examples):\n",
        "    return tokenizer(examples[\"query\"], padding=True, truncation=True, return_tensors=\"pt\")\n",
        "\n",
        "tokenizer = AutoTokenizer.from_pretrained(model_name)\n",
        "\n",
        "encoded_dataset = dataset.map(tokenize_function, batched=True)"
      ],
      "metadata": {
        "id": "UbEaPyGvZwNk"
      },
      "execution_count": null,
      "outputs": []
    },
    {
      "cell_type": "code",
      "source": [
        "example = encoded_dataset['train'][0]\n",
        "print(example.keys())\n",
        "print(example)"
      ],
      "metadata": {
        "id": "QHNwxHT2b6I8",
        "colab": {
          "base_uri": "https://localhost:8080/"
        },
        "outputId": "f4183994-d9a8-4b94-aaeb-c8d45c1be969"
      },
      "execution_count": 13,
      "outputs": [
        {
          "output_type": "stream",
          "name": "stdout",
          "text": [
            "dict_keys(['query', 'label', 'input_ids', 'token_type_ids', 'attention_mask'])\n",
            "{'query': 'what products are on my shopping list', 'label': 111, 'input_ids': [101, 2054, 3688, 2024, 2006, 2026, 6023, 2862, 102, 0, 0, 0, 0, 0, 0, 0, 0, 0, 0, 0, 0, 0, 0, 0, 0, 0, 0, 0, 0], 'token_type_ids': [0, 0, 0, 0, 0, 0, 0, 0, 0, 0, 0, 0, 0, 0, 0, 0, 0, 0, 0, 0, 0, 0, 0, 0, 0, 0, 0, 0, 0], 'attention_mask': [1, 1, 1, 1, 1, 1, 1, 1, 1, 0, 0, 0, 0, 0, 0, 0, 0, 0, 0, 0, 0, 0, 0, 0, 0, 0, 0, 0, 0]}\n"
          ]
        }
      ]
    },
    {
      "cell_type": "code",
      "source": [
        "tokenizer.decode(example['input_ids'])"
      ],
      "metadata": {
        "id": "TFconIDTcpJ9",
        "colab": {
          "base_uri": "https://localhost:8080/",
          "height": 36
        },
        "outputId": "b352cf8c-cb3e-4df2-a0f0-98a2f6e02d04"
      },
      "execution_count": 14,
      "outputs": [
        {
          "output_type": "execute_result",
          "data": {
            "text/plain": [
              "'[CLS] what products are on my shopping list [SEP] [PAD] [PAD] [PAD] [PAD] [PAD] [PAD] [PAD] [PAD] [PAD] [PAD] [PAD] [PAD] [PAD] [PAD] [PAD] [PAD] [PAD] [PAD] [PAD] [PAD]'"
            ],
            "application/vnd.google.colaboratory.intrinsic+json": {
              "type": "string"
            }
          },
          "metadata": {},
          "execution_count": 14
        }
      ]
    },
    {
      "cell_type": "markdown",
      "source": [
        "## Set up the model and Training Arguments"
      ],
      "metadata": {
        "id": "OFewBtYddJSW"
      }
    },
    {
      "cell_type": "code",
      "source": [
        "model = AutoModelForSequenceClassification.from_pretrained(model_name, num_labels=num_labels)"
      ],
      "metadata": {
        "id": "UIIXlbHucpD8",
        "colab": {
          "base_uri": "https://localhost:8080/",
          "height": 156,
          "referenced_widgets": [
            "b25a5e55fa4b492ca40ef708d236e45a",
            "dc5c4cf81820478ba496dfc5a46effdc",
            "e7a82abe2ae14ed3a55c4749c9aef6e3",
            "6601960433fc4e7799250dd2a876faa8",
            "2c19cb0cf32645e28a106a4491836829",
            "b8ecf938e227435188c275991f08c5f0",
            "3b15452a2c874d15a94a4d7d54f637a4",
            "dbf999cab44a42419a270c8eb847224f",
            "e6d8b3aef0584fb1840858ef73f1c414",
            "8654bff541154e7aa12cf2746308cd9e",
            "ef46fa6e138c4abb85c6893fdad661a3"
          ]
        },
        "outputId": "5adcd9ec-0d59-4b22-a9ea-39102944b009"
      },
      "execution_count": 15,
      "outputs": [
        {
          "output_type": "display_data",
          "data": {
            "text/plain": [
              "Downloading pytorch_model.bin:   0%|          | 0.00/1.34G [00:00<?, ?B/s]"
            ],
            "application/vnd.jupyter.widget-view+json": {
              "version_major": 2,
              "version_minor": 0,
              "model_id": "b25a5e55fa4b492ca40ef708d236e45a"
            }
          },
          "metadata": {}
        },
        {
          "output_type": "stream",
          "name": "stderr",
          "text": [
            "Some weights of the model checkpoint at bert-large-uncased were not used when initializing BertForSequenceClassification: ['cls.predictions.transform.LayerNorm.weight', 'cls.predictions.transform.dense.weight', 'cls.predictions.bias', 'cls.predictions.decoder.weight', 'cls.seq_relationship.weight', 'cls.predictions.transform.dense.bias', 'cls.predictions.transform.LayerNorm.bias', 'cls.seq_relationship.bias']\n",
            "- This IS expected if you are initializing BertForSequenceClassification from the checkpoint of a model trained on another task or with another architecture (e.g. initializing a BertForSequenceClassification model from a BertForPreTraining model).\n",
            "- This IS NOT expected if you are initializing BertForSequenceClassification from the checkpoint of a model that you expect to be exactly identical (initializing a BertForSequenceClassification model from a BertForSequenceClassification model).\n",
            "Some weights of BertForSequenceClassification were not initialized from the model checkpoint at bert-large-uncased and are newly initialized: ['classifier.bias', 'classifier.weight']\n",
            "You should probably TRAIN this model on a down-stream task to be able to use it for predictions and inference.\n"
          ]
        }
      ]
    },
    {
      "cell_type": "code",
      "source": [
        "args = TrainingArguments(\n",
        "    output_dir = model_save_path,\n",
        "    logging_dir = log_directory,\n",
        "    logging_strategy='epoch',\n",
        "    evaluation_strategy = \"epoch\",\n",
        "    save_strategy = \"no\",\n",
        "    learning_rate=learning_rate,\n",
        "    per_device_train_batch_size=train_batch_size,\n",
        "    per_device_eval_batch_size=train_batch_size,\n",
        "    gradient_accumulation_steps=gradient_accumulation_steps,\n",
        "    num_train_epochs=num_train_epochs,\n",
        ")"
      ],
      "metadata": {
        "id": "TgH7k_d6d7uV"
      },
      "execution_count": 16,
      "outputs": []
    },
    {
      "cell_type": "markdown",
      "source": [
        "## Define the compute metrics function to evaluate the model with the desired metrics"
      ],
      "metadata": {
        "id": "N5GZghCCcCR2"
      }
    },
    {
      "cell_type": "code",
      "source": [
        "def multi_label_metrics(predictions, labels):\n",
        "    y_true = labels\n",
        "    y_pred = predictions.argmax(axis=1)\n",
        "\n",
        "    precision, recall, f1, _ = precision_recall_fscore_support(y_true, y_pred, average=\"weighted\")\n",
        "    accuracy = accuracy_score(y_true, y_pred)\n",
        "    \n",
        "    metrics = {'accuracy': accuracy,\n",
        "               'precision': precision,\n",
        "               'recall': recall,\n",
        "               'f1': f1\n",
        "               }\n",
        "\n",
        "    return metrics\n",
        "\n",
        "def compute_metrics(p: EvalPrediction):\n",
        "    preds = p.predictions[0] if isinstance(p.predictions, tuple) else p.predictions\n",
        "    result = multi_label_metrics(predictions=preds, labels=p.label_ids)\n",
        "\n",
        "    return result"
      ],
      "metadata": {
        "id": "PEbpRPR5iUKz"
      },
      "execution_count": 17,
      "outputs": []
    },
    {
      "cell_type": "markdown",
      "source": [
        "## Train the model"
      ],
      "metadata": {
        "id": "l-5RGPzQce5b"
      }
    },
    {
      "cell_type": "code",
      "source": [
        "trainer = Trainer(\n",
        "    model,\n",
        "    args,\n",
        "    train_dataset=encoded_dataset[\"train\"],\n",
        "    eval_dataset=encoded_dataset[\"validation\"],\n",
        "    tokenizer=tokenizer,\n",
        "    compute_metrics=compute_metrics\n",
        ")"
      ],
      "metadata": {
        "id": "MFRG_xURcKh_"
      },
      "execution_count": 18,
      "outputs": []
    },
    {
      "cell_type": "code",
      "source": [
        "trainer.train()"
      ],
      "metadata": {
        "id": "gmxVSBk3cUvR",
        "colab": {
          "base_uri": "https://localhost:8080/",
          "height": 339
        },
        "outputId": "cdf98a99-3fa8-4255-9b59-65557db7afdb"
      },
      "execution_count": 19,
      "outputs": [
        {
          "output_type": "stream",
          "name": "stderr",
          "text": [
            "/usr/local/lib/python3.9/dist-packages/transformers/optimization.py:391: FutureWarning: This implementation of AdamW is deprecated and will be removed in a future version. Use the PyTorch implementation torch.optim.AdamW instead, or set `no_deprecation_warning=True` to disable this warning\n",
            "  warnings.warn(\n",
            "You're using a BertTokenizerFast tokenizer. Please note that with a fast tokenizer, using the `__call__` method is faster than using a method to encode the text followed by a call to the `pad` method to get a padded encoding.\n"
          ]
        },
        {
          "output_type": "display_data",
          "data": {
            "text/plain": [
              "<IPython.core.display.HTML object>"
            ],
            "text/html": [
              "\n",
              "    <div>\n",
              "      \n",
              "      <progress value='2345' max='2345' style='width:300px; height:20px; vertical-align: middle;'></progress>\n",
              "      [2345/2345 28:31, Epoch 5/5]\n",
              "    </div>\n",
              "    <table border=\"1\" class=\"dataframe\">\n",
              "  <thead>\n",
              " <tr style=\"text-align: left;\">\n",
              "      <th>Epoch</th>\n",
              "      <th>Training Loss</th>\n",
              "      <th>Validation Loss</th>\n",
              "      <th>Accuracy</th>\n",
              "      <th>Precision</th>\n",
              "      <th>Recall</th>\n",
              "      <th>F1</th>\n",
              "    </tr>\n",
              "  </thead>\n",
              "  <tbody>\n",
              "    <tr>\n",
              "      <td>1</td>\n",
              "      <td>1.969500</td>\n",
              "      <td>0.342975</td>\n",
              "      <td>0.943333</td>\n",
              "      <td>0.953837</td>\n",
              "      <td>0.943333</td>\n",
              "      <td>0.940344</td>\n",
              "    </tr>\n",
              "    <tr>\n",
              "      <td>2</td>\n",
              "      <td>0.137600</td>\n",
              "      <td>0.157622</td>\n",
              "      <td>0.969667</td>\n",
              "      <td>0.972065</td>\n",
              "      <td>0.969667</td>\n",
              "      <td>0.969375</td>\n",
              "    </tr>\n",
              "    <tr>\n",
              "      <td>3</td>\n",
              "      <td>0.043300</td>\n",
              "      <td>0.143766</td>\n",
              "      <td>0.972333</td>\n",
              "      <td>0.974025</td>\n",
              "      <td>0.972333</td>\n",
              "      <td>0.972131</td>\n",
              "    </tr>\n",
              "    <tr>\n",
              "      <td>4</td>\n",
              "      <td>0.019700</td>\n",
              "      <td>0.143025</td>\n",
              "      <td>0.973667</td>\n",
              "      <td>0.975355</td>\n",
              "      <td>0.973667</td>\n",
              "      <td>0.973441</td>\n",
              "    </tr>\n",
              "    <tr>\n",
              "      <td>5</td>\n",
              "      <td>0.011800</td>\n",
              "      <td>0.141126</td>\n",
              "      <td>0.974000</td>\n",
              "      <td>0.975772</td>\n",
              "      <td>0.974000</td>\n",
              "      <td>0.973807</td>\n",
              "    </tr>\n",
              "  </tbody>\n",
              "</table><p>"
            ]
          },
          "metadata": {}
        },
        {
          "output_type": "execute_result",
          "data": {
            "text/plain": [
              "TrainOutput(global_step=2345, training_loss=0.4363935549884463, metrics={'train_runtime': 1714.589, 'train_samples_per_second': 43.742, 'train_steps_per_second': 1.368, 'total_flos': 4491416481888384.0, 'train_loss': 0.4363935549884463, 'epoch': 5.0})"
            ]
          },
          "metadata": {},
          "execution_count": 19
        }
      ]
    },
    {
      "cell_type": "markdown",
      "source": [
        "## Evaluate the model on the validation set"
      ],
      "metadata": {
        "id": "9DLd8S3Ccj9T"
      }
    },
    {
      "cell_type": "code",
      "source": [
        "trainer.evaluate()"
      ],
      "metadata": {
        "id": "NTS7_3y2cjEi",
        "colab": {
          "base_uri": "https://localhost:8080/",
          "height": 193
        },
        "outputId": "87b797c0-c739-4c31-a538-737ba231589f"
      },
      "execution_count": 20,
      "outputs": [
        {
          "output_type": "display_data",
          "data": {
            "text/plain": [
              "<IPython.core.display.HTML object>"
            ],
            "text/html": [
              "\n",
              "    <div>\n",
              "      \n",
              "      <progress value='94' max='94' style='width:300px; height:20px; vertical-align: middle;'></progress>\n",
              "      [94/94 00:17]\n",
              "    </div>\n",
              "    "
            ]
          },
          "metadata": {}
        },
        {
          "output_type": "execute_result",
          "data": {
            "text/plain": [
              "{'eval_loss': 0.14112591743469238,\n",
              " 'eval_accuracy': 0.974,\n",
              " 'eval_precision': 0.97577241192573,\n",
              " 'eval_recall': 0.974,\n",
              " 'eval_f1': 0.9738067085266238,\n",
              " 'eval_runtime': 17.4672,\n",
              " 'eval_samples_per_second': 171.751,\n",
              " 'eval_steps_per_second': 5.382,\n",
              " 'epoch': 5.0}"
            ]
          },
          "metadata": {},
          "execution_count": 20
        }
      ]
    },
    {
      "cell_type": "markdown",
      "source": [
        "## Evaluate the model on the test set"
      ],
      "metadata": {
        "id": "sNTRrR0ndDmz"
      }
    },
    {
      "cell_type": "code",
      "source": [
        "test_eval = trainer.predict(encoded_dataset[\"test\"])"
      ],
      "metadata": {
        "id": "BHUlmGHhdM4d",
        "colab": {
          "base_uri": "https://localhost:8080/",
          "height": 17
        },
        "outputId": "588fa008-4d20-4610-b66d-2d59254e5fec"
      },
      "execution_count": 21,
      "outputs": [
        {
          "output_type": "display_data",
          "data": {
            "text/plain": [
              "<IPython.core.display.HTML object>"
            ],
            "text/html": []
          },
          "metadata": {}
        }
      ]
    },
    {
      "cell_type": "code",
      "source": [
        "test_preds = test_eval.predictions.argmax(-1)\n",
        "test_labels = test_eval.label_ids\n",
        "\n",
        "report = classification_report(test_labels, test_preds, target_names=class_names)\n",
        "\n",
        "print(\"Classification report:\")\n",
        "print(report)"
      ],
      "metadata": {
        "id": "Mt0O4-hhvIXW",
        "colab": {
          "base_uri": "https://localhost:8080/"
        },
        "outputId": "0f13ad94-36d0-4399-e5d0-a747a1fdb6c0"
      },
      "execution_count": 22,
      "outputs": [
        {
          "output_type": "stream",
          "name": "stdout",
          "text": [
            "Classification report:\n",
            "                           precision    recall  f1-score   support\n",
            "\n",
            "      accept_reservations       0.94      0.97      0.95        30\n",
            "          account_blocked       0.97      0.93      0.95        30\n",
            "                    alarm       1.00      0.97      0.98        30\n",
            "       application_status       1.00      1.00      1.00        30\n",
            "                      apr       0.97      1.00      0.98        30\n",
            "            are_you_a_bot       1.00      1.00      1.00        30\n",
            "                  balance       0.97      1.00      0.98        30\n",
            "             bill_balance       0.96      0.90      0.93        30\n",
            "                 bill_due       0.85      0.97      0.91        30\n",
            "              book_flight       1.00      0.97      0.98        30\n",
            "               book_hotel       0.97      1.00      0.98        30\n",
            "               calculator       0.93      0.93      0.93        30\n",
            "                 calendar       0.96      0.90      0.93        30\n",
            "          calendar_update       0.97      0.97      0.97        30\n",
            "                 calories       1.00      1.00      1.00        30\n",
            "                   cancel       0.97      1.00      0.98        30\n",
            "       cancel_reservation       0.97      1.00      0.98        30\n",
            "               car_rental       1.00      1.00      1.00        30\n",
            "            card_declined       1.00      0.93      0.97        30\n",
            "                 carry_on       1.00      1.00      1.00        30\n",
            "            change_accent       1.00      1.00      1.00        30\n",
            "           change_ai_name       0.83      0.97      0.89        30\n",
            "          change_language       0.94      1.00      0.97        30\n",
            "             change_speed       1.00      0.97      0.98        30\n",
            "         change_user_name       0.97      0.97      0.97        30\n",
            "            change_volume       0.96      0.83      0.89        30\n",
            "      confirm_reservation       1.00      1.00      1.00        30\n",
            "                cook_time       1.00      1.00      1.00        30\n",
            "             credit_limit       0.97      0.93      0.95        30\n",
            "      credit_limit_change       0.97      0.93      0.95        30\n",
            "             credit_score       0.94      0.97      0.95        30\n",
            "         current_location       0.97      1.00      0.98        30\n",
            "             damaged_card       0.97      1.00      0.98        30\n",
            "                     date       1.00      1.00      1.00        30\n",
            "               definition       0.97      1.00      0.98        30\n",
            "           direct_deposit       1.00      1.00      1.00        30\n",
            "               directions       1.00      1.00      1.00        30\n",
            "                 distance       0.97      0.97      0.97        30\n",
            "         do_you_have_pets       1.00      1.00      1.00        30\n",
            "            exchange_rate       0.97      1.00      0.98        30\n",
            "          expiration_date       0.94      0.97      0.95        30\n",
            "               find_phone       0.97      1.00      0.98        30\n",
            "            flight_status       1.00      1.00      1.00        30\n",
            "                flip_coin       1.00      1.00      1.00        30\n",
            "                food_last       1.00      0.97      0.98        30\n",
            "           freeze_account       0.94      1.00      0.97        30\n",
            "                 fun_fact       1.00      1.00      1.00        30\n",
            "                      gas       1.00      1.00      1.00        30\n",
            "                 gas_type       1.00      1.00      1.00        30\n",
            "                  goodbye       0.97      1.00      0.98        30\n",
            "                 greeting       0.94      1.00      0.97        30\n",
            "                 how_busy       1.00      0.93      0.97        30\n",
            "          how_old_are_you       1.00      0.97      0.98        30\n",
            "     improve_credit_score       0.94      0.97      0.95        30\n",
            "                   income       0.97      0.97      0.97        30\n",
            "  ingredient_substitution       1.00      0.97      0.98        30\n",
            "         ingredients_list       0.96      0.90      0.93        30\n",
            "                insurance       1.00      1.00      1.00        30\n",
            "         insurance_change       1.00      0.97      0.98        30\n",
            "            interest_rate       1.00      0.97      0.98        30\n",
            "       international_fees       0.97      1.00      0.98        30\n",
            "       international_visa       1.00      1.00      1.00        30\n",
            "               jump_start       1.00      1.00      1.00        30\n",
            "         last_maintenance       1.00      1.00      1.00        30\n",
            "             lost_luggage       1.00      1.00      1.00        30\n",
            "                make_call       0.88      0.97      0.92        30\n",
            "                    maybe       1.00      1.00      1.00        30\n",
            "          meal_suggestion       0.84      0.90      0.87        30\n",
            "          meaning_of_life       1.00      1.00      1.00        30\n",
            "   measurement_conversion       1.00      0.97      0.98        30\n",
            "         meeting_schedule       0.94      1.00      0.97        30\n",
            "              min_payment       0.97      1.00      0.98        30\n",
            "                      mpg       0.94      1.00      0.97        30\n",
            "                 new_card       0.94      1.00      0.97        30\n",
            "             next_holiday       0.97      1.00      0.98        30\n",
            "                next_song       0.94      1.00      0.97        30\n",
            "                       no       1.00      1.00      1.00        30\n",
            "           nutrition_info       1.00      1.00      1.00        30\n",
            "           oil_change_how       0.91      0.97      0.94        30\n",
            "          oil_change_when       0.90      0.93      0.92        30\n",
            "                    order       0.97      0.93      0.95        30\n",
            "             order_checks       1.00      1.00      1.00        30\n",
            "             order_status       0.97      0.97      0.97        30\n",
            "                 pay_bill       0.97      0.93      0.95        30\n",
            "                   payday       1.00      0.93      0.97        30\n",
            "               pin_change       1.00      0.83      0.91        30\n",
            "               play_music       0.96      0.90      0.93        30\n",
            "                plug_type       1.00      0.97      0.98        30\n",
            "              pto_balance       0.97      0.97      0.97        30\n",
            "              pto_request       0.97      0.97      0.97        30\n",
            "       pto_request_status       0.97      0.97      0.97        30\n",
            "                 pto_used       0.97      0.97      0.97        30\n",
            "                   recipe       0.87      0.90      0.89        30\n",
            "           redeem_rewards       0.96      0.83      0.89        30\n",
            "                 reminder       1.00      0.97      0.98        30\n",
            "          reminder_update       0.97      0.97      0.97        30\n",
            "                   repeat       0.97      1.00      0.98        30\n",
            "replacement_card_duration       0.96      0.90      0.93        30\n",
            "             report_fraud       0.86      0.83      0.85        30\n",
            "         report_lost_card       0.97      0.93      0.95        30\n",
            "           reset_settings       1.00      1.00      1.00        30\n",
            "   restaurant_reservation       0.90      0.93      0.92        30\n",
            "       restaurant_reviews       1.00      0.87      0.93        30\n",
            "    restaurant_suggestion       1.00      0.97      0.98        30\n",
            "          rewards_balance       0.85      0.97      0.91        30\n",
            "                roll_dice       1.00      1.00      1.00        30\n",
            "            rollover_401k       1.00      1.00      1.00        30\n",
            "                  routing       1.00      1.00      1.00        30\n",
            "     schedule_maintenance       0.96      0.90      0.93        30\n",
            "         schedule_meeting       0.97      1.00      0.98        30\n",
            "           share_location       1.00      0.97      0.98        30\n",
            "            shopping_list       1.00      0.90      0.95        30\n",
            "     shopping_list_update       0.97      1.00      0.98        30\n",
            "               smart_home       1.00      0.97      0.98        30\n",
            "                 spelling       0.97      0.97      0.97        30\n",
            "         spending_history       0.90      0.93      0.92        30\n",
            "              sync_device       1.00      1.00      1.00        30\n",
            "                    taxes       1.00      1.00      1.00        30\n",
            "                tell_joke       1.00      1.00      1.00        30\n",
            "                     text       1.00      0.93      0.97        30\n",
            "                thank_you       0.97      1.00      0.98        30\n",
            "                     time       0.97      0.97      0.97        30\n",
            "                    timer       0.97      0.97      0.97        30\n",
            "                 timezone       1.00      0.97      0.98        30\n",
            "              tire_change       1.00      0.97      0.98        30\n",
            "            tire_pressure       0.97      1.00      0.98        30\n",
            "                todo_list       0.94      1.00      0.97        30\n",
            "         todo_list_update       1.00      1.00      1.00        30\n",
            "                  traffic       1.00      1.00      1.00        30\n",
            "             transactions       0.81      0.87      0.84        30\n",
            "                 transfer       1.00      0.93      0.97        30\n",
            "                translate       0.97      0.97      0.97        30\n",
            "             travel_alert       1.00      1.00      1.00        30\n",
            "      travel_notification       1.00      0.97      0.98        30\n",
            "        travel_suggestion       0.94      1.00      0.97        30\n",
            "                     uber       1.00      1.00      1.00        30\n",
            "          update_playlist       1.00      1.00      1.00        30\n",
            "                user_name       1.00      0.97      0.98        30\n",
            "                 vaccines       1.00      1.00      1.00        30\n",
            "                       w2       0.97      1.00      0.98        30\n",
            "                  weather       0.97      1.00      0.98        30\n",
            "    what_are_your_hobbies       1.00      1.00      1.00        30\n",
            "       what_can_i_ask_you       1.00      0.97      0.98        30\n",
            "        what_is_your_name       0.97      0.93      0.95        30\n",
            "                what_song       1.00      1.00      1.00        30\n",
            "       where_are_you_from       1.00      0.90      0.95        30\n",
            "             whisper_mode       0.91      1.00      0.95        30\n",
            "      who_do_you_work_for       0.97      0.97      0.97        30\n",
            "             who_made_you       0.88      1.00      0.94        30\n",
            "                      yes       1.00      0.87      0.93        30\n",
            "\n",
            "                 accuracy                           0.97      4500\n",
            "                macro avg       0.97      0.97      0.97      4500\n",
            "             weighted avg       0.97      0.97      0.97      4500\n",
            "\n"
          ]
        }
      ]
    },
    {
      "cell_type": "code",
      "source": [
        "trainer.save_model(model_save_path)"
      ],
      "metadata": {
        "id": "n7T59VOPCfVB"
      },
      "execution_count": 23,
      "outputs": []
    }
  ]
}